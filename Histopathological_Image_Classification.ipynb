{
 "cells": [
  {
   "cell_type": "markdown",
   "id": "a0eb7b6a",
   "metadata": {},
   "source": [
    "# Rapport data challenge"
   ]
  },
  {
   "cell_type": "markdown",
   "id": "57bdea69",
   "metadata": {},
   "source": [
    "## Résumé"
   ]
  },
  {
   "cell_type": "markdown",
   "id": "0e256e74",
   "metadata": {},
   "source": [
    "Pour obtenir un F1-score optimal, les paramètres suivants ont été utilisés :\n",
    "* Classifieur **SVM avec kernel Tanimoto**, paramètre de régularisation **C=6**\n",
    "* 7 feature extractors\n",
    "  1) Parameter-Free Threshold Adjacency Statistics\n",
    "  2) Statistiques des canaux de couleur (moyenne, écart-type, asymétrie, kurtosis)\n",
    "  3) Hu Moments\n",
    "  4) Features de texture Haralick (distance=2, moyenne Point-to-Point et 14 features calculées)\n",
    "  5) Histogramme de couleurs avec 11 bins\n",
    "  6) Local Binary Patterning, avec un rayon de 9 pixels et 72 points\n",
    "  7) Descripteurs SIFT, clusterisés avec 300 centroides"
   ]
  },
  {
   "cell_type": "markdown",
   "id": "ff9a49d1",
   "metadata": {},
   "source": [
    "## Import des librairies et des données"
   ]
  },
  {
   "cell_type": "code",
   "execution_count": 142,
   "id": "4c7d300f",
   "metadata": {},
   "outputs": [],
   "source": [
    "import matplotlib.pyplot as plt\n",
    "import numpy as np\n",
    "import os\n",
    "from tqdm.notebook import tqdm\n",
    "from PIL import Image\n",
    "from sklearn.svm import SVC\n",
    "from sklearn.ensemble import RandomForestClassifier, GradientBoostingClassifier, AdaBoostClassifier\n",
    "from sklearn.decomposition import PCA, KernelPCA\n",
    "from sklearn.neighbors import KNeighborsClassifier\n",
    "from sklearn.discriminant_analysis import LinearDiscriminantAnalysis, QuadraticDiscriminantAnalysis\n",
    "from sklearn.linear_model import LogisticRegression\n",
    "from sklearn.cluster import KMeans\n",
    "from sklearn.preprocessing import StandardScaler\n",
    "from sklearn.metrics import f1_score\n",
    "from sklearn.model_selection import cross_val_score, train_test_split, LeaveOneOut\n",
    "from scipy.stats import skew, kurtosis\n",
    "from datetime import datetime\n",
    "import pandas as pd\n",
    "import cv2\n",
    "import mahotas\n",
    "from mahotas.features import surf\n",
    "from skimage.feature import local_binary_pattern\n",
    "import umap.umap_ as umap\n",
    "import pykernels\n",
    "from tabulate import tabulate\n",
    "import copy\n",
    "import itertools"
   ]
  },
  {
   "cell_type": "code",
   "execution_count": 2,
   "id": "48a5ce9d",
   "metadata": {},
   "outputs": [],
   "source": [
    "class_mapping = {\"F\":1, \"DC\":2, \"PC\":3, \"PT\":4, \"MC\":5, \"LC\":6, \"A\":7, \"TA\":8}\n",
    "# Liste contenant le nom des fichiers de Train\n",
    "files_train = [f\"data-challenge/Train/{f}\" for f in os.listdir(path=\"data-challenge/Train/\")]\n",
    "# Liste contenant le nom des fichiers de Test\n",
    "files_test = [f\"data-challenge/Test/SOB_{i}.png\" for i in range(1, 208)]\n",
    "y_train = np.array([int(class_mapping[f.split(\"_\")[2].split(\"-\")[0]]) for f in files_train])"
   ]
  },
  {
   "cell_type": "code",
   "execution_count": 3,
   "id": "9937879b",
   "metadata": {},
   "outputs": [
    {
     "data": {
      "image/png": "[encoded data removed]",
      "text/plain": [
       "<Figure size 500x400 with 1 Axes>"
      ]
     },
     "metadata": {},
     "output_type": "display_data"
    }
   ],
   "source": [
    "label, count = np.unique(y_train, return_counts=True)\n",
    "fig, ax = plt.subplots(figsize=(5, 4))\n",
    "bars = ax.bar(label, count, width=0.6)\n",
    "ax.bar_label(bars)\n",
    "ax.set_xlabel(\"Classe\")\n",
    "ax.set_ylabel(\"Nombre d'observations\")\n",
    "ax.set_title(\"Nombre d'observations par classe\")\n",
    "plt.show()"
   ]
  },
  {
   "cell_type": "markdown",
   "id": "72e425ac",
   "metadata": {},
   "source": [
    "On observe que le jeu d'entraînement est déséquilibré, les classes 6 et 8 sont sous-représentées. Le nombre minimal d'observations dans une classe est de 16."
   ]
  },
  {
   "cell_type": "markdown",
   "id": "1d7b6169",
   "metadata": {},
   "source": [
    "## Méthodologie"
   ]
  },
  {
   "cell_type": "markdown",
   "id": "19697eb1",
   "metadata": {},
   "source": [
    "&nbsp;&nbsp;D'après l'état de l'art, les meilleurs résultats pour la classification d'images histopathologiques de tumeurs du sein sont tous obtenus avec des réseaux de neurones convolutionnels. Cependant, notre jeu de données ne contient que 422 images d'entraînement, ce qui à première vue semble insuffisant pour entraîner un réseau de neurones performant. J'ai donc préféré adopter une approche basée sur du feature engineering avec un classifieur basé sur du machine learning classique. <br>\n",
    "\n",
    "\n",
    "&nbsp;&nbsp;Je me suis inspiré des méthodes décrites dans l'introduction de l'article suivant (https://arxiv.org/pdf/1811.04241.pdf) pour sélectionner les features les plus intéressantes à tester en priorité : <br>\n",
    "&nbsp;&nbsp;&nbsp;&nbsp;&nbsp;&nbsp;*Before the deep learning revolution, machine learning approaches including the\n",
    "Support Vector Machine (SVM), Principle Component Analysis (PCA), and Random Forest (RF) were used to study\n",
    "data whose features were extracted with **Scale Invariant Feature Extraction (SIFT)**, **Local Binary Patterning (LBP)**, **Local Phase Quantization (LPQ)**, the **Gray-Level Co-occurrence Matrix (GLCM)**, **Threshold Adjacency Statistics (TAS)**, and **Parameter Free TAS (PFTAS)**. In 2016, one of the very popular databases for BC classification problem was released, and one research group reported approximately 85.1% accuracy utilizing SVM and PFTAS features for patient-level analysis, which was the highest recognition accuracy at the time.*"
   ]
  },
  {
   "cell_type": "markdown",
   "id": "9dba0c61",
   "metadata": {},
   "source": [
    "Ma démarche de création de classifieur optimal peut se résumer en 3 étapes principales :\n",
    "1) <u>Sélection d'un classifieur </u>: Parmi les différentes méthodes d'extraction citées ci-dessus, certaines ne nécessitent peu ou pas de configuration pour générer des features (PFTAS, Haralick, Hu Moments). J'ai donc commencé par tester différents classifieurs sur les features extraites avec ces méthodes pour sélectionner un seul classifieur plus performant. <br>\n",
    "2) <u> Optimisation de features pour le classifieur retenu</u>: D'autres méthodes d'extraction se basent sur des features locales, ou ont besoin de plus de paramètres pour être configurées (Histogramme de couleurs, LBP, SIFT). J'ai donc configuré ces méthodes d'extraction pour fournir unitairement le score le plus élevé avec le classifieur retenu à l'étape 1.<br>\n",
    "3) <u>Optimisation de la combinaison des features </u>: Enfin, après combinaison des features, j'ai réoptimisé la configuration de la génération des features pour obtenir le meilleur score possible avec l'ensemble des features."
   ]
  },
  {
   "cell_type": "markdown",
   "id": "8a5a3845",
   "metadata": {},
   "source": [
    "&nbsp;&nbsp;Pour ce qui est de la méthodologie de test, le jeu d'entraînement ne comporte que 422 images. **Il se prête donc assez mal à un découpage `train_test_split` classique**. Le jeu d'entraînement étant petit, il est improbable qu'il contienne toute la variance de chaque classe. Diminuer ce jeu d'entraînement pour réaliser un jeu unique de cross validation semble donc une mauvaise idée, car il risque de créer de l'overfitting sur le jeu de cross validation ainsi créé, et de l'underfitting global sur la distribution des images. <br>\n",
    "&nbsp;&nbsp;**J'ai donc préféré utiliser la méthode `cross_val_score` de scikit-learn** pour tester les hyperparamètres de mes différents modèles, et comparer les modèles entre eux. L'évaluation du data-challenge étant basée sur le F1-Score `\"weigthed\"`, je n'ai utilisé `cross_val_score` qu'avec le paramètre `scoring=\"f1_weighted\"`, et conservé la moyenne des scores obtenus sur chaque fold comme métrique. Le jeu d'entraînement étant petit, un nombre de folds important permet de maximiser l'information apprise par chaque modèle, et de réduire la variance entre les scores obtenus sur chaque fold. J'ai donc maximisé le paramètre `cv` lors de l'entraînement. Dans notre cas, le maximum attribuable à `cv` est 16, car c'est le nombre d'observations que contient la classe la moins représentée (classes 6 et 8). <br>\n",
    "&nbsp;&nbsp;Dans la dernière étape, j'ai **utilisé la méthode de cross-validation `Leave-One-Out`** fournie par scikit-learn. Cette méthode permet d'avoir une évaluation plus robuste des performances du modèle testé, et donc d'avoir une évaluation plus précise du modèle avant utilisation sur le jeu de test. Cependant, elle est également plus calculatoire (421 fits réalisés pour chaque test), et l'utiliser dès le début aurait été très long coûteux à une étape ne nécessitant pas encore d'optimisation."
   ]
  },
  {
   "cell_type": "markdown",
   "id": "d423e769",
   "metadata": {},
   "source": [
    "## Sélection d'un classifieur"
   ]
  },
  {
   "cell_type": "markdown",
   "id": "ef3cbb6e",
   "metadata": {},
   "source": [
    "Les différents classifieurs testés ont été les suivants:\n",
    "* SVM\n",
    "* Random Forest\n",
    "* Gradient Boosting\n",
    "* K-Nearest Neighbors\n",
    "* LDA\n",
    "\n",
    "RandomForest et GradientBoosting ont un grand nombre d'hyperparamètres, qui nécessitent d'être combinés pour aboutir à une augmentation importante du score. Ces modèles ont donc été testés avec des paramètres de bases, et leurs hyperparamètres optimisés uniquement si les scores qu'ils fournissent semblent le justifier. <br>\n",
    "Différents tests ont également été réalisés avec PCA, afin de réduire la dimension des features avant classification. Les résultats n'étaient pas concluants, et n'ont donc pas été inclus dans ce rapport pour ne pas l'alourdir (les méthodes avec kernel fonctionnent très bien avec un grand nombre de features)."
   ]
  },
  {
   "cell_type": "markdown",
   "id": "ac3ff4c0",
   "metadata": {},
   "source": [
    "### Parameter-Free Threshold Adjacency Statistics (PFTAS)"
   ]
  },
  {
   "cell_type": "markdown",
   "id": "0f39f470",
   "metadata": {},
   "source": [
    "Il est possible d'extraire les features PFTAS sur les images en noir et blanc, ce qui génère 54 features au lieu de 162. Les différents classifieurs ont été testés sur ces 54 features, mais obtenaient de manière unanime des scores moins bon qu'avec les 162 features extraites sur les images couleurs. Pour ne pas alourdir davantage ce rapport, ces résultats n'ont pas été intégrés à ce rapport. Par la suite, lorsqu'un extracteur de feature fonctionne sur des images couleur, il a toujours été utilisé sur les images couleur pour maximiser les informations disponibles. <br>\n",
    "PFTAS est une feature d'image globale, qui ne nécessite pas de configuration particulière lors de l'utilisation de l'API Mahotas."
   ]
  },
  {
   "cell_type": "code",
   "execution_count": 4,
   "id": "4d606d51",
   "metadata": {},
   "outputs": [
    {
     "data": {
      "text/plain": [
       "((422, 162), (207, 162))"
      ]
     },
     "execution_count": 4,
     "metadata": {},
     "output_type": "execute_result"
    }
   ],
   "source": [
    "pftas = np.array([mahotas.features.pftas(np.array(Image.open(f))) for f in files_train])\n",
    "pftas_test = np.array([mahotas.features.pftas(np.array(Image.open(f))) for f in files_test])\n",
    "pftas.shape, pftas_test.shape"
   ]
  },
  {
   "cell_type": "code",
   "execution_count": 5,
   "id": "e826b477",
   "metadata": {},
   "outputs": [],
   "source": [
    "scaler = StandardScaler()\n",
    "pftas_scaled = scaler.fit_transform(pftas)"
   ]
  },
  {
   "cell_type": "code",
   "execution_count": 6,
   "id": "d6c0c9dc",
   "metadata": {},
   "outputs": [
    {
     "data": {
      "application/vnd.jupyter.widget-view+json": {
       "model_id": "d0ab8c462674452d860667f98984eadc",
       "version_major": 2,
       "version_minor": 0
      },
      "text/plain": [
       "  0%|          | 0/100 [00:00<?, ?it/s]"
      ]
     },
     "metadata": {},
     "output_type": "display_data"
    },
    {
     "name": "stdout",
     "output_type": "stream",
     "text": [
      "Best score for SVM is 0.8209024919762099 for C = 17\n"
     ]
    }
   ],
   "source": [
    "reg = range(1, 101)\n",
    "score = []\n",
    "for c in tqdm(reg):\n",
    "    svm = SVC(C=c)\n",
    "    score.append(np.mean(cross_val_score(svm, pftas_scaled, y_train, cv=16, scoring=\"f1_weighted\")))\n",
    "print(f\"Best score for SVM is {np.max(score)} for C = {np.argmax(score) + 1}\")\n",
    "score_svm = np.max(score)"
   ]
  },
  {
   "cell_type": "code",
   "execution_count": 7,
   "id": "67d83ad7",
   "metadata": {},
   "outputs": [
    {
     "name": "stdout",
     "output_type": "stream",
     "text": [
      "Score for Random Forest is 0.7732068481534293.\n"
     ]
    }
   ],
   "source": [
    "rfc = RandomForestClassifier()\n",
    "score_rfc = np.mean(cross_val_score(rfc, pftas, y_train, cv=16, scoring=\"f1_weighted\"))\n",
    "print(f\"Score for Random Forest is {score_rfc}.\")"
   ]
  },
  {
   "cell_type": "code",
   "execution_count": 8,
   "id": "2b324324",
   "metadata": {},
   "outputs": [
    {
     "name": "stdout",
     "output_type": "stream",
     "text": [
      "Score for Gradient Boosting is 0.7514329252577117.\n"
     ]
    }
   ],
   "source": [
    "gboost = GradientBoostingClassifier()\n",
    "score_gboost = np.mean(cross_val_score(gboost, pftas, y_train, cv=16, scoring=\"f1_weighted\"))\n",
    "print(f\"Score for Gradient Boosting is {score_gboost}.\")"
   ]
  },
  {
   "cell_type": "code",
   "execution_count": 9,
   "id": "2a207515",
   "metadata": {},
   "outputs": [
    {
     "data": {
      "application/vnd.jupyter.widget-view+json": {
       "model_id": "01dda4c4b89a43049811854fa40267af",
       "version_major": 2,
       "version_minor": 0
      },
      "text/plain": [
       "  0%|          | 0/100 [00:00<?, ?it/s]"
      ]
     },
     "metadata": {},
     "output_type": "display_data"
    },
    {
     "name": "stdout",
     "output_type": "stream",
     "text": [
      "Best score for KNN is 0.7631828834152552 for k = 1\n"
     ]
    }
   ],
   "source": [
    "neigh = range(1, 101)\n",
    "score = []\n",
    "for k in tqdm(neigh):\n",
    "    knn = KNeighborsClassifier(n_neighbors=k)\n",
    "    score.append(np.mean(cross_val_score(knn, pftas_scaled, y_train, cv=16, scoring=\"f1_weighted\")))\n",
    "print(f\"Best score for KNN is {np.max(score)} for k = {np.argmax(score) + 1}\")\n",
    "score_knn = np.max(score)"
   ]
  },
  {
   "cell_type": "code",
   "execution_count": 10,
   "id": "bfd5ff62",
   "metadata": {},
   "outputs": [
    {
     "name": "stdout",
     "output_type": "stream",
     "text": [
      "Score for LDA classifier is 0.7229427391419913.\n"
     ]
    }
   ],
   "source": [
    "lda = LinearDiscriminantAnalysis()\n",
    "score_lda = np.mean(cross_val_score(lda, pftas, y_train, cv=16, scoring=\"f1_weighted\"))\n",
    "print(f\"Score for LDA classifier is {score_lda}.\")"
   ]
  },
  {
   "cell_type": "code",
   "execution_count": 11,
   "id": "f22e722f",
   "metadata": {},
   "outputs": [
    {
     "name": "stdout",
     "output_type": "stream",
     "text": [
      "Score for LDA classifier is 0.7664051182080028.\n"
     ]
    }
   ],
   "source": [
    "lr = LogisticRegression(max_iter=500)\n",
    "score_lr = np.mean(cross_val_score(lr, pftas_scaled, y_train, cv=16, scoring=\"f1_weighted\"))\n",
    "print(f\"Score for Logistic Regression classifier is {score_lr}.\")"
   ]
  },
  {
   "cell_type": "code",
   "execution_count": 12,
   "id": "f80db3c1",
   "metadata": {},
   "outputs": [
    {
     "name": "stdout",
     "output_type": "stream",
     "text": [
      "Récapitulatif des F1-scores obtenus par Cross Validation\n"
     ]
    },
    {
     "data": {
      "text/html": [
       "<table>\n",
       "<thead>\n",
       "<tr><th>Feature  </th><th style=\"text-align: center;\"> SVM </th><th style=\"text-align: center;\"> RandomForest </th><th style=\"text-align: center;\"> GradientBoosting </th><th style=\"text-align: center;\"> KNN </th><th style=\"text-align: center;\"> LDA </th><th style=\"text-align: center;\"> LogisticRegression </th></tr>\n",
       "</thead>\n",
       "<tbody>\n",
       "<tr><td>PFTAS    </td><td style=\"text-align: center;\">0.821</td><td style=\"text-align: center;\">    0.773     </td><td style=\"text-align: center;\">      0.751       </td><td style=\"text-align: center;\">0.763</td><td style=\"text-align: center;\">0.723</td><td style=\"text-align: center;\">       0.766        </td></tr>\n",
       "</tbody>\n",
       "</table>"
      ],
      "text/plain": [
       "'<table>\\n<thead>\\n<tr><th>Feature  </th><th style=\"text-align: center;\"> SVM </th><th style=\"text-align: center;\"> RandomForest </th><th style=\"text-align: center;\"> GradientBoosting </th><th style=\"text-align: center;\"> KNN </th><th style=\"text-align: center;\"> LDA </th><th style=\"text-align: center;\"> LogisticRegression </th></tr>\\n</thead>\\n<tbody>\\n<tr><td>PFTAS    </td><td style=\"text-align: center;\">0.821</td><td style=\"text-align: center;\">    0.773     </td><td style=\"text-align: center;\">      0.751       </td><td style=\"text-align: center;\">0.763</td><td style=\"text-align: center;\">0.723</td><td style=\"text-align: center;\">       0.766        </td></tr>\\n</tbody>\\n</table>'"
      ]
     },
     "execution_count": 12,
     "metadata": {},
     "output_type": "execute_result"
    }
   ],
   "source": [
    "print(\"Récapitulatif des F1-scores obtenus par Cross Validation\")\n",
    "f1_scores = []\n",
    "f1_scores.append([\"PFTAS\", score_svm, score_rfc, score_gboost, score_knn, score_lda, score_lr])\n",
    "tabulate(f1_scores, headers=[\"Feature\", \"SVM\", \"RandomForest\", \"GradientBoosting\", \"KNN\", \"LDA\", \"LogisticRegression\"],\n",
    "         tablefmt=\"html\", floatfmt=\".3f\", numalign=\"center\")"
   ]
  },
  {
   "cell_type": "markdown",
   "id": "70655b0e",
   "metadata": {},
   "source": [
    "### Color channel statistics"
   ]
  },
  {
   "cell_type": "markdown",
   "id": "76da0a54",
   "metadata": {},
   "source": [
    "Une feature facile à calculer est la moyenne et l'écart-type de chaque canal de couleur. La librairie `scipy` permet également de calculer les moments d'ordre 3 et 4, je les ai donc ajouté aux moyennes et écart-types calculés. <br>\n",
    "Pour chacun des 3 canaux sont donc extraits 4 valeurs (moyenne, écart-type, asymétrie et kurtosis), ce qui revient à créer 12 features par image."
   ]
  },
  {
   "cell_type": "code",
   "execution_count": 13,
   "id": "132cb343",
   "metadata": {},
   "outputs": [
    {
     "data": {
      "text/plain": [
       "((422, 12), (207, 12))"
      ]
     },
     "execution_count": 13,
     "metadata": {},
     "output_type": "execute_result"
    }
   ],
   "source": [
    "chan_stats = np.array([np.concatenate([np.mean(Image.open(f), axis=(0,1)),\n",
    "                                       np.std(Image.open(f), axis=(0,1)),\n",
    "                                       skew(Image.open(f), axis=(0,1)),\n",
    "                                       kurtosis(Image.open(f), axis=(0,1))]) for f in files_train])\n",
    "chan_stats_test = np.array([np.concatenate([np.mean(Image.open(f), axis=(0,1)),\n",
    "                                       np.std(Image.open(f), axis=(0,1)),\n",
    "                                       skew(Image.open(f), axis=(0,1)),\n",
    "                                       kurtosis(Image.open(f), axis=(0,1))]) for f in files_test])\n",
    "chan_stats.shape, chan_stats_test.shape"
   ]
  },
  {
   "cell_type": "code",
   "execution_count": 14,
   "id": "e147bc35",
   "metadata": {},
   "outputs": [],
   "source": [
    "scaler = StandardScaler()\n",
    "chan_stats_scaled = scaler.fit_transform(chan_stats)"
   ]
  },
  {
   "cell_type": "code",
   "execution_count": 15,
   "id": "11e545d6",
   "metadata": {},
   "outputs": [
    {
     "data": {
      "application/vnd.jupyter.widget-view+json": {
       "model_id": "48ef983b011e4773baea49289affb819",
       "version_major": 2,
       "version_minor": 0
      },
      "text/plain": [
       "  0%|          | 0/100 [00:00<?, ?it/s]"
      ]
     },
     "metadata": {},
     "output_type": "display_data"
    },
    {
     "name": "stdout",
     "output_type": "stream",
     "text": [
      "Best score for SVM is 0.822807826867656 for C = 29\n"
     ]
    }
   ],
   "source": [
    "reg = range(1, 101)\n",
    "score = []\n",
    "for c in tqdm(reg):\n",
    "    svm = SVC(C=c)\n",
    "    score.append(np.mean(cross_val_score(svm, chan_stats_scaled, y_train, cv=16, scoring=\"f1_weighted\")))\n",
    "print(f\"Best score for SVM is {np.max(score)} for C = {np.argmax(score) + 1}\")\n",
    "score_svm = np.max(score)"
   ]
  },
  {
   "cell_type": "code",
   "execution_count": 16,
   "id": "37b65386",
   "metadata": {},
   "outputs": [
    {
     "name": "stdout",
     "output_type": "stream",
     "text": [
      "Score for Random Forest is 0.7136460356278732.\n"
     ]
    }
   ],
   "source": [
    "rfc = RandomForestClassifier()\n",
    "score_rfc = np.mean(cross_val_score(rfc, chan_stats, y_train, cv=16, scoring=\"f1_weighted\"))\n",
    "print(f\"Score for Random Forest is {score_rfc}.\")"
   ]
  },
  {
   "cell_type": "code",
   "execution_count": 17,
   "id": "af25e5e2",
   "metadata": {},
   "outputs": [
    {
     "name": "stdout",
     "output_type": "stream",
     "text": [
      "Score for Gradient Boosting is 0.6692996170693821.\n"
     ]
    }
   ],
   "source": [
    "gboost = GradientBoostingClassifier()\n",
    "score_gboost = np.mean(cross_val_score(gboost, chan_stats, y_train, cv=16, scoring=\"f1_weighted\"))\n",
    "print(f\"Score for Gradient Boosting is {score_gboost}.\")"
   ]
  },
  {
   "cell_type": "code",
   "execution_count": 18,
   "id": "200f18a4",
   "metadata": {},
   "outputs": [
    {
     "data": {
      "application/vnd.jupyter.widget-view+json": {
       "model_id": "6c492fd1d00f4e43b3f34525e61a4b2c",
       "version_major": 2,
       "version_minor": 0
      },
      "text/plain": [
       "  0%|          | 0/100 [00:00<?, ?it/s]"
      ]
     },
     "metadata": {},
     "output_type": "display_data"
    },
    {
     "name": "stdout",
     "output_type": "stream",
     "text": [
      "Best score for KNN is 0.7619063618796524 for k = 1\n"
     ]
    }
   ],
   "source": [
    "neigh = range(1, 101)\n",
    "score = []\n",
    "for k in tqdm(neigh):\n",
    "    knn = KNeighborsClassifier(n_neighbors=k)\n",
    "    score.append(np.mean(cross_val_score(knn, chan_stats_scaled, y_train, cv=16, scoring=\"f1_weighted\")))\n",
    "print(f\"Best score for KNN is {np.max(score)} for k = {np.argmax(score) + 1}\")\n",
    "score_knn = np.max(score)"
   ]
  },
  {
   "cell_type": "code",
   "execution_count": 19,
   "id": "d8ad4492",
   "metadata": {},
   "outputs": [
    {
     "name": "stdout",
     "output_type": "stream",
     "text": [
      "Score for LDA classifier is 0.51524350777823.\n"
     ]
    }
   ],
   "source": [
    "lda = LinearDiscriminantAnalysis()\n",
    "score_lda = np.mean(cross_val_score(lda, chan_stats, y_train, cv=16, scoring=\"f1_weighted\"))\n",
    "print(f\"Score for LDA classifier is {score_lda}.\")"
   ]
  },
  {
   "cell_type": "code",
   "execution_count": 20,
   "id": "84d20c44",
   "metadata": {},
   "outputs": [
    {
     "name": "stdout",
     "output_type": "stream",
     "text": [
      "Score for LDA classifier is 0.5571158408898793.\n"
     ]
    }
   ],
   "source": [
    "lr = LogisticRegression(max_iter=500)\n",
    "score_lr = np.mean(cross_val_score(lr, chan_stats_scaled, y_train, cv=16, scoring=\"f1_weighted\"))\n",
    "print(f\"Score for Logistic Regression classifier is {score_lr}.\")"
   ]
  },
  {
   "cell_type": "code",
   "execution_count": 21,
   "id": "58ac50d5",
   "metadata": {},
   "outputs": [
    {
     "name": "stdout",
     "output_type": "stream",
     "text": [
      "Récapitulatif des F1-scores obtenus par Cross Validation\n"
     ]
    },
    {
     "data": {
      "text/html": [
       "<table>\n",
       "<thead>\n",
       "<tr><th>Feature                 </th><th style=\"text-align: center;\"> SVM </th><th style=\"text-align: center;\"> RandomForest </th><th style=\"text-align: center;\"> GradientBoosting </th><th style=\"text-align: center;\"> KNN </th><th style=\"text-align: center;\"> LDA </th><th style=\"text-align: center;\"> LogisticRegression </th></tr>\n",
       "</thead>\n",
       "<tbody>\n",
       "<tr><td>PFTAS                   </td><td style=\"text-align: center;\">0.821</td><td style=\"text-align: center;\">    0.773     </td><td style=\"text-align: center;\">      0.751       </td><td style=\"text-align: center;\">0.763</td><td style=\"text-align: center;\">0.723</td><td style=\"text-align: center;\">       0.766        </td></tr>\n",
       "<tr><td>Color channel statistics</td><td style=\"text-align: center;\">0.823</td><td style=\"text-align: center;\">    0.714     </td><td style=\"text-align: center;\">      0.669       </td><td style=\"text-align: center;\">0.762</td><td style=\"text-align: center;\">0.515</td><td style=\"text-align: center;\">       0.557        </td></tr>\n",
       "</tbody>\n",
       "</table>"
      ],
      "text/plain": [
       "'<table>\\n<thead>\\n<tr><th>Feature                 </th><th style=\"text-align: center;\"> SVM </th><th style=\"text-align: center;\"> RandomForest </th><th style=\"text-align: center;\"> GradientBoosting </th><th style=\"text-align: center;\"> KNN </th><th style=\"text-align: center;\"> LDA </th><th style=\"text-align: center;\"> LogisticRegression </th></tr>\\n</thead>\\n<tbody>\\n<tr><td>PFTAS                   </td><td style=\"text-align: center;\">0.821</td><td style=\"text-align: center;\">    0.773     </td><td style=\"text-align: center;\">      0.751       </td><td style=\"text-align: center;\">0.763</td><td style=\"text-align: center;\">0.723</td><td style=\"text-align: center;\">       0.766        </td></tr>\\n<tr><td>Color channel statistics</td><td style=\"text-align: center;\">0.823</td><td style=\"text-align: center;\">    0.714     </td><td style=\"text-align: center;\">      0.669       </td><td style=\"text-align: center;\">0.762</td><td style=\"text-align: center;\">0.515</td><td style=\"text-align: center;\">       0.557        </td></tr>\\n</tbody>\\n</table>'"
      ]
     },
     "execution_count": 21,
     "metadata": {},
     "output_type": "execute_result"
    }
   ],
   "source": [
    "print(\"Récapitulatif des F1-scores obtenus par Cross Validation\")\n",
    "f1_scores.append([\"Color channel statistics\", score_svm, score_rfc, score_gboost, score_knn, score_lda, score_lr])\n",
    "tabulate(f1_scores, headers=[\"Feature\", \"SVM\", \"RandomForest\", \"GradientBoosting\", \"KNN\", \"LDA\", \"LogisticRegression\"],\n",
    "         tablefmt=\"html\", floatfmt=\".3f\", numalign=\"center\")"
   ]
  },
  {
   "cell_type": "markdown",
   "id": "2cc80257",
   "metadata": {},
   "source": [
    "### Hu Moments"
   ]
  },
  {
   "cell_type": "markdown",
   "id": "6fdf6748",
   "metadata": {},
   "source": [
    "Les Moments de Hu ne peuvent se calculer que sur des images en niveau de gris (d'où la conversion 'L' via PIL)"
   ]
  },
  {
   "cell_type": "code",
   "execution_count": 22,
   "id": "4f05c71c",
   "metadata": {},
   "outputs": [
    {
     "data": {
      "text/plain": [
       "((422, 7), (207, 7))"
      ]
     },
     "execution_count": 22,
     "metadata": {},
     "output_type": "execute_result"
    }
   ],
   "source": [
    "moments = [cv2.moments(np.array(Image.open(f).convert('L'))) for f in files_train]\n",
    "moments_test = [cv2.moments(np.array(Image.open(f).convert('L'))) for f in files_test]\n",
    "hu = np.array([cv2.HuMoments(m).T for m in moments])[:,0,:]\n",
    "hu_test = np.array([cv2.HuMoments(m).T for m in moments_test])[:,0,:]\n",
    "hu.shape, hu_test.shape"
   ]
  },
  {
   "cell_type": "code",
   "execution_count": 23,
   "id": "f5908344",
   "metadata": {},
   "outputs": [],
   "source": [
    "scaler = StandardScaler()\n",
    "hu_scaled = scaler.fit_transform(hu)"
   ]
  },
  {
   "cell_type": "code",
   "execution_count": 24,
   "id": "5670c989",
   "metadata": {},
   "outputs": [
    {
     "data": {
      "application/vnd.jupyter.widget-view+json": {
       "model_id": "542447dd5fdf4f8988f28a0551d25c0f",
       "version_major": 2,
       "version_minor": 0
      },
      "text/plain": [
       "  0%|          | 0/100 [00:00<?, ?it/s]"
      ]
     },
     "metadata": {},
     "output_type": "display_data"
    },
    {
     "name": "stdout",
     "output_type": "stream",
     "text": [
      "Best score for SVM is 0.27556334606948923 for C = 45\n"
     ]
    }
   ],
   "source": [
    "reg = range(1, 101)\n",
    "score = []\n",
    "for c in tqdm(reg):\n",
    "    svm = SVC(C=c)\n",
    "    score.append(np.mean(cross_val_score(svm, hu_scaled, y_train, cv=16, scoring=\"f1_weighted\")))\n",
    "print(f\"Best score for SVM is {np.max(score)} for C = {np.argmax(score) + 1}\")\n",
    "score_svm = np.max(score)"
   ]
  },
  {
   "cell_type": "code",
   "execution_count": 25,
   "id": "6447b692",
   "metadata": {},
   "outputs": [
    {
     "name": "stdout",
     "output_type": "stream",
     "text": [
      "Score for Random Forest is 0.14585625181244838.\n"
     ]
    }
   ],
   "source": [
    "rfc = RandomForestClassifier()\n",
    "score_rfc = np.mean(cross_val_score(rfc, hu, y_train, cv=16, scoring=\"f1_weighted\"))\n",
    "print(f\"Score for Random Forest is {score_rfc}.\")"
   ]
  },
  {
   "cell_type": "code",
   "execution_count": 26,
   "id": "a0b2574c",
   "metadata": {},
   "outputs": [
    {
     "name": "stdout",
     "output_type": "stream",
     "text": [
      "Score for Gradient Boosting is 0.14508764027994797.\n"
     ]
    }
   ],
   "source": [
    "gboost = GradientBoostingClassifier()\n",
    "score_gboost = np.mean(cross_val_score(gboost, hu, y_train, cv=16, scoring=\"f1_weighted\"))\n",
    "print(f\"Score for Gradient Boosting is {score_gboost}.\")"
   ]
  },
  {
   "cell_type": "code",
   "execution_count": 27,
   "id": "298749a6",
   "metadata": {},
   "outputs": [
    {
     "data": {
      "application/vnd.jupyter.widget-view+json": {
       "model_id": "a923ebfc39fd49d49e559e0b7226244e",
       "version_major": 2,
       "version_minor": 0
      },
      "text/plain": [
       "  0%|          | 0/100 [00:00<?, ?it/s]"
      ]
     },
     "metadata": {},
     "output_type": "display_data"
    },
    {
     "name": "stdout",
     "output_type": "stream",
     "text": [
      "Best score for KNN is 0.26239244983514454 for k = 33\n"
     ]
    }
   ],
   "source": [
    "neigh = range(1, 101)\n",
    "score = []\n",
    "for k in tqdm(neigh):\n",
    "    knn = KNeighborsClassifier(n_neighbors=k)\n",
    "    score.append(np.mean(cross_val_score(knn, hu_scaled, y_train, cv=16, scoring=\"f1_weighted\")))\n",
    "print(f\"Best score for KNN is {np.max(score)} for k = {np.argmax(score) + 1}\")\n",
    "score_knn = np.max(score)"
   ]
  },
  {
   "cell_type": "code",
   "execution_count": 28,
   "id": "bc45756d",
   "metadata": {},
   "outputs": [
    {
     "name": "stdout",
     "output_type": "stream",
     "text": [
      "Score for LDA classifier is 0.22647633404414946.\n"
     ]
    }
   ],
   "source": [
    "lda = LinearDiscriminantAnalysis()\n",
    "score_lda = np.mean(cross_val_score(lda, hu, y_train, cv=16, scoring=\"f1_weighted\"))\n",
    "print(f\"Score for LDA classifier is {score_lda}.\")"
   ]
  },
  {
   "cell_type": "code",
   "execution_count": 29,
   "id": "cc61a0d5",
   "metadata": {},
   "outputs": [
    {
     "name": "stdout",
     "output_type": "stream",
     "text": [
      "Score for LDA classifier is 0.2473048105489527.\n"
     ]
    }
   ],
   "source": [
    "lr = LogisticRegression(max_iter=500)\n",
    "score_lr = np.mean(cross_val_score(lr, hu_scaled, y_train, cv=16, scoring=\"f1_weighted\"))\n",
    "print(f\"Score for Logistic Regression classifier is {score_lr}.\")"
   ]
  },
  {
   "cell_type": "code",
   "execution_count": 30,
   "id": "04e34c09",
   "metadata": {},
   "outputs": [
    {
     "name": "stdout",
     "output_type": "stream",
     "text": [
      "Récapitulatif des F1-scores obtenus par Cross Validation\n"
     ]
    },
    {
     "data": {
      "text/html": [
       "<table>\n",
       "<thead>\n",
       "<tr><th>Feature                 </th><th style=\"text-align: center;\"> SVM </th><th style=\"text-align: center;\"> RandomForest </th><th style=\"text-align: center;\"> GradientBoosting </th><th style=\"text-align: center;\"> KNN </th><th style=\"text-align: center;\"> LDA </th><th style=\"text-align: center;\"> LogisticRegression </th></tr>\n",
       "</thead>\n",
       "<tbody>\n",
       "<tr><td>PFTAS                   </td><td style=\"text-align: center;\">0.821</td><td style=\"text-align: center;\">    0.773     </td><td style=\"text-align: center;\">      0.751       </td><td style=\"text-align: center;\">0.763</td><td style=\"text-align: center;\">0.723</td><td style=\"text-align: center;\">       0.766        </td></tr>\n",
       "<tr><td>Color channel statistics</td><td style=\"text-align: center;\">0.823</td><td style=\"text-align: center;\">    0.714     </td><td style=\"text-align: center;\">      0.669       </td><td style=\"text-align: center;\">0.762</td><td style=\"text-align: center;\">0.515</td><td style=\"text-align: center;\">       0.557        </td></tr>\n",
       "<tr><td>Hu moments              </td><td style=\"text-align: center;\">0.276</td><td style=\"text-align: center;\">    0.146     </td><td style=\"text-align: center;\">      0.145       </td><td style=\"text-align: center;\">0.262</td><td style=\"text-align: center;\">0.226</td><td style=\"text-align: center;\">       0.247        </td></tr>\n",
       "</tbody>\n",
       "</table>"
      ],
      "text/plain": [
       "'<table>\\n<thead>\\n<tr><th>Feature                 </th><th style=\"text-align: center;\"> SVM </th><th style=\"text-align: center;\"> RandomForest </th><th style=\"text-align: center;\"> GradientBoosting </th><th style=\"text-align: center;\"> KNN </th><th style=\"text-align: center;\"> LDA </th><th style=\"text-align: center;\"> LogisticRegression </th></tr>\\n</thead>\\n<tbody>\\n<tr><td>PFTAS                   </td><td style=\"text-align: center;\">0.821</td><td style=\"text-align: center;\">    0.773     </td><td style=\"text-align: center;\">      0.751       </td><td style=\"text-align: center;\">0.763</td><td style=\"text-align: center;\">0.723</td><td style=\"text-align: center;\">       0.766        </td></tr>\\n<tr><td>Color channel statistics</td><td style=\"text-align: center;\">0.823</td><td style=\"text-align: center;\">    0.714     </td><td style=\"text-align: center;\">      0.669       </td><td style=\"text-align: center;\">0.762</td><td style=\"text-align: center;\">0.515</td><td style=\"text-align: center;\">       0.557        </td></tr>\\n<tr><td>Hu moments              </td><td style=\"text-align: center;\">0.276</td><td style=\"text-align: center;\">    0.146     </td><td style=\"text-align: center;\">      0.145       </td><td style=\"text-align: center;\">0.262</td><td style=\"text-align: center;\">0.226</td><td style=\"text-align: center;\">       0.247        </td></tr>\\n</tbody>\\n</table>'"
      ]
     },
     "execution_count": 30,
     "metadata": {},
     "output_type": "execute_result"
    }
   ],
   "source": [
    "print(\"Récapitulatif des F1-scores obtenus par Cross Validation\")\n",
    "f1_scores.append([\"Hu moments\", score_svm, score_rfc, score_gboost, score_knn, score_lda, score_lr])\n",
    "tabulate(f1_scores, headers=[\"Feature\", \"SVM\", \"RandomForest\", \"GradientBoosting\", \"KNN\", \"LDA\", \"LogisticRegression\"],\n",
    "         tablefmt=\"html\", floatfmt=\".3f\", numalign=\"center\")"
   ]
  },
  {
   "cell_type": "markdown",
   "id": "27a1c159",
   "metadata": {},
   "source": [
    "Les scores obtenus via Hu Moments semblent vraiment très faibles comparés aux 2 features précédentes. Cependant, après combinaison avec d'autres features, il apparaît que l'utilisation de ces 7 features participe à l'augmentation du score de classification. Elles ont donc été conservées."
   ]
  },
  {
   "cell_type": "markdown",
   "id": "c034ed2f",
   "metadata": {},
   "source": [
    "### Haralick"
   ]
  },
  {
   "cell_type": "markdown",
   "id": "58562ea4",
   "metadata": {},
   "source": [
    "Haralick permet d'extraire des informations de texture globales sur chaque image. De même que pour PFTAS, son utilisation sur des images en couleur génère des features en plus grande dimension, mais fournissant un score de classification plus élevé. <br>\n",
    "3 paramètres principaux peuvent être configurés sur cette feature via l'API Mahotas :\n",
    "* distance : vaut 1 ou 2. Les tests ci-dessous justifient la configuration de ce paramètre à 2\n",
    "* return_mean : permet de retourner la moyenne selon toutes les directions (return_mean=True) ou la moyenne et ptp (point-to-point = difference entre max() and min()). De manière empirique, il apparaît que return_mean_ptp=True à un fort impact sur le score\n",
    "* compute_14th_feature : permet de calculer une 14ème feature Haralick"
   ]
  },
  {
   "cell_type": "code",
   "execution_count": 31,
   "id": "fce5fd02",
   "metadata": {},
   "outputs": [],
   "source": [
    "h1 = np.array([mahotas.features.haralick(np.array(Image.open(f)), return_mean=True,\n",
    "                                         compute_14th_feature=False, distance=1) for f in files_train])\n",
    "# Point-to-point (max-min) mean instead of standard mean\n",
    "h2 = np.array([mahotas.features.haralick(np.array(Image.open(f)), return_mean_ptp=True,\n",
    "                                         compute_14th_feature=False, distance=1) for f in files_train])\n",
    "# With 14th feature and standard mean\n",
    "h3 = np.array([mahotas.features.haralick(np.array(Image.open(f)), return_mean=True,\n",
    "                                         compute_14th_feature=True, distance=1) for f in files_train])\n",
    "# With 14th feature and point-to-point mean\n",
    "h4 = np.array([mahotas.features.haralick(np.array(Image.open(f)), return_mean_ptp=True,\n",
    "                                         compute_14th_feature=True, distance=1) for f in files_train])"
   ]
  },
  {
   "cell_type": "code",
   "execution_count": 32,
   "id": "a46970e8",
   "metadata": {},
   "outputs": [],
   "source": [
    "scaler = StandardScaler()\n",
    "h1_scaled = scaler.fit_transform(h1)\n",
    "h2_scaled = scaler.fit_transform(h2)\n",
    "h3_scaled = scaler.fit_transform(h3)\n",
    "h4_scaled = scaler.fit_transform(h4)"
   ]
  },
  {
   "cell_type": "code",
   "execution_count": 33,
   "id": "e19aa658",
   "metadata": {},
   "outputs": [
    {
     "data": {
      "application/vnd.jupyter.widget-view+json": {
       "model_id": "d4e40bfec02e44fe9cd260bc3a6f5f17",
       "version_major": 2,
       "version_minor": 0
      },
      "text/plain": [
       "  0%|          | 0/100 [00:00<?, ?it/s]"
      ]
     },
     "metadata": {},
     "output_type": "display_data"
    },
    {
     "name": "stdout",
     "output_type": "stream",
     "text": [
      "Best score1 for SVM is 0.6952629047313876 for C = 75\n",
      "Best score2 for SVM is 0.7906809427909856 for C = 36\n",
      "Best score3 for SVM is 0.7347596007585324 for C = 97\n",
      "Best score4 for SVM is 0.7913133627610123 for C = 29\n"
     ]
    }
   ],
   "source": [
    "reg = range(1, 101)\n",
    "score1, score2, score3, score4 = [], [], [], []\n",
    "for c in tqdm(reg):\n",
    "    svm = SVC(C=c)\n",
    "    score1.append(np.mean(cross_val_score(svm, h1_scaled, y_train, cv=16, scoring=\"f1_weighted\")))\n",
    "    score2.append(np.mean(cross_val_score(svm, h2_scaled, y_train, cv=16, scoring=\"f1_weighted\")))\n",
    "    score3.append(np.mean(cross_val_score(svm, h3_scaled, y_train, cv=16, scoring=\"f1_weighted\")))\n",
    "    score4.append(np.mean(cross_val_score(svm, h4_scaled, y_train, cv=16, scoring=\"f1_weighted\")))\n",
    "print(f\"Best score1 for SVM is {np.max(score1)} for C = {np.argmax(score1) + 1}\")\n",
    "print(f\"Best score2 for SVM is {np.max(score2)} for C = {np.argmax(score2) + 1}\")\n",
    "print(f\"Best score3 for SVM is {np.max(score3)} for C = {np.argmax(score3) + 1}\")\n",
    "print(f\"Best score4 for SVM is {np.max(score4)} for C = {np.argmax(score4) + 1}\")\n",
    "score_svm1, score_svm2, score_svm3, score_svm4 = np.max(score1), np.max(score2), np.max(score3), np.max(score4)"
   ]
  },
  {
   "cell_type": "code",
   "execution_count": 34,
   "id": "36fed9d2",
   "metadata": {},
   "outputs": [
    {
     "name": "stdout",
     "output_type": "stream",
     "text": [
      "Score1 for Random Forest is 0.6474729305501679.\n",
      "Score2 for Random Forest is 0.6859445926620071.\n",
      "Score3 for Random Forest is 0.6362900715841893.\n",
      "Score4 for Random Forest is 0.705689948010995.\n"
     ]
    }
   ],
   "source": [
    "rfc = RandomForestClassifier()\n",
    "score_rfc1 = np.mean(cross_val_score(rfc, h1, y_train, cv=16, scoring=\"f1_weighted\"))\n",
    "score_rfc2 = np.mean(cross_val_score(rfc, h2, y_train, cv=16, scoring=\"f1_weighted\"))\n",
    "score_rfc3 = np.mean(cross_val_score(rfc, h3, y_train, cv=16, scoring=\"f1_weighted\"))\n",
    "score_rfc4 = np.mean(cross_val_score(rfc, h4, y_train, cv=16, scoring=\"f1_weighted\"))\n",
    "print(f\"Score1 for Random Forest is {score_rfc1}.\")\n",
    "print(f\"Score2 for Random Forest is {score_rfc2}.\")\n",
    "print(f\"Score3 for Random Forest is {score_rfc3}.\")\n",
    "print(f\"Score4 for Random Forest is {score_rfc4}.\")"
   ]
  },
  {
   "cell_type": "code",
   "execution_count": 35,
   "id": "bad356a8",
   "metadata": {},
   "outputs": [
    {
     "name": "stdout",
     "output_type": "stream",
     "text": [
      "Score1 for Gradient Boosting is 0.6044954417417024.\n",
      "Score2 for Gradient Boosting is 0.6718895964355366.\n",
      "Score3 for Gradient Boosting is 0.6286542902438139.\n",
      "Score4 for Gradient Boosting is 0.6776588044750438.\n"
     ]
    }
   ],
   "source": [
    "gboost = GradientBoostingClassifier()\n",
    "score_gboost1 = np.mean(cross_val_score(gboost, h1, y_train, cv=16, scoring=\"f1_weighted\"))\n",
    "score_gboost2 = np.mean(cross_val_score(gboost, h2, y_train, cv=16, scoring=\"f1_weighted\"))\n",
    "score_gboost3 = np.mean(cross_val_score(gboost, h3, y_train, cv=16, scoring=\"f1_weighted\"))\n",
    "score_gboost4 = np.mean(cross_val_score(gboost, h4, y_train, cv=16, scoring=\"f1_weighted\"))\n",
    "print(f\"Score1 for Gradient Boosting is {score_gboost1}.\")\n",
    "print(f\"Score2 for Gradient Boosting is {score_gboost2}.\")\n",
    "print(f\"Score3 for Gradient Boosting is {score_gboost3}.\")\n",
    "print(f\"Score4 for Gradient Boosting is {score_gboost4}.\")"
   ]
  },
  {
   "cell_type": "code",
   "execution_count": 36,
   "id": "70748554",
   "metadata": {},
   "outputs": [
    {
     "data": {
      "application/vnd.jupyter.widget-view+json": {
       "model_id": "65ac6b04fe0b450ebcefe7c005e35366",
       "version_major": 2,
       "version_minor": 0
      },
      "text/plain": [
       "  0%|          | 0/100 [00:00<?, ?it/s]"
      ]
     },
     "metadata": {},
     "output_type": "display_data"
    },
    {
     "name": "stdout",
     "output_type": "stream",
     "text": [
      "Best score1 for KNN is 0.6314092147959669 for k = 1\n",
      "Best score2 for KNN is 0.6852483673931323 for k = 1\n",
      "Best score3 for KNN is 0.6907100496844087 for k = 1\n",
      "Best score4 for KNN is 0.6881899222176999 for k = 1\n"
     ]
    }
   ],
   "source": [
    "neigh = range(1, 101)\n",
    "score1, score2, score3, score4 = [], [], [], []\n",
    "for k in tqdm(neigh):\n",
    "    knn = KNeighborsClassifier(n_neighbors=k)\n",
    "    score1.append(np.mean(cross_val_score(knn, h1_scaled, y_train, cv=16, scoring=\"f1_weighted\")))\n",
    "    score2.append(np.mean(cross_val_score(knn, h2_scaled, y_train, cv=16, scoring=\"f1_weighted\")))\n",
    "    score3.append(np.mean(cross_val_score(knn, h3_scaled, y_train, cv=16, scoring=\"f1_weighted\")))\n",
    "    score4.append(np.mean(cross_val_score(knn, h4_scaled, y_train, cv=16, scoring=\"f1_weighted\")))\n",
    "print(f\"Best score1 for KNN is {np.max(score1)} for k = {np.argmax(score1) + 1}\")\n",
    "print(f\"Best score2 for KNN is {np.max(score2)} for k = {np.argmax(score2) + 1}\")\n",
    "print(f\"Best score3 for KNN is {np.max(score3)} for k = {np.argmax(score3) + 1}\")\n",
    "print(f\"Best score4 for KNN is {np.max(score4)} for k = {np.argmax(score4) + 1}\")\n",
    "score_knn1, score_knn2, score_knn3, score_knn4 = np.max(score1), np.max(score2), np.max(score3), np.max(score4)"
   ]
  },
  {
   "cell_type": "code",
   "execution_count": 37,
   "id": "47169279",
   "metadata": {},
   "outputs": [
    {
     "name": "stdout",
     "output_type": "stream",
     "text": [
      "Score1 for LDA classifier is 0.493581788186489.\n",
      "Score2 for LDA classifier is 0.5706925355429628.\n",
      "Score3 for LDA classifier is 0.49927218189771605.\n",
      "Score4 for LDA classifier is 0.6044778986678183.\n"
     ]
    }
   ],
   "source": [
    "lda = LinearDiscriminantAnalysis()\n",
    "score_lda1 = np.mean(cross_val_score(lda, h1, y_train, cv=16, scoring=\"f1_weighted\"))\n",
    "score_lda2 = np.mean(cross_val_score(lda, h2, y_train, cv=16, scoring=\"f1_weighted\"))\n",
    "score_lda3 = np.mean(cross_val_score(lda, h3, y_train, cv=16, scoring=\"f1_weighted\"))\n",
    "score_lda4 = np.mean(cross_val_score(lda, h4, y_train, cv=16, scoring=\"f1_weighted\"))\n",
    "print(f\"Score1 for LDA classifier is {score_lda1}.\")\n",
    "print(f\"Score2 for LDA classifier is {score_lda2}.\")\n",
    "print(f\"Score3 for LDA classifier is {score_lda3}.\")\n",
    "print(f\"Score4 for LDA classifier is {score_lda4}.\")"
   ]
  },
  {
   "cell_type": "code",
   "execution_count": 38,
   "id": "28b0bd83",
   "metadata": {},
   "outputs": [
    {
     "name": "stdout",
     "output_type": "stream",
     "text": [
      "Score1 for LDA classifier is 0.49613273024063625.\n",
      "Score2 for LDA classifier is 0.5831190656644717.\n",
      "Score3 for LDA classifier is 0.5115992803492804.\n",
      "Score4 for LDA classifier is 0.63381968913486.\n"
     ]
    }
   ],
   "source": [
    "lr = LogisticRegression(max_iter=500)\n",
    "score_lr1 = np.mean(cross_val_score(lr, h1_scaled, y_train, cv=16, scoring=\"f1_weighted\"))\n",
    "score_lr2 = np.mean(cross_val_score(lr, h2_scaled, y_train, cv=16, scoring=\"f1_weighted\"))\n",
    "score_lr3 = np.mean(cross_val_score(lr, h3_scaled, y_train, cv=16, scoring=\"f1_weighted\"))\n",
    "score_lr4 = np.mean(cross_val_score(lr, h4_scaled, y_train, cv=16, scoring=\"f1_weighted\"))\n",
    "print(f\"Score1 for Logistic Regression classifier is {score_lr1}.\")\n",
    "print(f\"Score2 for Logistic Regression classifier is {score_lr2}.\")\n",
    "print(f\"Score3 for Logistic Regression classifier is {score_lr3}.\")\n",
    "print(f\"Score4 for Logistic Regression classifier is {score_lr4}.\")"
   ]
  },
  {
   "cell_type": "code",
   "execution_count": 39,
   "id": "7f64f288",
   "metadata": {},
   "outputs": [],
   "source": [
    "# Même distinctions que précédemment, mais avec distance = 2\n",
    "h5 = np.array([mahotas.features.haralick(np.array(Image.open(f)), return_mean=True,\n",
    "                                         compute_14th_feature=False, distance=2) for f in files_train])\n",
    "h6 = np.array([mahotas.features.haralick(np.array(Image.open(f)), return_mean_ptp=True,\n",
    "                                         compute_14th_feature=False, distance=2) for f in files_train])\n",
    "h7 = np.array([mahotas.features.haralick(np.array(Image.open(f)), return_mean=True,\n",
    "                                         compute_14th_feature=True, distance=2) for f in files_train])\n",
    "h8 = np.array([mahotas.features.haralick(np.array(Image.open(f)), return_mean_ptp=True,\n",
    "                                         compute_14th_feature=True, distance=2) for f in files_train])"
   ]
  },
  {
   "cell_type": "code",
   "execution_count": 40,
   "id": "202f9504",
   "metadata": {},
   "outputs": [],
   "source": [
    "h5_scaled = scaler.fit_transform(h5)\n",
    "h6_scaled = scaler.fit_transform(h6)\n",
    "h7_scaled = scaler.fit_transform(h7)\n",
    "h8_scaled = scaler.fit_transform(h8)"
   ]
  },
  {
   "cell_type": "code",
   "execution_count": 41,
   "id": "d29478a0",
   "metadata": {},
   "outputs": [
    {
     "data": {
      "application/vnd.jupyter.widget-view+json": {
       "model_id": "c15cd0e32f5d46a8a4ee668837aa7f98",
       "version_major": 2,
       "version_minor": 0
      },
      "text/plain": [
       "  0%|          | 0/100 [00:00<?, ?it/s]"
      ]
     },
     "metadata": {},
     "output_type": "display_data"
    },
    {
     "name": "stdout",
     "output_type": "stream",
     "text": [
      "Best score5 for SVM is 0.7079736107513885 for C = 50\n",
      "Best score6 for SVM is 0.8292563996623825 for C = 31\n",
      "Best score7 for SVM is 0.7061796050578102 for C = 37\n",
      "Best score8 for SVM is 0.8333612385161531 for C = 38\n"
     ]
    }
   ],
   "source": [
    "reg = range(1, 101)\n",
    "score5, score6, score7, score8 = [], [], [], []\n",
    "for c in tqdm(reg):\n",
    "    svm = SVC(C=c)\n",
    "    score5.append(np.mean(cross_val_score(svm, h5_scaled, y_train, cv=16, scoring=\"f1_weighted\")))\n",
    "    score6.append(np.mean(cross_val_score(svm, h6_scaled, y_train, cv=16, scoring=\"f1_weighted\")))\n",
    "    score7.append(np.mean(cross_val_score(svm, h7_scaled, y_train, cv=16, scoring=\"f1_weighted\")))\n",
    "    score8.append(np.mean(cross_val_score(svm, h8_scaled, y_train, cv=16, scoring=\"f1_weighted\")))\n",
    "print(f\"Best score5 for SVM is {np.max(score5)} for C = {np.argmax(score5) + 1}\")\n",
    "print(f\"Best score6 for SVM is {np.max(score6)} for C = {np.argmax(score6) + 1}\")\n",
    "print(f\"Best score7 for SVM is {np.max(score7)} for C = {np.argmax(score7) + 1}\")\n",
    "print(f\"Best score8 for SVM is {np.max(score8)} for C = {np.argmax(score8) + 1}\")\n",
    "score_svm5, score_svm6, score_svm7, score_svm8 = np.max(score5), np.max(score6), np.max(score7), np.max(score8)"
   ]
  },
  {
   "cell_type": "code",
   "execution_count": 42,
   "id": "da4f7a37",
   "metadata": {},
   "outputs": [
    {
     "name": "stdout",
     "output_type": "stream",
     "text": [
      "Score5 for Random Forest is 0.5541581914445162.\n",
      "Score6 for Random Forest is 0.6936840279655451.\n",
      "Score7 for Random Forest is 0.5667967854399478.\n",
      "Score8 for Random Forest is 0.7146535578025963.\n"
     ]
    }
   ],
   "source": [
    "rfc = RandomForestClassifier()\n",
    "score_rfc5 = np.mean(cross_val_score(rfc, h5, y_train, cv=16, scoring=\"f1_weighted\"))\n",
    "score_rfc6 = np.mean(cross_val_score(rfc, h6, y_train, cv=16, scoring=\"f1_weighted\"))\n",
    "score_rfc7 = np.mean(cross_val_score(rfc, h7, y_train, cv=16, scoring=\"f1_weighted\"))\n",
    "score_rfc8 = np.mean(cross_val_score(rfc, h8, y_train, cv=16, scoring=\"f1_weighted\"))\n",
    "print(f\"Score5 for Random Forest is {score_rfc5}.\")\n",
    "print(f\"Score6 for Random Forest is {score_rfc6}.\")\n",
    "print(f\"Score7 for Random Forest is {score_rfc7}.\")\n",
    "print(f\"Score8 for Random Forest is {score_rfc8}.\")"
   ]
  },
  {
   "cell_type": "code",
   "execution_count": 43,
   "id": "ef66da88",
   "metadata": {},
   "outputs": [
    {
     "name": "stdout",
     "output_type": "stream",
     "text": [
      "Score5 for Gradient Boosting is 0.5363362337053577.\n",
      "Score6 for Gradient Boosting is 0.6529655277652072.\n",
      "Score7 for Gradient Boosting is 0.5526022721936183.\n",
      "Score8 for Gradient Boosting is 0.6822285868006079.\n"
     ]
    }
   ],
   "source": [
    "gboost = GradientBoostingClassifier()\n",
    "score_gboost5 = np.mean(cross_val_score(gboost, h5, y_train, cv=16, scoring=\"f1_weighted\"))\n",
    "score_gboost6 = np.mean(cross_val_score(gboost, h6, y_train, cv=16, scoring=\"f1_weighted\"))\n",
    "score_gboost7 = np.mean(cross_val_score(gboost, h7, y_train, cv=16, scoring=\"f1_weighted\"))\n",
    "score_gboost8 = np.mean(cross_val_score(gboost, h8, y_train, cv=16, scoring=\"f1_weighted\"))\n",
    "print(f\"Score5 for Gradient Boosting is {score_gboost5}.\")\n",
    "print(f\"Score6 for Gradient Boosting is {score_gboost6}.\")\n",
    "print(f\"Score7 for Gradient Boosting is {score_gboost7}.\")\n",
    "print(f\"Score8 for Gradient Boosting is {score_gboost8}.\")"
   ]
  },
  {
   "cell_type": "code",
   "execution_count": 44,
   "id": "1eca6065",
   "metadata": {},
   "outputs": [
    {
     "data": {
      "application/vnd.jupyter.widget-view+json": {
       "model_id": "6778b890d69e4f89929ba6c529b45d27",
       "version_major": 2,
       "version_minor": 0
      },
      "text/plain": [
       "  0%|          | 0/100 [00:00<?, ?it/s]"
      ]
     },
     "metadata": {},
     "output_type": "display_data"
    },
    {
     "name": "stdout",
     "output_type": "stream",
     "text": [
      "Best score5 for KNN is 0.5663647101948384 for k = 1\n",
      "Best score6 for KNN is 0.744069426735025 for k = 1\n",
      "Best score7 for KNN is 0.5750675670681011 for k = 1\n",
      "Best score8 for KNN is 0.7542345949397231 for k = 1\n"
     ]
    }
   ],
   "source": [
    "neigh = range(1, 101)\n",
    "score5, score6, score7, score8 = [], [], [], []\n",
    "for k in tqdm(neigh):\n",
    "    knn = KNeighborsClassifier(n_neighbors=k)\n",
    "    score5.append(np.mean(cross_val_score(knn, h5_scaled, y_train, cv=16, scoring=\"f1_weighted\")))\n",
    "    score6.append(np.mean(cross_val_score(knn, h6_scaled, y_train, cv=16, scoring=\"f1_weighted\")))\n",
    "    score7.append(np.mean(cross_val_score(knn, h7_scaled, y_train, cv=16, scoring=\"f1_weighted\")))\n",
    "    score8.append(np.mean(cross_val_score(knn, h8_scaled, y_train, cv=16, scoring=\"f1_weighted\")))\n",
    "print(f\"Best score5 for KNN is {np.max(score5)} for k = {np.argmax(score5) + 1}\")\n",
    "print(f\"Best score6 for KNN is {np.max(score6)} for k = {np.argmax(score6) + 1}\")\n",
    "print(f\"Best score7 for KNN is {np.max(score7)} for k = {np.argmax(score7) + 1}\")\n",
    "print(f\"Best score8 for KNN is {np.max(score8)} for k = {np.argmax(score8) + 1}\")\n",
    "score_knn5, score_knn6, score_knn7, score_knn8 = np.max(score5), np.max(score6), np.max(score7), np.max(score8)"
   ]
  },
  {
   "cell_type": "code",
   "execution_count": 45,
   "id": "c016112e",
   "metadata": {},
   "outputs": [
    {
     "name": "stdout",
     "output_type": "stream",
     "text": [
      "Score5 for LDA classifier is 0.45892584484999016.\n",
      "Score6 for LDA classifier is 0.582648725976089.\n",
      "Score7 for LDA classifier is 0.4729763771563985.\n",
      "Score8 for LDA classifier is 0.6121139771513703.\n"
     ]
    }
   ],
   "source": [
    "lda = LinearDiscriminantAnalysis()\n",
    "score_lda5 = np.mean(cross_val_score(lda, h5, y_train, cv=16, scoring=\"f1_weighted\"))\n",
    "score_lda6 = np.mean(cross_val_score(lda, h6, y_train, cv=16, scoring=\"f1_weighted\"))\n",
    "score_lda7 = np.mean(cross_val_score(lda, h7, y_train, cv=16, scoring=\"f1_weighted\"))\n",
    "score_lda8 = np.mean(cross_val_score(lda, h8, y_train, cv=16, scoring=\"f1_weighted\"))\n",
    "print(f\"Score5 for LDA classifier is {score_lda5}.\")\n",
    "print(f\"Score6 for LDA classifier is {score_lda6}.\")\n",
    "print(f\"Score7 for LDA classifier is {score_lda7}.\")\n",
    "print(f\"Score8 for LDA classifier is {score_lda8}.\")"
   ]
  },
  {
   "cell_type": "code",
   "execution_count": 46,
   "id": "215cab5d",
   "metadata": {},
   "outputs": [
    {
     "name": "stdout",
     "output_type": "stream",
     "text": [
      "Score5 for LDA classifier is 0.4777980680090723.\n",
      "Score6 for LDA classifier is 0.6023711627878294.\n",
      "Score7 for LDA classifier is 0.5176363108034173.\n",
      "Score8 for LDA classifier is 0.6242717575029666.\n"
     ]
    }
   ],
   "source": [
    "lr = LogisticRegression(max_iter=500)\n",
    "score_lr5 = np.mean(cross_val_score(lr, h5_scaled, y_train, cv=16, scoring=\"f1_weighted\"))\n",
    "score_lr6 = np.mean(cross_val_score(lr, h6_scaled, y_train, cv=16, scoring=\"f1_weighted\"))\n",
    "score_lr7 = np.mean(cross_val_score(lr, h7_scaled, y_train, cv=16, scoring=\"f1_weighted\"))\n",
    "score_lr8 = np.mean(cross_val_score(lr, h8_scaled, y_train, cv=16, scoring=\"f1_weighted\"))\n",
    "print(f\"Score5 for Logistic Regression classifier is {score_lr5}.\")\n",
    "print(f\"Score6 for Logistic Regression classifier is {score_lr6}.\")\n",
    "print(f\"Score7 for Logistic Regression classifier is {score_lr7}.\")\n",
    "print(f\"Score8 for Logistic Regression classifier is {score_lr8}.\")"
   ]
  },
  {
   "cell_type": "code",
   "execution_count": 47,
   "id": "8dc7a9e5",
   "metadata": {},
   "outputs": [
    {
     "name": "stdout",
     "output_type": "stream",
     "text": [
      "Evaluation des paramètres Haralick\n"
     ]
    },
    {
     "data": {
      "text/html": [
       "<table>\n",
       "<thead>\n",
       "<tr><th>Paramètres Haralick      </th><th style=\"text-align: center;\"> SVM </th><th style=\"text-align: center;\"> RandomForest </th><th style=\"text-align: center;\"> GradientBoosting </th><th style=\"text-align: center;\"> KNN </th><th style=\"text-align: center;\"> LDA </th><th style=\"text-align: center;\"> LogisticRegression </th></tr>\n",
       "</thead>\n",
       "<tbody>\n",
       "<tr><td>Dist 1, mean, 13 feat    </td><td style=\"text-align: center;\">0.695</td><td style=\"text-align: center;\">    0.647     </td><td style=\"text-align: center;\">      0.604       </td><td style=\"text-align: center;\">0.631</td><td style=\"text-align: center;\">0.494</td><td style=\"text-align: center;\">       0.496        </td></tr>\n",
       "<tr><td>Dist 1, ptp mean, 13 feat</td><td style=\"text-align: center;\">0.791</td><td style=\"text-align: center;\">    0.686     </td><td style=\"text-align: center;\">      0.672       </td><td style=\"text-align: center;\">0.685</td><td style=\"text-align: center;\">0.571</td><td style=\"text-align: center;\">       0.583        </td></tr>\n",
       "<tr><td>Dist 1, mean, 14 feat    </td><td style=\"text-align: center;\">0.735</td><td style=\"text-align: center;\">    0.636     </td><td style=\"text-align: center;\">      0.629       </td><td style=\"text-align: center;\">0.691</td><td style=\"text-align: center;\">0.499</td><td style=\"text-align: center;\">       0.512        </td></tr>\n",
       "<tr><td>Dist 1, ptp mean, 14 feat</td><td style=\"text-align: center;\">0.791</td><td style=\"text-align: center;\">    0.706     </td><td style=\"text-align: center;\">      0.678       </td><td style=\"text-align: center;\">0.688</td><td style=\"text-align: center;\">0.604</td><td style=\"text-align: center;\">       0.634        </td></tr>\n",
       "<tr><td>Dist 2, mean, 13 feat    </td><td style=\"text-align: center;\">0.708</td><td style=\"text-align: center;\">    0.554     </td><td style=\"text-align: center;\">      0.536       </td><td style=\"text-align: center;\">0.566</td><td style=\"text-align: center;\">0.459</td><td style=\"text-align: center;\">       0.478        </td></tr>\n",
       "<tr><td>Dist 2, ptp mean, 13 feat</td><td style=\"text-align: center;\">0.829</td><td style=\"text-align: center;\">    0.694     </td><td style=\"text-align: center;\">      0.653       </td><td style=\"text-align: center;\">0.744</td><td style=\"text-align: center;\">0.583</td><td style=\"text-align: center;\">       0.602        </td></tr>\n",
       "<tr><td>Dist 2, mean, 14 feat    </td><td style=\"text-align: center;\">0.706</td><td style=\"text-align: center;\">    0.567     </td><td style=\"text-align: center;\">      0.553       </td><td style=\"text-align: center;\">0.575</td><td style=\"text-align: center;\">0.473</td><td style=\"text-align: center;\">       0.518        </td></tr>\n",
       "<tr><td>Dist 2, ptp mean, 14 feat</td><td style=\"text-align: center;\">0.833</td><td style=\"text-align: center;\">    0.715     </td><td style=\"text-align: center;\">      0.682       </td><td style=\"text-align: center;\">0.754</td><td style=\"text-align: center;\">0.612</td><td style=\"text-align: center;\">       0.624        </td></tr>\n",
       "</tbody>\n",
       "</table>"
      ],
      "text/plain": [
       "'<table>\\n<thead>\\n<tr><th>Paramètres Haralick      </th><th style=\"text-align: center;\"> SVM </th><th style=\"text-align: center;\"> RandomForest </th><th style=\"text-align: center;\"> GradientBoosting </th><th style=\"text-align: center;\"> KNN </th><th style=\"text-align: center;\"> LDA </th><th style=\"text-align: center;\"> LogisticRegression </th></tr>\\n</thead>\\n<tbody>\\n<tr><td>Dist 1, mean, 13 feat    </td><td style=\"text-align: center;\">0.695</td><td style=\"text-align: center;\">    0.647     </td><td style=\"text-align: center;\">      0.604       </td><td style=\"text-align: center;\">0.631</td><td style=\"text-align: center;\">0.494</td><td style=\"text-align: center;\">       0.496        </td></tr>\\n<tr><td>Dist 1, ptp mean, 13 feat</td><td style=\"text-align: center;\">0.791</td><td style=\"text-align: center;\">    0.686     </td><td style=\"text-align: center;\">      0.672       </td><td style=\"text-align: center;\">0.685</td><td style=\"text-align: center;\">0.571</td><td style=\"text-align: center;\">       0.583        </td></tr>\\n<tr><td>Dist 1, mean, 14 feat    </td><td style=\"text-align: center;\">0.735</td><td style=\"text-align: center;\">    0.636     </td><td style=\"text-align: center;\">      0.629       </td><td style=\"text-align: center;\">0.691</td><td style=\"text-align: center;\">0.499</td><td style=\"text-align: center;\">       0.512        </td></tr>\\n<tr><td>Dist 1, ptp mean, 14 feat</td><td style=\"text-align: center;\">0.791</td><td style=\"text-align: center;\">    0.706     </td><td style=\"text-align: center;\">      0.678       </td><td style=\"text-align: center;\">0.688</td><td style=\"text-align: center;\">0.604</td><td style=\"text-align: center;\">       0.634        </td></tr>\\n<tr><td>Dist 2, mean, 13 feat    </td><td style=\"text-align: center;\">0.708</td><td style=\"text-align: center;\">    0.554     </td><td style=\"text-align: center;\">      0.536       </td><td style=\"text-align: center;\">0.566</td><td style=\"text-align: center;\">0.459</td><td style=\"text-align: center;\">       0.478        </td></tr>\\n<tr><td>Dist 2, ptp mean, 13 feat</td><td style=\"text-align: center;\">0.829</td><td style=\"text-align: center;\">    0.694     </td><td style=\"text-align: center;\">      0.653       </td><td style=\"text-align: center;\">0.744</td><td style=\"text-align: center;\">0.583</td><td style=\"text-align: center;\">       0.602        </td></tr>\\n<tr><td>Dist 2, mean, 14 feat    </td><td style=\"text-align: center;\">0.706</td><td style=\"text-align: center;\">    0.567     </td><td style=\"text-align: center;\">      0.553       </td><td style=\"text-align: center;\">0.575</td><td style=\"text-align: center;\">0.473</td><td style=\"text-align: center;\">       0.518        </td></tr>\\n<tr><td>Dist 2, ptp mean, 14 feat</td><td style=\"text-align: center;\">0.833</td><td style=\"text-align: center;\">    0.715     </td><td style=\"text-align: center;\">      0.682       </td><td style=\"text-align: center;\">0.754</td><td style=\"text-align: center;\">0.612</td><td style=\"text-align: center;\">       0.624        </td></tr>\\n</tbody>\\n</table>'"
      ]
     },
     "execution_count": 47,
     "metadata": {},
     "output_type": "execute_result"
    }
   ],
   "source": [
    "print(\"Evaluation des paramètres Haralick\")\n",
    "f1_params = []\n",
    "f1_params.append([\"Dist 1, mean, 13 feat\", score_svm1, score_rfc1, score_gboost1, score_knn1, score_lda1, score_lr1])\n",
    "f1_params.append([\"Dist 1, ptp mean, 13 feat\", score_svm2, score_rfc2, score_gboost2, score_knn2, score_lda2, score_lr2])\n",
    "f1_params.append([\"Dist 1, mean, 14 feat\", score_svm3, score_rfc3, score_gboost3, score_knn3, score_lda3, score_lr3])\n",
    "f1_params.append([\"Dist 1, ptp mean, 14 feat\", score_svm4, score_rfc4, score_gboost4, score_knn4, score_lda4, score_lr4])\n",
    "f1_params.append([\"Dist 2, mean, 13 feat\", score_svm5, score_rfc5, score_gboost5, score_knn5, score_lda5, score_lr5])\n",
    "f1_params.append([\"Dist 2, ptp mean, 13 feat\", score_svm6, score_rfc6, score_gboost6, score_knn6, score_lda6, score_lr6])\n",
    "f1_params.append([\"Dist 2, mean, 14 feat\", score_svm7, score_rfc7, score_gboost7, score_knn7, score_lda7, score_lr7])\n",
    "f1_params.append([\"Dist 2, ptp mean, 14 feat\", score_svm8, score_rfc8, score_gboost8, score_knn8, score_lda8, score_lr8])\n",
    "tabulate(f1_params, headers=[\"Paramètres Haralick\", \"SVM\", \"RandomForest\", \"GradientBoosting\", \"KNN\", \"LDA\", \"LogisticRegression\"],\n",
    "         tablefmt=\"html\", floatfmt=\".3f\", numalign=\"center\")"
   ]
  },
  {
   "cell_type": "markdown",
   "id": "154c41c1",
   "metadata": {},
   "source": [
    "Le meilleur score pour chaque classifieur (sauf Logisitc Regression, mais l'écart n'est pas très important) est atteint avec une distance de 2, une moyenne Point-to-point et 14 features Haralick, ce qui simplifie la sélection de la meilleur feature. Par la suite, l'extracteur de features Haralick est donc utilisé avec ces paramètres (`distance=2`, `return_mean_ptp=True` et `compute_14th_feature=True`)"
   ]
  },
  {
   "cell_type": "code",
   "execution_count": 48,
   "id": "9c73a88b",
   "metadata": {},
   "outputs": [
    {
     "data": {
      "text/plain": [
       "((422, 28), (207, 28))"
      ]
     },
     "execution_count": 48,
     "metadata": {},
     "output_type": "execute_result"
    }
   ],
   "source": [
    "haralick = np.array([mahotas.features.haralick(np.array(Image.open(f)), return_mean_ptp=True,\n",
    "                                         compute_14th_feature=True, distance=2) for f in files_train])\n",
    "haralick_test = np.array([mahotas.features.haralick(np.array(Image.open(f)), return_mean_ptp=True,\n",
    "                                         compute_14th_feature=True, distance=2) for f in files_test])\n",
    "haralick.shape, haralick_test.shape"
   ]
  },
  {
   "cell_type": "code",
   "execution_count": 49,
   "id": "5e951fbd",
   "metadata": {},
   "outputs": [
    {
     "name": "stdout",
     "output_type": "stream",
     "text": [
      "Récapitulatif des F1-scores obtenus par Cross Validation\n"
     ]
    },
    {
     "data": {
      "text/html": [
       "<table>\n",
       "<thead>\n",
       "<tr><th>Feature                 </th><th style=\"text-align: center;\"> SVM </th><th style=\"text-align: center;\"> RandomForest </th><th style=\"text-align: center;\"> GradientBoosting </th><th style=\"text-align: center;\"> KNN </th><th style=\"text-align: center;\"> LDA </th><th style=\"text-align: center;\"> LogisticRegression </th></tr>\n",
       "</thead>\n",
       "<tbody>\n",
       "<tr><td>PFTAS                   </td><td style=\"text-align: center;\">0.821</td><td style=\"text-align: center;\">    0.773     </td><td style=\"text-align: center;\">      0.751       </td><td style=\"text-align: center;\">0.763</td><td style=\"text-align: center;\">0.723</td><td style=\"text-align: center;\">       0.766        </td></tr>\n",
       "<tr><td>Color channel statistics</td><td style=\"text-align: center;\">0.823</td><td style=\"text-align: center;\">    0.714     </td><td style=\"text-align: center;\">      0.669       </td><td style=\"text-align: center;\">0.762</td><td style=\"text-align: center;\">0.515</td><td style=\"text-align: center;\">       0.557        </td></tr>\n",
       "<tr><td>Hu moments              </td><td style=\"text-align: center;\">0.276</td><td style=\"text-align: center;\">    0.146     </td><td style=\"text-align: center;\">      0.145       </td><td style=\"text-align: center;\">0.262</td><td style=\"text-align: center;\">0.226</td><td style=\"text-align: center;\">       0.247        </td></tr>\n",
       "<tr><td>Haralick                </td><td style=\"text-align: center;\">0.833</td><td style=\"text-align: center;\">    0.715     </td><td style=\"text-align: center;\">      0.682       </td><td style=\"text-align: center;\">0.754</td><td style=\"text-align: center;\">0.612</td><td style=\"text-align: center;\">       0.624        </td></tr>\n",
       "</tbody>\n",
       "</table>"
      ],
      "text/plain": [
       "'<table>\\n<thead>\\n<tr><th>Feature                 </th><th style=\"text-align: center;\"> SVM </th><th style=\"text-align: center;\"> RandomForest </th><th style=\"text-align: center;\"> GradientBoosting </th><th style=\"text-align: center;\"> KNN </th><th style=\"text-align: center;\"> LDA </th><th style=\"text-align: center;\"> LogisticRegression </th></tr>\\n</thead>\\n<tbody>\\n<tr><td>PFTAS                   </td><td style=\"text-align: center;\">0.821</td><td style=\"text-align: center;\">    0.773     </td><td style=\"text-align: center;\">      0.751       </td><td style=\"text-align: center;\">0.763</td><td style=\"text-align: center;\">0.723</td><td style=\"text-align: center;\">       0.766        </td></tr>\\n<tr><td>Color channel statistics</td><td style=\"text-align: center;\">0.823</td><td style=\"text-align: center;\">    0.714     </td><td style=\"text-align: center;\">      0.669       </td><td style=\"text-align: center;\">0.762</td><td style=\"text-align: center;\">0.515</td><td style=\"text-align: center;\">       0.557        </td></tr>\\n<tr><td>Hu moments              </td><td style=\"text-align: center;\">0.276</td><td style=\"text-align: center;\">    0.146     </td><td style=\"text-align: center;\">      0.145       </td><td style=\"text-align: center;\">0.262</td><td style=\"text-align: center;\">0.226</td><td style=\"text-align: center;\">       0.247        </td></tr>\\n<tr><td>Haralick                </td><td style=\"text-align: center;\">0.833</td><td style=\"text-align: center;\">    0.715     </td><td style=\"text-align: center;\">      0.682       </td><td style=\"text-align: center;\">0.754</td><td style=\"text-align: center;\">0.612</td><td style=\"text-align: center;\">       0.624        </td></tr>\\n</tbody>\\n</table>'"
      ]
     },
     "execution_count": 49,
     "metadata": {},
     "output_type": "execute_result"
    }
   ],
   "source": [
    "print(\"Récapitulatif des F1-scores obtenus par Cross Validation\")\n",
    "f1_scores.append([\"Haralick\", score_svm8, score_rfc8, score_gboost8, score_knn8, score_lda8, score_lr8])\n",
    "tabulate(f1_scores, headers=[\"Feature\", \"SVM\", \"RandomForest\", \"GradientBoosting\", \"KNN\", \"LDA\", \"LogisticRegression\"],\n",
    "         tablefmt=\"html\", floatfmt=\".3f\", numalign=\"center\")"
   ]
  },
  {
   "cell_type": "markdown",
   "id": "f1839f17",
   "metadata": {},
   "source": [
    "### Combinaisons"
   ]
  },
  {
   "cell_type": "markdown",
   "id": "f46b5ee8",
   "metadata": {},
   "source": [
    "Différentes combinaisons des features calculées sont testées dans cette section. Sont notamment testées PFTAS, Color channel statistics et Haralick avec et sans Hu Moments, pour vérifier si intégrer cette feature a réellement un impact. <br>\n",
    "<u>Sans Hu Moments </u>"
   ]
  },
  {
   "cell_type": "code",
   "execution_count": 54,
   "id": "c2754ed0",
   "metadata": {},
   "outputs": [],
   "source": [
    "X = np.concatenate([pftas, chan_stats, haralick], axis=1)\n",
    "scaler = StandardScaler()\n",
    "X_scaled = scaler.fit_transform(X)"
   ]
  },
  {
   "cell_type": "code",
   "execution_count": 55,
   "id": "d78925bc",
   "metadata": {},
   "outputs": [
    {
     "data": {
      "application/vnd.jupyter.widget-view+json": {
       "model_id": "33755ed1e9874b229d91515d80adf5b5",
       "version_major": 2,
       "version_minor": 0
      },
      "text/plain": [
       "  0%|          | 0/100 [00:00<?, ?it/s]"
      ]
     },
     "metadata": {},
     "output_type": "display_data"
    },
    {
     "name": "stdout",
     "output_type": "stream",
     "text": [
      "Best score for SVM is 0.8662926011350156 for C = 8\n"
     ]
    }
   ],
   "source": [
    "reg = range(1, 101)\n",
    "score = []\n",
    "for c in tqdm(reg):\n",
    "    svm = SVC(C=c)\n",
    "    score.append(np.mean(cross_val_score(svm, X_scaled, y_train, cv=16, scoring=\"f1_weighted\")))\n",
    "print(f\"Best score for SVM is {np.max(score)} for C = {np.argmax(score) + 1}\")\n",
    "score_svm = np.max(score)"
   ]
  },
  {
   "cell_type": "code",
   "execution_count": 56,
   "id": "edad53e8",
   "metadata": {},
   "outputs": [
    {
     "name": "stdout",
     "output_type": "stream",
     "text": [
      "Score for Random Forest is 0.8140755345082268.\n"
     ]
    }
   ],
   "source": [
    "rfc = RandomForestClassifier()\n",
    "score_rfc = np.mean(cross_val_score(rfc, X, y_train, cv=16, scoring=\"f1_weighted\"))\n",
    "print(f\"Score for Random Forest is {score_rfc}.\")"
   ]
  },
  {
   "cell_type": "code",
   "execution_count": 57,
   "id": "1dca5d87",
   "metadata": {},
   "outputs": [
    {
     "name": "stdout",
     "output_type": "stream",
     "text": [
      "Score for Gradient Boosting is 0.7718510665893143.\n"
     ]
    }
   ],
   "source": [
    "gboost = GradientBoostingClassifier()\n",
    "score_gboost = np.mean(cross_val_score(gboost, X, y_train, cv=16, scoring=\"f1_weighted\"))\n",
    "print(f\"Score for Gradient Boosting is {score_gboost}.\")"
   ]
  },
  {
   "cell_type": "code",
   "execution_count": 58,
   "id": "a34300d2",
   "metadata": {},
   "outputs": [
    {
     "data": {
      "application/vnd.jupyter.widget-view+json": {
       "model_id": "b87cfddd1b16425dbb30eee28bffdf83",
       "version_major": 2,
       "version_minor": 0
      },
      "text/plain": [
       "  0%|          | 0/100 [00:00<?, ?it/s]"
      ]
     },
     "metadata": {},
     "output_type": "display_data"
    },
    {
     "name": "stdout",
     "output_type": "stream",
     "text": [
      "Best score for KNN is 0.7902230371915202 for k = 1\n"
     ]
    }
   ],
   "source": [
    "neigh = range(1, 101)\n",
    "score = []\n",
    "for k in tqdm(neigh):\n",
    "    knn = KNeighborsClassifier(n_neighbors=k)\n",
    "    score.append(np.mean(cross_val_score(knn, X_scaled, y_train, cv=16, scoring=\"f1_weighted\")))\n",
    "print(f\"Best score for KNN is {np.max(score)} for k = {np.argmax(score) + 1}\")\n",
    "score_knn = np.max(score)"
   ]
  },
  {
   "cell_type": "code",
   "execution_count": 59,
   "id": "9ea93505",
   "metadata": {},
   "outputs": [
    {
     "name": "stdout",
     "output_type": "stream",
     "text": [
      "Score for LDA classifier is 0.798059570909464.\n"
     ]
    }
   ],
   "source": [
    "lda = LinearDiscriminantAnalysis()\n",
    "score_lda = np.mean(cross_val_score(lda, X, y_train, cv=16, scoring=\"f1_weighted\"))\n",
    "print(f\"Score for LDA classifier is {score_lda}.\")"
   ]
  },
  {
   "cell_type": "code",
   "execution_count": 60,
   "id": "b5fc2886",
   "metadata": {},
   "outputs": [
    {
     "name": "stdout",
     "output_type": "stream",
     "text": [
      "Score for LDA classifier is 0.8149726885570903.\n"
     ]
    }
   ],
   "source": [
    "lr = LogisticRegression(max_iter=500)\n",
    "score_lr = np.mean(cross_val_score(lr, X_scaled, y_train, cv=16, scoring=\"f1_weighted\"))\n",
    "print(f\"Score for Logistic Regression classifier is {score_lr}.\")"
   ]
  },
  {
   "cell_type": "code",
   "execution_count": 61,
   "id": "7bde3b81",
   "metadata": {},
   "outputs": [
    {
     "name": "stdout",
     "output_type": "stream",
     "text": [
      "Récapitulatif des F1-scores obtenus par Cross Validation\n"
     ]
    },
    {
     "data": {
      "text/html": [
       "<table>\n",
       "<thead>\n",
       "<tr><th>Feature                       </th><th style=\"text-align: center;\"> SVM </th><th style=\"text-align: center;\"> RandomForest </th><th style=\"text-align: center;\"> GradientBoosting </th><th style=\"text-align: center;\"> KNN </th><th style=\"text-align: center;\"> LDA </th><th style=\"text-align: center;\"> LogisticRegression </th></tr>\n",
       "</thead>\n",
       "<tbody>\n",
       "<tr><td>PFTAS                         </td><td style=\"text-align: center;\">0.821</td><td style=\"text-align: center;\">    0.773     </td><td style=\"text-align: center;\">      0.751       </td><td style=\"text-align: center;\">0.763</td><td style=\"text-align: center;\">0.723</td><td style=\"text-align: center;\">       0.766        </td></tr>\n",
       "<tr><td>Color channel statistics      </td><td style=\"text-align: center;\">0.823</td><td style=\"text-align: center;\">    0.714     </td><td style=\"text-align: center;\">      0.669       </td><td style=\"text-align: center;\">0.762</td><td style=\"text-align: center;\">0.515</td><td style=\"text-align: center;\">       0.557        </td></tr>\n",
       "<tr><td>Hu moments                    </td><td style=\"text-align: center;\">0.276</td><td style=\"text-align: center;\">    0.146     </td><td style=\"text-align: center;\">      0.145       </td><td style=\"text-align: center;\">0.262</td><td style=\"text-align: center;\">0.226</td><td style=\"text-align: center;\">       0.247        </td></tr>\n",
       "<tr><td>Haralick                      </td><td style=\"text-align: center;\">0.833</td><td style=\"text-align: center;\">    0.715     </td><td style=\"text-align: center;\">      0.682       </td><td style=\"text-align: center;\">0.754</td><td style=\"text-align: center;\">0.612</td><td style=\"text-align: center;\">       0.624        </td></tr>\n",
       "<tr><td>PFTAS + Color stats + Haralick</td><td style=\"text-align: center;\">0.866</td><td style=\"text-align: center;\">    0.814     </td><td style=\"text-align: center;\">      0.772       </td><td style=\"text-align: center;\">0.790</td><td style=\"text-align: center;\">0.798</td><td style=\"text-align: center;\">       0.815        </td></tr>\n",
       "</tbody>\n",
       "</table>"
      ],
      "text/plain": [
       "'<table>\\n<thead>\\n<tr><th>Feature                       </th><th style=\"text-align: center;\"> SVM </th><th style=\"text-align: center;\"> RandomForest </th><th style=\"text-align: center;\"> GradientBoosting </th><th style=\"text-align: center;\"> KNN </th><th style=\"text-align: center;\"> LDA </th><th style=\"text-align: center;\"> LogisticRegression </th></tr>\\n</thead>\\n<tbody>\\n<tr><td>PFTAS                         </td><td style=\"text-align: center;\">0.821</td><td style=\"text-align: center;\">    0.773     </td><td style=\"text-align: center;\">      0.751       </td><td style=\"text-align: center;\">0.763</td><td style=\"text-align: center;\">0.723</td><td style=\"text-align: center;\">       0.766        </td></tr>\\n<tr><td>Color channel statistics      </td><td style=\"text-align: center;\">0.823</td><td style=\"text-align: center;\">    0.714     </td><td style=\"text-align: center;\">      0.669       </td><td style=\"text-align: center;\">0.762</td><td style=\"text-align: center;\">0.515</td><td style=\"text-align: center;\">       0.557        </td></tr>\\n<tr><td>Hu moments                    </td><td style=\"text-align: center;\">0.276</td><td style=\"text-align: center;\">    0.146     </td><td style=\"text-align: center;\">      0.145       </td><td style=\"text-align: center;\">0.262</td><td style=\"text-align: center;\">0.226</td><td style=\"text-align: center;\">       0.247        </td></tr>\\n<tr><td>Haralick                      </td><td style=\"text-align: center;\">0.833</td><td style=\"text-align: center;\">    0.715     </td><td style=\"text-align: center;\">      0.682       </td><td style=\"text-align: center;\">0.754</td><td style=\"text-align: center;\">0.612</td><td style=\"text-align: center;\">       0.624        </td></tr>\\n<tr><td>PFTAS + Color stats + Haralick</td><td style=\"text-align: center;\">0.866</td><td style=\"text-align: center;\">    0.814     </td><td style=\"text-align: center;\">      0.772       </td><td style=\"text-align: center;\">0.790</td><td style=\"text-align: center;\">0.798</td><td style=\"text-align: center;\">       0.815        </td></tr>\\n</tbody>\\n</table>'"
      ]
     },
     "execution_count": 61,
     "metadata": {},
     "output_type": "execute_result"
    }
   ],
   "source": [
    "print(\"Récapitulatif des F1-scores obtenus par Cross Validation\")\n",
    "f1_scores.append([\"PFTAS + Color stats + Haralick\", score_svm, score_rfc, score_gboost, score_knn, score_lda, score_lr])\n",
    "tabulate(f1_scores, headers=[\"Feature\", \"SVM\", \"RandomForest\", \"GradientBoosting\", \"KNN\", \"LDA\", \"LogisticRegression\"],\n",
    "         tablefmt=\"html\", floatfmt=\".3f\", numalign=\"center\")"
   ]
  },
  {
   "cell_type": "markdown",
   "id": "c5c67e14",
   "metadata": {},
   "source": [
    "<u>Avec Hu Moments</u>"
   ]
  },
  {
   "cell_type": "code",
   "execution_count": 62,
   "id": "e9f6eea5",
   "metadata": {},
   "outputs": [],
   "source": [
    "X = np.concatenate([pftas, chan_stats, hu, haralick], axis=1)\n",
    "scaler = StandardScaler()\n",
    "X_scaled = scaler.fit_transform(X)"
   ]
  },
  {
   "cell_type": "code",
   "execution_count": 63,
   "id": "31eefc07",
   "metadata": {},
   "outputs": [
    {
     "data": {
      "application/vnd.jupyter.widget-view+json": {
       "model_id": "0c743c5089744d22934570a6cf1b271a",
       "version_major": 2,
       "version_minor": 0
      },
      "text/plain": [
       "  0%|          | 0/100 [00:00<?, ?it/s]"
      ]
     },
     "metadata": {},
     "output_type": "display_data"
    },
    {
     "name": "stdout",
     "output_type": "stream",
     "text": [
      "Best score for SVM is 0.8676391203367699 for C = 6\n"
     ]
    }
   ],
   "source": [
    "reg = range(1, 101)\n",
    "score = []\n",
    "for c in tqdm(reg):\n",
    "    svm = SVC(C=c)\n",
    "    score.append(np.mean(cross_val_score(svm, X_scaled, y_train, cv=16, scoring=\"f1_weighted\")))\n",
    "print(f\"Best score for SVM is {np.max(score)} for C = {np.argmax(score) + 1}\")\n",
    "score_svm = np.max(score)"
   ]
  },
  {
   "cell_type": "code",
   "execution_count": 64,
   "id": "bc3b0f31",
   "metadata": {},
   "outputs": [
    {
     "name": "stdout",
     "output_type": "stream",
     "text": [
      "Score for Random Forest is 0.8190478512860992.\n"
     ]
    }
   ],
   "source": [
    "rfc = RandomForestClassifier()\n",
    "score_rfc = np.mean(cross_val_score(rfc, X, y_train, cv=16, scoring=\"f1_weighted\"))\n",
    "print(f\"Score for Random Forest is {score_rfc}.\")"
   ]
  },
  {
   "cell_type": "code",
   "execution_count": 65,
   "id": "77add1fb",
   "metadata": {},
   "outputs": [
    {
     "name": "stdout",
     "output_type": "stream",
     "text": [
      "Score for Gradient Boosting is 0.7727443625146616.\n"
     ]
    }
   ],
   "source": [
    "gboost = GradientBoostingClassifier()\n",
    "score_gboost = np.mean(cross_val_score(gboost, X, y_train, cv=16, scoring=\"f1_weighted\"))\n",
    "print(f\"Score for Gradient Boosting is {score_gboost}.\")"
   ]
  },
  {
   "cell_type": "code",
   "execution_count": 66,
   "id": "1b1c185f",
   "metadata": {},
   "outputs": [
    {
     "data": {
      "application/vnd.jupyter.widget-view+json": {
       "model_id": "232e42fcbb314e7a98bd610a1f43d8f9",
       "version_major": 2,
       "version_minor": 0
      },
      "text/plain": [
       "  0%|          | 0/100 [00:00<?, ?it/s]"
      ]
     },
     "metadata": {},
     "output_type": "display_data"
    },
    {
     "name": "stdout",
     "output_type": "stream",
     "text": [
      "Best score for KNN is 0.7928882405778773 for k = 1\n"
     ]
    }
   ],
   "source": [
    "neigh = range(1, 101)\n",
    "score = []\n",
    "for k in tqdm(neigh):\n",
    "    knn = KNeighborsClassifier(n_neighbors=k)\n",
    "    score.append(np.mean(cross_val_score(knn, X_scaled, y_train, cv=16, scoring=\"f1_weighted\")))\n",
    "print(f\"Best score for KNN is {np.max(score)} for k = {np.argmax(score) + 1}\")\n",
    "score_knn = np.max(score)"
   ]
  },
  {
   "cell_type": "code",
   "execution_count": 67,
   "id": "b801bdcd",
   "metadata": {},
   "outputs": [
    {
     "name": "stdout",
     "output_type": "stream",
     "text": [
      "Score for LDA classifier is 0.7852804988221656.\n"
     ]
    }
   ],
   "source": [
    "lda = LinearDiscriminantAnalysis()\n",
    "score_lda = np.mean(cross_val_score(lda, X, y_train, cv=16, scoring=\"f1_weighted\"))\n",
    "print(f\"Score for LDA classifier is {score_lda}.\")"
   ]
  },
  {
   "cell_type": "code",
   "execution_count": 68,
   "id": "dca162d8",
   "metadata": {},
   "outputs": [
    {
     "name": "stdout",
     "output_type": "stream",
     "text": [
      "Score for LDA classifier is 0.8138325923048146.\n"
     ]
    }
   ],
   "source": [
    "lr = LogisticRegression(max_iter=500)\n",
    "score_lr = np.mean(cross_val_score(lr, X_scaled, y_train, cv=16, scoring=\"f1_weighted\"))\n",
    "print(f\"Score for Logistic Regression classifier is {score_lr}.\")"
   ]
  },
  {
   "cell_type": "code",
   "execution_count": 69,
   "id": "49a1a6a4",
   "metadata": {},
   "outputs": [
    {
     "name": "stdout",
     "output_type": "stream",
     "text": [
      "Récapitulatif des F1-scores obtenus par Cross Validation\n"
     ]
    },
    {
     "data": {
      "text/html": [
       "<table>\n",
       "<thead>\n",
       "<tr><th>Feature                            </th><th style=\"text-align: center;\"> SVM </th><th style=\"text-align: center;\"> RandomForest </th><th style=\"text-align: center;\"> GradientBoosting </th><th style=\"text-align: center;\"> KNN </th><th style=\"text-align: center;\"> LDA </th><th style=\"text-align: center;\"> LogisticRegression </th></tr>\n",
       "</thead>\n",
       "<tbody>\n",
       "<tr><td>PFTAS                              </td><td style=\"text-align: center;\">0.821</td><td style=\"text-align: center;\">    0.773     </td><td style=\"text-align: center;\">      0.751       </td><td style=\"text-align: center;\">0.763</td><td style=\"text-align: center;\">0.723</td><td style=\"text-align: center;\">       0.766        </td></tr>\n",
       "<tr><td>Color channel statistics           </td><td style=\"text-align: center;\">0.823</td><td style=\"text-align: center;\">    0.714     </td><td style=\"text-align: center;\">      0.669       </td><td style=\"text-align: center;\">0.762</td><td style=\"text-align: center;\">0.515</td><td style=\"text-align: center;\">       0.557        </td></tr>\n",
       "<tr><td>Hu moments                         </td><td style=\"text-align: center;\">0.276</td><td style=\"text-align: center;\">    0.146     </td><td style=\"text-align: center;\">      0.145       </td><td style=\"text-align: center;\">0.262</td><td style=\"text-align: center;\">0.226</td><td style=\"text-align: center;\">       0.247        </td></tr>\n",
       "<tr><td>Haralick                           </td><td style=\"text-align: center;\">0.833</td><td style=\"text-align: center;\">    0.715     </td><td style=\"text-align: center;\">      0.682       </td><td style=\"text-align: center;\">0.754</td><td style=\"text-align: center;\">0.612</td><td style=\"text-align: center;\">       0.624        </td></tr>\n",
       "<tr><td>PFTAS + Color stats + Haralick     </td><td style=\"text-align: center;\">0.866</td><td style=\"text-align: center;\">    0.814     </td><td style=\"text-align: center;\">      0.772       </td><td style=\"text-align: center;\">0.790</td><td style=\"text-align: center;\">0.798</td><td style=\"text-align: center;\">       0.815        </td></tr>\n",
       "<tr><td>PFTAS + Color stats + Hu + Haralick</td><td style=\"text-align: center;\">0.868</td><td style=\"text-align: center;\">    0.819     </td><td style=\"text-align: center;\">      0.773       </td><td style=\"text-align: center;\">0.793</td><td style=\"text-align: center;\">0.785</td><td style=\"text-align: center;\">       0.814        </td></tr>\n",
       "</tbody>\n",
       "</table>"
      ],
      "text/plain": [
       "'<table>\\n<thead>\\n<tr><th>Feature                            </th><th style=\"text-align: center;\"> SVM </th><th style=\"text-align: center;\"> RandomForest </th><th style=\"text-align: center;\"> GradientBoosting </th><th style=\"text-align: center;\"> KNN </th><th style=\"text-align: center;\"> LDA </th><th style=\"text-align: center;\"> LogisticRegression </th></tr>\\n</thead>\\n<tbody>\\n<tr><td>PFTAS                              </td><td style=\"text-align: center;\">0.821</td><td style=\"text-align: center;\">    0.773     </td><td style=\"text-align: center;\">      0.751       </td><td style=\"text-align: center;\">0.763</td><td style=\"text-align: center;\">0.723</td><td style=\"text-align: center;\">       0.766        </td></tr>\\n<tr><td>Color channel statistics           </td><td style=\"text-align: center;\">0.823</td><td style=\"text-align: center;\">    0.714     </td><td style=\"text-align: center;\">      0.669       </td><td style=\"text-align: center;\">0.762</td><td style=\"text-align: center;\">0.515</td><td style=\"text-align: center;\">       0.557        </td></tr>\\n<tr><td>Hu moments                         </td><td style=\"text-align: center;\">0.276</td><td style=\"text-align: center;\">    0.146     </td><td style=\"text-align: center;\">      0.145       </td><td style=\"text-align: center;\">0.262</td><td style=\"text-align: center;\">0.226</td><td style=\"text-align: center;\">       0.247        </td></tr>\\n<tr><td>Haralick                           </td><td style=\"text-align: center;\">0.833</td><td style=\"text-align: center;\">    0.715     </td><td style=\"text-align: center;\">      0.682       </td><td style=\"text-align: center;\">0.754</td><td style=\"text-align: center;\">0.612</td><td style=\"text-align: center;\">       0.624        </td></tr>\\n<tr><td>PFTAS + Color stats + Haralick     </td><td style=\"text-align: center;\">0.866</td><td style=\"text-align: center;\">    0.814     </td><td style=\"text-align: center;\">      0.772       </td><td style=\"text-align: center;\">0.790</td><td style=\"text-align: center;\">0.798</td><td style=\"text-align: center;\">       0.815        </td></tr>\\n<tr><td>PFTAS + Color stats + Hu + Haralick</td><td style=\"text-align: center;\">0.868</td><td style=\"text-align: center;\">    0.819     </td><td style=\"text-align: center;\">      0.773       </td><td style=\"text-align: center;\">0.793</td><td style=\"text-align: center;\">0.785</td><td style=\"text-align: center;\">       0.814        </td></tr>\\n</tbody>\\n</table>'"
      ]
     },
     "execution_count": 69,
     "metadata": {},
     "output_type": "execute_result"
    }
   ],
   "source": [
    "print(\"Récapitulatif des F1-scores obtenus par Cross Validation\")\n",
    "f1_scores.append([\"PFTAS + Color stats + Hu + Haralick\", score_svm, score_rfc, score_gboost, score_knn, score_lda, score_lr])\n",
    "tabulate(f1_scores, headers=[\"Feature\", \"SVM\", \"RandomForest\", \"GradientBoosting\", \"KNN\", \"LDA\", \"LogisticRegression\"],\n",
    "         tablefmt=\"html\", floatfmt=\".3f\", numalign=\"center\")"
   ]
  },
  {
   "cell_type": "markdown",
   "id": "b6c215d3",
   "metadata": {},
   "source": [
    "&nbsp;&nbsp;On remarque donc que combiner les features augmente drastiquement le F1-score global obtenu, ceci avec tous les classifieurs. La feature des Hu moment, qui ne permet pas d'avoir un bon score par elle-même, semble participer à l'amélioration du score obtenu avec la plupart des classifieurs testés. <br><br>\n",
    "&nbsp;&nbsp;**Le classifieur SVM permet d'obtenir un meilleur score de manière systématique**, et ce seulement en optimisant la valeur de l'hyperparamètre C. Les hyperparamètres optimaux des classifieurs RandomForest et GradientBoosting n'ont pas été recherchés, mais ceux-ci sont nombreux et n'ont pas un impact unitaire aussi important que le coefficient de régularisation du SVM. Au vu des résultats obtenus, j'ai donc décidé d'optimiser un classifieur SVM par la suite."
   ]
  },
  {
   "cell_type": "markdown",
   "id": "e59d8858",
   "metadata": {},
   "source": [
    "### Comparaison de kernels SVM"
   ]
  },
  {
   "cell_type": "markdown",
   "id": "944fd548",
   "metadata": {},
   "source": [
    "&nbsp;&nbsp;Plusieurs articles parlent de kernels à intersection d'histogramme (http://perso.lcpc.fr/tarel.jean-philippe/publis/jpt-icip05.pdf, https://www.scirp.org/pdf/JCC_2015112015262272.pdf, ...), qui ne sont pas implémentés dans scikit-learn. J'ai trouvé le **GitHub suivant qui implémente un nombre important de kernels compatibles avec Scikit-learn : https://github.com/gmum/pykernels** <br>\n",
    "Test d'une série de kernels sur les features précédentes pour trouver le plus intéressant"
   ]
  },
  {
   "cell_type": "code",
   "execution_count": 71,
   "id": "82122dae",
   "metadata": {},
   "outputs": [],
   "source": [
    "kernels = {\"Exponential\":pykernels.Exponential(), \"Laplacian\":pykernels.Laplacian(), \"Cauchy\":pykernels.Cauchy(),\n",
    "           \"TStudent\":pykernels.TStudent(), \"Min\":pykernels.Min(), \"Log\":pykernels.Log(),\n",
    "           \"Power\":pykernels.Power(), \"HistoIntersection\":pykernels.GeneralizedHistogramIntersection(),\n",
    "           \"Tanimoto\":pykernels.Tanimoto(), \"Sorensen\":pykernels.Sorensen(), \"RBF\":\"rbf\", \"Linear\":\"linear\"}"
   ]
  },
  {
   "cell_type": "code",
   "execution_count": 72,
   "id": "e60349d0",
   "metadata": {},
   "outputs": [
    {
     "data": {
      "application/vnd.jupyter.widget-view+json": {
       "model_id": "be976296e1704250b8b3a83c8dfd4e05",
       "version_major": 2,
       "version_minor": 0
      },
      "text/plain": [
       "  0%|          | 0/12 [00:00<?, ?it/s]"
      ]
     },
     "metadata": {},
     "output_type": "display_data"
    },
    {
     "name": "stdout",
     "output_type": "stream",
     "text": [
      "Best score for kernel Exponential is 0.8279747174912773 for C = 38\n",
      "Best score for kernel Laplacian is 0.8279747174912773 for C = 38\n",
      "Best score for kernel Cauchy is 0.8326985529309247 for C = 13\n",
      "Best score for kernel TStudent is 0.42961550152635447 for C = 2\n",
      "Best score for kernel Min is 0.8120315483029159 for C = 1\n",
      "Best score for kernel Log is 0.8036666167008046 for C = 1\n",
      "Best score for kernel Power is 0.1825612766138867 for C = 32\n",
      "Best score for kernel GeneralizedHistogramIntersection is 0.7537703951833225 for C = 1\n",
      "Best score for kernel Tanimoto is 0.833345194296049 for C = 11\n",
      "Best score for kernel Sorensen is 0.8102855186322067 for C = 88\n",
      "Best score for kernel rbf is 0.8209024919762099 for C = 17\n",
      "Best score for kernel linear is 0.772078391990251 for C = 3\n"
     ]
    }
   ],
   "source": [
    "# PFTAS\n",
    "score_svm = {}\n",
    "for name, kern in tqdm(kernels.items()) :\n",
    "    reg = range(1, 101)\n",
    "    score = []\n",
    "    for c in reg:\n",
    "        svm = SVC(C=c, kernel=kern)\n",
    "        score.append(np.mean(cross_val_score(svm, pftas_scaled, y_train, cv=16, scoring=\"f1_weighted\")))\n",
    "    print(f\"Best score for kernel {kern} is {np.max(score)} for C = {np.argmax(score) + 1}\")\n",
    "    score_svm[name] = np.max(score)"
   ]
  },
  {
   "cell_type": "code",
   "execution_count": 74,
   "id": "187f02a1",
   "metadata": {},
   "outputs": [
    {
     "name": "stdout",
     "output_type": "stream",
     "text": [
      "Récapitulatif des F1-scores obtenus par Cross Validation par kernel\n"
     ]
    },
    {
     "data": {
      "text/html": [
       "<table>\n",
       "<thead>\n",
       "<tr><th>Feature  </th><th style=\"text-align: center;\"> Exponential </th><th style=\"text-align: center;\"> Laplacian </th><th style=\"text-align: center;\"> Cauchy </th><th style=\"text-align: center;\"> TStudent </th><th style=\"text-align: center;\"> Min </th><th style=\"text-align: center;\"> Log </th><th style=\"text-align: center;\"> Power </th><th style=\"text-align: center;\"> HistoIntersection </th><th style=\"text-align: center;\"> Tanimoto </th><th style=\"text-align: center;\"> Sorensen </th><th style=\"text-align: center;\"> RBF </th><th style=\"text-align: center;\"> Linear </th></tr>\n",
       "</thead>\n",
       "<tbody>\n",
       "<tr><td>PFTAS    </td><td style=\"text-align: center;\">    0.828    </td><td style=\"text-align: center;\">   0.828   </td><td style=\"text-align: center;\"> 0.833  </td><td style=\"text-align: center;\">  0.430   </td><td style=\"text-align: center;\">0.812</td><td style=\"text-align: center;\">0.804</td><td style=\"text-align: center;\"> 0.183 </td><td style=\"text-align: center;\">       0.754       </td><td style=\"text-align: center;\">  0.833   </td><td style=\"text-align: center;\">  0.810   </td><td style=\"text-align: center;\">0.821</td><td style=\"text-align: center;\"> 0.772  </td></tr>\n",
       "</tbody>\n",
       "</table>"
      ],
      "text/plain": [
       "'<table>\\n<thead>\\n<tr><th>Feature  </th><th style=\"text-align: center;\"> Exponential </th><th style=\"text-align: center;\"> Laplacian </th><th style=\"text-align: center;\"> Cauchy </th><th style=\"text-align: center;\"> TStudent </th><th style=\"text-align: center;\"> Min </th><th style=\"text-align: center;\"> Log </th><th style=\"text-align: center;\"> Power </th><th style=\"text-align: center;\"> HistoIntersection </th><th style=\"text-align: center;\"> Tanimoto </th><th style=\"text-align: center;\"> Sorensen </th><th style=\"text-align: center;\"> RBF </th><th style=\"text-align: center;\"> Linear </th></tr>\\n</thead>\\n<tbody>\\n<tr><td>PFTAS    </td><td style=\"text-align: center;\">    0.828    </td><td style=\"text-align: center;\">   0.828   </td><td style=\"text-align: center;\"> 0.833  </td><td style=\"text-align: center;\">  0.430   </td><td style=\"text-align: center;\">0.812</td><td style=\"text-align: center;\">0.804</td><td style=\"text-align: center;\"> 0.183 </td><td style=\"text-align: center;\">       0.754       </td><td style=\"text-align: center;\">  0.833   </td><td style=\"text-align: center;\">  0.810   </td><td style=\"text-align: center;\">0.821</td><td style=\"text-align: center;\"> 0.772  </td></tr>\\n</tbody>\\n</table>'"
      ]
     },
     "execution_count": 74,
     "metadata": {},
     "output_type": "execute_result"
    }
   ],
   "source": [
    "print(\"Récapitulatif des F1-scores obtenus par Cross Validation par kernel\")\n",
    "f1_kernels = []\n",
    "headers = [\"Feature\"]\n",
    "headers.extend([k for k in kernels.keys()])\n",
    "row = [\"PFTAS\"]\n",
    "row.extend([s for s in score_svm.values()])\n",
    "f1_kernels.append(row)\n",
    "tabulate(f1_kernels, headers=headers, tablefmt=\"html\", floatfmt=\".3f\", numalign=\"center\")"
   ]
  },
  {
   "cell_type": "code",
   "execution_count": 75,
   "id": "c19fe055",
   "metadata": {},
   "outputs": [
    {
     "data": {
      "application/vnd.jupyter.widget-view+json": {
       "model_id": "53402050051a40f89af85835c2ba195e",
       "version_major": 2,
       "version_minor": 0
      },
      "text/plain": [
       "  0%|          | 0/12 [00:00<?, ?it/s]"
      ]
     },
     "metadata": {},
     "output_type": "display_data"
    },
    {
     "name": "stdout",
     "output_type": "stream",
     "text": [
      "Best score for kernel Exponential is 0.8119612324206341 for C = 17\n",
      "Best score for kernel Laplacian is 0.8119612324206341 for C = 17\n",
      "Best score for kernel Cauchy is 0.8329321161586118 for C = 21\n",
      "Best score for kernel TStudent is 0.7839089724773485 for C = 3\n",
      "Best score for kernel Min is 0.7490773580250076 for C = 2\n",
      "Best score for kernel Log is 0.771498063111311 for C = 2\n",
      "Best score for kernel Power is 0.1784455540707236 for C = 1\n",
      "Best score for kernel GeneralizedHistogramIntersection is 0.5900364350260654 for C = 2\n",
      "Best score for kernel Tanimoto is 0.8305222990052049 for C = 26\n",
      "Best score for kernel Sorensen is 0.7691421682741126 for C = 37\n",
      "Best score for kernel rbf is 0.822807826867656 for C = 29\n",
      "Best score for kernel linear is 0.6915440506786661 for C = 6\n"
     ]
    }
   ],
   "source": [
    "# Color statistics\n",
    "score_svm = {}\n",
    "for name, kern in tqdm(kernels.items()) :\n",
    "    reg = range(1, 101)\n",
    "    score = []\n",
    "    for c in reg:\n",
    "        svm = SVC(C=c, kernel=kern)\n",
    "        score.append(np.mean(cross_val_score(svm, chan_stats_scaled, y_train, cv=16, scoring=\"f1_weighted\")))\n",
    "    print(f\"Best score for kernel {kern} is {np.max(score)} for C = {np.argmax(score) + 1}\")\n",
    "    score_svm[name] = np.max(score)"
   ]
  },
  {
   "cell_type": "code",
   "execution_count": 76,
   "id": "ea415a4a",
   "metadata": {},
   "outputs": [
    {
     "name": "stdout",
     "output_type": "stream",
     "text": [
      "Récapitulatif des F1-scores obtenus par Cross Validation par kernel\n"
     ]
    },
    {
     "data": {
      "text/html": [
       "<table>\n",
       "<thead>\n",
       "<tr><th>Feature                 </th><th style=\"text-align: center;\"> Exponential </th><th style=\"text-align: center;\"> Laplacian </th><th style=\"text-align: center;\"> Cauchy </th><th style=\"text-align: center;\"> TStudent </th><th style=\"text-align: center;\"> Min </th><th style=\"text-align: center;\"> Log </th><th style=\"text-align: center;\"> Power </th><th style=\"text-align: center;\"> HistoIntersection </th><th style=\"text-align: center;\"> Tanimoto </th><th style=\"text-align: center;\"> Sorensen </th><th style=\"text-align: center;\"> RBF </th><th style=\"text-align: center;\"> Linear </th></tr>\n",
       "</thead>\n",
       "<tbody>\n",
       "<tr><td>PFTAS                   </td><td style=\"text-align: center;\">    0.828    </td><td style=\"text-align: center;\">   0.828   </td><td style=\"text-align: center;\"> 0.833  </td><td style=\"text-align: center;\">  0.430   </td><td style=\"text-align: center;\">0.812</td><td style=\"text-align: center;\">0.804</td><td style=\"text-align: center;\"> 0.183 </td><td style=\"text-align: center;\">       0.754       </td><td style=\"text-align: center;\">  0.833   </td><td style=\"text-align: center;\">  0.810   </td><td style=\"text-align: center;\">0.821</td><td style=\"text-align: center;\"> 0.772  </td></tr>\n",
       "<tr><td>Color channel statistics</td><td style=\"text-align: center;\">    0.812    </td><td style=\"text-align: center;\">   0.812   </td><td style=\"text-align: center;\"> 0.833  </td><td style=\"text-align: center;\">  0.784   </td><td style=\"text-align: center;\">0.749</td><td style=\"text-align: center;\">0.771</td><td style=\"text-align: center;\"> 0.178 </td><td style=\"text-align: center;\">       0.590       </td><td style=\"text-align: center;\">  0.831   </td><td style=\"text-align: center;\">  0.769   </td><td style=\"text-align: center;\">0.823</td><td style=\"text-align: center;\"> 0.692  </td></tr>\n",
       "</tbody>\n",
       "</table>"
      ],
      "text/plain": [
       "'<table>\\n<thead>\\n<tr><th>Feature                 </th><th style=\"text-align: center;\"> Exponential </th><th style=\"text-align: center;\"> Laplacian </th><th style=\"text-align: center;\"> Cauchy </th><th style=\"text-align: center;\"> TStudent </th><th style=\"text-align: center;\"> Min </th><th style=\"text-align: center;\"> Log </th><th style=\"text-align: center;\"> Power </th><th style=\"text-align: center;\"> HistoIntersection </th><th style=\"text-align: center;\"> Tanimoto </th><th style=\"text-align: center;\"> Sorensen </th><th style=\"text-align: center;\"> RBF </th><th style=\"text-align: center;\"> Linear </th></tr>\\n</thead>\\n<tbody>\\n<tr><td>PFTAS                   </td><td style=\"text-align: center;\">    0.828    </td><td style=\"text-align: center;\">   0.828   </td><td style=\"text-align: center;\"> 0.833  </td><td style=\"text-align: center;\">  0.430   </td><td style=\"text-align: center;\">0.812</td><td style=\"text-align: center;\">0.804</td><td style=\"text-align: center;\"> 0.183 </td><td style=\"text-align: center;\">       0.754       </td><td style=\"text-align: center;\">  0.833   </td><td style=\"text-align: center;\">  0.810   </td><td style=\"text-align: center;\">0.821</td><td style=\"text-align: center;\"> 0.772  </td></tr>\\n<tr><td>Color channel statistics</td><td style=\"text-align: center;\">    0.812    </td><td style=\"text-align: center;\">   0.812   </td><td style=\"text-align: center;\"> 0.833  </td><td style=\"text-align: center;\">  0.784   </td><td style=\"text-align: center;\">0.749</td><td style=\"text-align: center;\">0.771</td><td style=\"text-align: center;\"> 0.178 </td><td style=\"text-align: center;\">       0.590       </td><td style=\"text-align: center;\">  0.831   </td><td style=\"text-align: center;\">  0.769   </td><td style=\"text-align: center;\">0.823</td><td style=\"text-align: center;\"> 0.692  </td></tr>\\n</tbody>\\n</table>'"
      ]
     },
     "execution_count": 76,
     "metadata": {},
     "output_type": "execute_result"
    }
   ],
   "source": [
    "print(\"Récapitulatif des F1-scores obtenus par Cross Validation par kernel\")\n",
    "headers = [\"Feature\"]\n",
    "headers.extend([k for k in kernels.keys()])\n",
    "row = [\"Color channel statistics\"]\n",
    "row.extend([s for s in score_svm.values()])\n",
    "f1_kernels.append(row)\n",
    "tabulate(f1_kernels, headers=headers, tablefmt=\"html\", floatfmt=\".3f\", numalign=\"center\")"
   ]
  },
  {
   "cell_type": "code",
   "execution_count": 77,
   "id": "22de10eb",
   "metadata": {},
   "outputs": [
    {
     "data": {
      "application/vnd.jupyter.widget-view+json": {
       "model_id": "5c5c63e2fdfd4567b698d5c1d0d0ec9c",
       "version_major": 2,
       "version_minor": 0
      },
      "text/plain": [
       "  0%|          | 0/12 [00:00<?, ?it/s]"
      ]
     },
     "metadata": {},
     "output_type": "display_data"
    },
    {
     "name": "stdout",
     "output_type": "stream",
     "text": [
      "Best score for kernel Exponential is 0.2638902941787557 for C = 100\n",
      "Best score for kernel Laplacian is 0.2638902941787557 for C = 100\n",
      "Best score for kernel Cauchy is 0.25874356430288237 for C = 8\n",
      "Best score for kernel TStudent is 0.27314518364865586 for C = 41\n",
      "Best score for kernel Min is 0.27693513973562056 for C = 5\n",
      "Best score for kernel Log is 0.2269498876202936 for C = 49\n",
      "Best score for kernel Power is 0.184927886036719 for C = 1\n",
      "Best score for kernel GeneralizedHistogramIntersection is 0.22811472189221688 for C = 3\n",
      "Best score for kernel Tanimoto is 0.28106957343068456 for C = 18\n",
      "Best score for kernel Sorensen is 0.25511755279383486 for C = 23\n",
      "Best score for kernel rbf is 0.27556334606948923 for C = 45\n",
      "Best score for kernel linear is 0.21477082019129176 for C = 69\n"
     ]
    }
   ],
   "source": [
    "# Hu Moments\n",
    "score_svm = {}\n",
    "for name, kern in tqdm(kernels.items()) :\n",
    "    reg = range(1, 101)\n",
    "    score = []\n",
    "    for c in reg:\n",
    "        svm = SVC(C=c, kernel=kern)\n",
    "        score.append(np.mean(cross_val_score(svm, hu_scaled, y_train, cv=16, scoring=\"f1_weighted\")))\n",
    "    print(f\"Best score for kernel {kern} is {np.max(score)} for C = {np.argmax(score) + 1}\")\n",
    "    score_svm[name] = np.max(score)"
   ]
  },
  {
   "cell_type": "code",
   "execution_count": 78,
   "id": "cdbe07a6",
   "metadata": {},
   "outputs": [
    {
     "name": "stdout",
     "output_type": "stream",
     "text": [
      "Récapitulatif des F1-scores obtenus par Cross Validation par kernel\n"
     ]
    },
    {
     "data": {
      "text/html": [
       "<table>\n",
       "<thead>\n",
       "<tr><th>Feature                 </th><th style=\"text-align: center;\"> Exponential </th><th style=\"text-align: center;\"> Laplacian </th><th style=\"text-align: center;\"> Cauchy </th><th style=\"text-align: center;\"> TStudent </th><th style=\"text-align: center;\"> Min </th><th style=\"text-align: center;\"> Log </th><th style=\"text-align: center;\"> Power </th><th style=\"text-align: center;\"> HistoIntersection </th><th style=\"text-align: center;\"> Tanimoto </th><th style=\"text-align: center;\"> Sorensen </th><th style=\"text-align: center;\"> RBF </th><th style=\"text-align: center;\"> Linear </th></tr>\n",
       "</thead>\n",
       "<tbody>\n",
       "<tr><td>PFTAS                   </td><td style=\"text-align: center;\">    0.828    </td><td style=\"text-align: center;\">   0.828   </td><td style=\"text-align: center;\"> 0.833  </td><td style=\"text-align: center;\">  0.430   </td><td style=\"text-align: center;\">0.812</td><td style=\"text-align: center;\">0.804</td><td style=\"text-align: center;\"> 0.183 </td><td style=\"text-align: center;\">       0.754       </td><td style=\"text-align: center;\">  0.833   </td><td style=\"text-align: center;\">  0.810   </td><td style=\"text-align: center;\">0.821</td><td style=\"text-align: center;\"> 0.772  </td></tr>\n",
       "<tr><td>Color channel statistics</td><td style=\"text-align: center;\">    0.812    </td><td style=\"text-align: center;\">   0.812   </td><td style=\"text-align: center;\"> 0.833  </td><td style=\"text-align: center;\">  0.784   </td><td style=\"text-align: center;\">0.749</td><td style=\"text-align: center;\">0.771</td><td style=\"text-align: center;\"> 0.178 </td><td style=\"text-align: center;\">       0.590       </td><td style=\"text-align: center;\">  0.831   </td><td style=\"text-align: center;\">  0.769   </td><td style=\"text-align: center;\">0.823</td><td style=\"text-align: center;\"> 0.692  </td></tr>\n",
       "<tr><td>Hu                      </td><td style=\"text-align: center;\">    0.264    </td><td style=\"text-align: center;\">   0.264   </td><td style=\"text-align: center;\"> 0.259  </td><td style=\"text-align: center;\">  0.273   </td><td style=\"text-align: center;\">0.277</td><td style=\"text-align: center;\">0.227</td><td style=\"text-align: center;\"> 0.185 </td><td style=\"text-align: center;\">       0.228       </td><td style=\"text-align: center;\">  0.281   </td><td style=\"text-align: center;\">  0.255   </td><td style=\"text-align: center;\">0.276</td><td style=\"text-align: center;\"> 0.215  </td></tr>\n",
       "</tbody>\n",
       "</table>"
      ],
      "text/plain": [
       "'<table>\\n<thead>\\n<tr><th>Feature                 </th><th style=\"text-align: center;\"> Exponential </th><th style=\"text-align: center;\"> Laplacian </th><th style=\"text-align: center;\"> Cauchy </th><th style=\"text-align: center;\"> TStudent </th><th style=\"text-align: center;\"> Min </th><th style=\"text-align: center;\"> Log </th><th style=\"text-align: center;\"> Power </th><th style=\"text-align: center;\"> HistoIntersection </th><th style=\"text-align: center;\"> Tanimoto </th><th style=\"text-align: center;\"> Sorensen </th><th style=\"text-align: center;\"> RBF </th><th style=\"text-align: center;\"> Linear </th></tr>\\n</thead>\\n<tbody>\\n<tr><td>PFTAS                   </td><td style=\"text-align: center;\">    0.828    </td><td style=\"text-align: center;\">   0.828   </td><td style=\"text-align: center;\"> 0.833  </td><td style=\"text-align: center;\">  0.430   </td><td style=\"text-align: center;\">0.812</td><td style=\"text-align: center;\">0.804</td><td style=\"text-align: center;\"> 0.183 </td><td style=\"text-align: center;\">       0.754       </td><td style=\"text-align: center;\">  0.833   </td><td style=\"text-align: center;\">  0.810   </td><td style=\"text-align: center;\">0.821</td><td style=\"text-align: center;\"> 0.772  </td></tr>\\n<tr><td>Color channel statistics</td><td style=\"text-align: center;\">    0.812    </td><td style=\"text-align: center;\">   0.812   </td><td style=\"text-align: center;\"> 0.833  </td><td style=\"text-align: center;\">  0.784   </td><td style=\"text-align: center;\">0.749</td><td style=\"text-align: center;\">0.771</td><td style=\"text-align: center;\"> 0.178 </td><td style=\"text-align: center;\">       0.590       </td><td style=\"text-align: center;\">  0.831   </td><td style=\"text-align: center;\">  0.769   </td><td style=\"text-align: center;\">0.823</td><td style=\"text-align: center;\"> 0.692  </td></tr>\\n<tr><td>Hu                      </td><td style=\"text-align: center;\">    0.264    </td><td style=\"text-align: center;\">   0.264   </td><td style=\"text-align: center;\"> 0.259  </td><td style=\"text-align: center;\">  0.273   </td><td style=\"text-align: center;\">0.277</td><td style=\"text-align: center;\">0.227</td><td style=\"text-align: center;\"> 0.185 </td><td style=\"text-align: center;\">       0.228       </td><td style=\"text-align: center;\">  0.281   </td><td style=\"text-align: center;\">  0.255   </td><td style=\"text-align: center;\">0.276</td><td style=\"text-align: center;\"> 0.215  </td></tr>\\n</tbody>\\n</table>'"
      ]
     },
     "execution_count": 78,
     "metadata": {},
     "output_type": "execute_result"
    }
   ],
   "source": [
    "print(\"Récapitulatif des F1-scores obtenus par Cross Validation par kernel\")\n",
    "headers = [\"Feature\"]\n",
    "headers.extend([k for k in kernels.keys()])\n",
    "row = [\"Hu\"]\n",
    "row.extend([s for s in score_svm.values()])\n",
    "f1_kernels.append(row)\n",
    "tabulate(f1_kernels, headers=headers, tablefmt=\"html\", floatfmt=\".3f\", numalign=\"center\")"
   ]
  },
  {
   "cell_type": "code",
   "execution_count": 80,
   "id": "e00ae6b0",
   "metadata": {},
   "outputs": [
    {
     "data": {
      "application/vnd.jupyter.widget-view+json": {
       "model_id": "cd94f24bd6a84959abf0078f974639cb",
       "version_major": 2,
       "version_minor": 0
      },
      "text/plain": [
       "  0%|          | 0/12 [00:00<?, ?it/s]"
      ]
     },
     "metadata": {},
     "output_type": "display_data"
    },
    {
     "name": "stdout",
     "output_type": "stream",
     "text": [
      "Best score for kernel Exponential is 0.8274550058203904 for C = 27\n",
      "Best score for kernel Laplacian is 0.8274550058203904 for C = 27\n",
      "Best score for kernel Cauchy is 0.8498781835053202 for C = 23\n",
      "Best score for kernel TStudent is 0.7130913759605942 for C = 3\n",
      "Best score for kernel Min is 0.767439025638812 for C = 1\n",
      "Best score for kernel Log is 0.8286248113037642 for C = 2\n",
      "Best score for kernel Power is 0.1752531863910069 for C = 1\n",
      "Best score for kernel GeneralizedHistogramIntersection is 0.6053658572355153 for C = 2\n",
      "Best score for kernel Tanimoto is 0.8329801776650068 for C = 7\n",
      "Best score for kernel Sorensen is 0.7682852680715929 for C = 34\n",
      "Best score for kernel rbf is 0.8333612385161531 for C = 38\n",
      "Best score for kernel linear is 0.7305527093988633 for C = 100\n"
     ]
    }
   ],
   "source": [
    "# Haralick\n",
    "haralick_scaled = scaler.fit_transform(haralick)\n",
    "score_svm = {}\n",
    "for name, kern in tqdm(kernels.items()) :\n",
    "    reg = range(1, 101)\n",
    "    score = []\n",
    "    for c in reg:\n",
    "        svm = SVC(C=c, kernel=kern)\n",
    "        score.append(np.mean(cross_val_score(svm, haralick_scaled, y_train, cv=16, scoring=\"f1_weighted\")))\n",
    "    print(f\"Best score for kernel {kern} is {np.max(score)} for C = {np.argmax(score) + 1}\")\n",
    "    score_svm[name] = np.max(score)"
   ]
  },
  {
   "cell_type": "code",
   "execution_count": 81,
   "id": "cfcd60c4",
   "metadata": {},
   "outputs": [
    {
     "name": "stdout",
     "output_type": "stream",
     "text": [
      "Récapitulatif des F1-scores obtenus par Cross Validation par kernel\n"
     ]
    },
    {
     "data": {
      "text/html": [
       "<table>\n",
       "<thead>\n",
       "<tr><th>Feature                 </th><th style=\"text-align: center;\"> Exponential </th><th style=\"text-align: center;\"> Laplacian </th><th style=\"text-align: center;\"> Cauchy </th><th style=\"text-align: center;\"> TStudent </th><th style=\"text-align: center;\"> Min </th><th style=\"text-align: center;\"> Log </th><th style=\"text-align: center;\"> Power </th><th style=\"text-align: center;\"> HistoIntersection </th><th style=\"text-align: center;\"> Tanimoto </th><th style=\"text-align: center;\"> Sorensen </th><th style=\"text-align: center;\"> RBF </th><th style=\"text-align: center;\"> Linear </th></tr>\n",
       "</thead>\n",
       "<tbody>\n",
       "<tr><td>PFTAS                   </td><td style=\"text-align: center;\">    0.828    </td><td style=\"text-align: center;\">   0.828   </td><td style=\"text-align: center;\"> 0.833  </td><td style=\"text-align: center;\">  0.430   </td><td style=\"text-align: center;\">0.812</td><td style=\"text-align: center;\">0.804</td><td style=\"text-align: center;\"> 0.183 </td><td style=\"text-align: center;\">       0.754       </td><td style=\"text-align: center;\">  0.833   </td><td style=\"text-align: center;\">  0.810   </td><td style=\"text-align: center;\">0.821</td><td style=\"text-align: center;\"> 0.772  </td></tr>\n",
       "<tr><td>Color channel statistics</td><td style=\"text-align: center;\">    0.812    </td><td style=\"text-align: center;\">   0.812   </td><td style=\"text-align: center;\"> 0.833  </td><td style=\"text-align: center;\">  0.784   </td><td style=\"text-align: center;\">0.749</td><td style=\"text-align: center;\">0.771</td><td style=\"text-align: center;\"> 0.178 </td><td style=\"text-align: center;\">       0.590       </td><td style=\"text-align: center;\">  0.831   </td><td style=\"text-align: center;\">  0.769   </td><td style=\"text-align: center;\">0.823</td><td style=\"text-align: center;\"> 0.692  </td></tr>\n",
       "<tr><td>Hu                      </td><td style=\"text-align: center;\">    0.264    </td><td style=\"text-align: center;\">   0.264   </td><td style=\"text-align: center;\"> 0.259  </td><td style=\"text-align: center;\">  0.273   </td><td style=\"text-align: center;\">0.277</td><td style=\"text-align: center;\">0.227</td><td style=\"text-align: center;\"> 0.185 </td><td style=\"text-align: center;\">       0.228       </td><td style=\"text-align: center;\">  0.281   </td><td style=\"text-align: center;\">  0.255   </td><td style=\"text-align: center;\">0.276</td><td style=\"text-align: center;\"> 0.215  </td></tr>\n",
       "<tr><td>Haralick                </td><td style=\"text-align: center;\">    0.827    </td><td style=\"text-align: center;\">   0.827   </td><td style=\"text-align: center;\"> 0.850  </td><td style=\"text-align: center;\">  0.713   </td><td style=\"text-align: center;\">0.767</td><td style=\"text-align: center;\">0.829</td><td style=\"text-align: center;\"> 0.175 </td><td style=\"text-align: center;\">       0.605       </td><td style=\"text-align: center;\">  0.833   </td><td style=\"text-align: center;\">  0.768   </td><td style=\"text-align: center;\">0.833</td><td style=\"text-align: center;\"> 0.731  </td></tr>\n",
       "</tbody>\n",
       "</table>"
      ],
      "text/plain": [
       "'<table>\\n<thead>\\n<tr><th>Feature                 </th><th style=\"text-align: center;\"> Exponential </th><th style=\"text-align: center;\"> Laplacian </th><th style=\"text-align: center;\"> Cauchy </th><th style=\"text-align: center;\"> TStudent </th><th style=\"text-align: center;\"> Min </th><th style=\"text-align: center;\"> Log </th><th style=\"text-align: center;\"> Power </th><th style=\"text-align: center;\"> HistoIntersection </th><th style=\"text-align: center;\"> Tanimoto </th><th style=\"text-align: center;\"> Sorensen </th><th style=\"text-align: center;\"> RBF </th><th style=\"text-align: center;\"> Linear </th></tr>\\n</thead>\\n<tbody>\\n<tr><td>PFTAS                   </td><td style=\"text-align: center;\">    0.828    </td><td style=\"text-align: center;\">   0.828   </td><td style=\"text-align: center;\"> 0.833  </td><td style=\"text-align: center;\">  0.430   </td><td style=\"text-align: center;\">0.812</td><td style=\"text-align: center;\">0.804</td><td style=\"text-align: center;\"> 0.183 </td><td style=\"text-align: center;\">       0.754       </td><td style=\"text-align: center;\">  0.833   </td><td style=\"text-align: center;\">  0.810   </td><td style=\"text-align: center;\">0.821</td><td style=\"text-align: center;\"> 0.772  </td></tr>\\n<tr><td>Color channel statistics</td><td style=\"text-align: center;\">    0.812    </td><td style=\"text-align: center;\">   0.812   </td><td style=\"text-align: center;\"> 0.833  </td><td style=\"text-align: center;\">  0.784   </td><td style=\"text-align: center;\">0.749</td><td style=\"text-align: center;\">0.771</td><td style=\"text-align: center;\"> 0.178 </td><td style=\"text-align: center;\">       0.590       </td><td style=\"text-align: center;\">  0.831   </td><td style=\"text-align: center;\">  0.769   </td><td style=\"text-align: center;\">0.823</td><td style=\"text-align: center;\"> 0.692  </td></tr>\\n<tr><td>Hu                      </td><td style=\"text-align: center;\">    0.264    </td><td style=\"text-align: center;\">   0.264   </td><td style=\"text-align: center;\"> 0.259  </td><td style=\"text-align: center;\">  0.273   </td><td style=\"text-align: center;\">0.277</td><td style=\"text-align: center;\">0.227</td><td style=\"text-align: center;\"> 0.185 </td><td style=\"text-align: center;\">       0.228       </td><td style=\"text-align: center;\">  0.281   </td><td style=\"text-align: center;\">  0.255   </td><td style=\"text-align: center;\">0.276</td><td style=\"text-align: center;\"> 0.215  </td></tr>\\n<tr><td>Haralick                </td><td style=\"text-align: center;\">    0.827    </td><td style=\"text-align: center;\">   0.827   </td><td style=\"text-align: center;\"> 0.850  </td><td style=\"text-align: center;\">  0.713   </td><td style=\"text-align: center;\">0.767</td><td style=\"text-align: center;\">0.829</td><td style=\"text-align: center;\"> 0.175 </td><td style=\"text-align: center;\">       0.605       </td><td style=\"text-align: center;\">  0.833   </td><td style=\"text-align: center;\">  0.768   </td><td style=\"text-align: center;\">0.833</td><td style=\"text-align: center;\"> 0.731  </td></tr>\\n</tbody>\\n</table>'"
      ]
     },
     "execution_count": 81,
     "metadata": {},
     "output_type": "execute_result"
    }
   ],
   "source": [
    "print(\"Récapitulatif des F1-scores obtenus par Cross Validation par kernel\")\n",
    "headers = [\"Feature\"]\n",
    "headers.extend([k for k in kernels.keys()])\n",
    "row = [\"Haralick\"]\n",
    "row.extend([s for s in score_svm.values()])\n",
    "f1_kernels.append(row)\n",
    "tabulate(f1_kernels, headers=headers, tablefmt=\"html\", floatfmt=\".3f\", numalign=\"center\")"
   ]
  },
  {
   "cell_type": "code",
   "execution_count": 82,
   "id": "bd6f4ce5",
   "metadata": {},
   "outputs": [],
   "source": [
    "X = np.concatenate([pftas, chan_stats, hu, haralick], axis=1)\n",
    "X_scaled = scaler.fit_transform(X)"
   ]
  },
  {
   "cell_type": "code",
   "execution_count": 83,
   "id": "1663458c",
   "metadata": {},
   "outputs": [
    {
     "data": {
      "application/vnd.jupyter.widget-view+json": {
       "model_id": "b652a16da3e340fcb22300bd9b0f1bcc",
       "version_major": 2,
       "version_minor": 0
      },
      "text/plain": [
       "  0%|          | 0/12 [00:00<?, ?it/s]"
      ]
     },
     "metadata": {},
     "output_type": "display_data"
    },
    {
     "name": "stdout",
     "output_type": "stream",
     "text": [
      "Best score for kernel Exponential is 0.8596175078680421 for C = 49\n",
      "Best score for kernel Laplacian is 0.8596175078680421 for C = 49\n",
      "Best score for kernel Cauchy is 0.8545912623503436 for C = 9\n",
      "Best score for kernel TStudent is 0.334470339184917 for C = 2\n",
      "Best score for kernel Min is 0.8625727548804472 for C = 1\n",
      "Best score for kernel Log is 0.8160248800740253 for C = 1\n",
      "Best score for kernel Power is 0.18408003519604166 for C = 12\n",
      "Best score for kernel GeneralizedHistogramIntersection is 0.8015891076120778 for C = 1\n",
      "Best score for kernel Tanimoto is 0.867796910077893 for C = 7\n",
      "Best score for kernel Sorensen is 0.8414798861513605 for C = 16\n",
      "Best score for kernel rbf is 0.8676391203367699 for C = 6\n",
      "Best score for kernel linear is 0.8295373163161623 for C = 2\n"
     ]
    }
   ],
   "source": [
    "# Combinaison\n",
    "score_svm = {}\n",
    "for name, kern in tqdm(kernels.items()) :\n",
    "    reg = range(1, 101)\n",
    "    score = []\n",
    "    for c in reg:\n",
    "        svm = SVC(C=c, kernel=kern)\n",
    "        score.append(np.mean(cross_val_score(svm, X_scaled, y_train, cv=16, scoring=\"f1_weighted\")))\n",
    "    print(f\"Best score for kernel {kern} is {np.max(score)} for C = {np.argmax(score) + 1}\")\n",
    "    score_svm[name] = np.max(score)"
   ]
  },
  {
   "cell_type": "code",
   "execution_count": 89,
   "id": "682b46c9",
   "metadata": {},
   "outputs": [
    {
     "name": "stdout",
     "output_type": "stream",
     "text": [
      "Récapitulatif des F1-scores obtenus par Cross Validation par kernel\n"
     ]
    },
    {
     "data": {
      "text/html": [
       "<table>\n",
       "<thead>\n",
       "<tr><th>Feature                            </th><th style=\"text-align: center;\"> Exponential </th><th style=\"text-align: center;\"> Laplacian </th><th style=\"text-align: center;\"> Cauchy </th><th style=\"text-align: center;\"> TStudent </th><th style=\"text-align: center;\"> Min  </th><th style=\"text-align: center;\"> Log  </th><th style=\"text-align: center;\"> Power </th><th style=\"text-align: center;\"> HistoIntersection </th><th style=\"text-align: center;\"> Tanimoto </th><th style=\"text-align: center;\"> Sorensen </th><th style=\"text-align: center;\"> RBF  </th><th style=\"text-align: center;\"> Linear </th></tr>\n",
       "</thead>\n",
       "<tbody>\n",
       "<tr><td>PFTAS                              </td><td style=\"text-align: center;\">   0.8280    </td><td style=\"text-align: center;\">  0.8280   </td><td style=\"text-align: center;\"> 0.8327 </td><td style=\"text-align: center;\">  0.4296  </td><td style=\"text-align: center;\">0.8120</td><td style=\"text-align: center;\">0.8037</td><td style=\"text-align: center;\">0.1826 </td><td style=\"text-align: center;\">      0.7538       </td><td style=\"text-align: center;\">  0.8333  </td><td style=\"text-align: center;\">  0.8103  </td><td style=\"text-align: center;\">0.8209</td><td style=\"text-align: center;\"> 0.7721 </td></tr>\n",
       "<tr><td>Color channel statistics           </td><td style=\"text-align: center;\">   0.8120    </td><td style=\"text-align: center;\">  0.8120   </td><td style=\"text-align: center;\"> 0.8329 </td><td style=\"text-align: center;\">  0.7839  </td><td style=\"text-align: center;\">0.7491</td><td style=\"text-align: center;\">0.7715</td><td style=\"text-align: center;\">0.1784 </td><td style=\"text-align: center;\">      0.5900       </td><td style=\"text-align: center;\">  0.8305  </td><td style=\"text-align: center;\">  0.7691  </td><td style=\"text-align: center;\">0.8228</td><td style=\"text-align: center;\"> 0.6915 </td></tr>\n",
       "<tr><td>Hu                                 </td><td style=\"text-align: center;\">   0.2639    </td><td style=\"text-align: center;\">  0.2639   </td><td style=\"text-align: center;\"> 0.2587 </td><td style=\"text-align: center;\">  0.2731  </td><td style=\"text-align: center;\">0.2769</td><td style=\"text-align: center;\">0.2269</td><td style=\"text-align: center;\">0.1849 </td><td style=\"text-align: center;\">      0.2281       </td><td style=\"text-align: center;\">  0.2811  </td><td style=\"text-align: center;\">  0.2551  </td><td style=\"text-align: center;\">0.2756</td><td style=\"text-align: center;\"> 0.2148 </td></tr>\n",
       "<tr><td>Haralick                           </td><td style=\"text-align: center;\">   0.8275    </td><td style=\"text-align: center;\">  0.8275   </td><td style=\"text-align: center;\"> 0.8499 </td><td style=\"text-align: center;\">  0.7131  </td><td style=\"text-align: center;\">0.7674</td><td style=\"text-align: center;\">0.8286</td><td style=\"text-align: center;\">0.1753 </td><td style=\"text-align: center;\">      0.6054       </td><td style=\"text-align: center;\">  0.8330  </td><td style=\"text-align: center;\">  0.7683  </td><td style=\"text-align: center;\">0.8334</td><td style=\"text-align: center;\"> 0.7306 </td></tr>\n",
       "<tr><td>PFTAS + Color stats + Hu + Haralick</td><td style=\"text-align: center;\">   0.8596    </td><td style=\"text-align: center;\">  0.8596   </td><td style=\"text-align: center;\"> 0.8546 </td><td style=\"text-align: center;\">  0.3345  </td><td style=\"text-align: center;\">0.8626</td><td style=\"text-align: center;\">0.8160</td><td style=\"text-align: center;\">0.1841 </td><td style=\"text-align: center;\">      0.8016       </td><td style=\"text-align: center;\">  0.8678  </td><td style=\"text-align: center;\">  0.8415  </td><td style=\"text-align: center;\">0.8676</td><td style=\"text-align: center;\"> 0.8295 </td></tr>\n",
       "</tbody>\n",
       "</table>"
      ],
      "text/plain": [
       "'<table>\\n<thead>\\n<tr><th>Feature                            </th><th style=\"text-align: center;\"> Exponential </th><th style=\"text-align: center;\"> Laplacian </th><th style=\"text-align: center;\"> Cauchy </th><th style=\"text-align: center;\"> TStudent </th><th style=\"text-align: center;\"> Min  </th><th style=\"text-align: center;\"> Log  </th><th style=\"text-align: center;\"> Power </th><th style=\"text-align: center;\"> HistoIntersection </th><th style=\"text-align: center;\"> Tanimoto </th><th style=\"text-align: center;\"> Sorensen </th><th style=\"text-align: center;\"> RBF  </th><th style=\"text-align: center;\"> Linear </th></tr>\\n</thead>\\n<tbody>\\n<tr><td>PFTAS                              </td><td style=\"text-align: center;\">   0.8280    </td><td style=\"text-align: center;\">  0.8280   </td><td style=\"text-align: center;\"> 0.8327 </td><td style=\"text-align: center;\">  0.4296  </td><td style=\"text-align: center;\">0.8120</td><td style=\"text-align: center;\">0.8037</td><td style=\"text-align: center;\">0.1826 </td><td style=\"text-align: center;\">      0.7538       </td><td style=\"text-align: center;\">  0.8333  </td><td style=\"text-align: center;\">  0.8103  </td><td style=\"text-align: center;\">0.8209</td><td style=\"text-align: center;\"> 0.7721 </td></tr>\\n<tr><td>Color channel statistics           </td><td style=\"text-align: center;\">   0.8120    </td><td style=\"text-align: center;\">  0.8120   </td><td style=\"text-align: center;\"> 0.8329 </td><td style=\"text-align: center;\">  0.7839  </td><td style=\"text-align: center;\">0.7491</td><td style=\"text-align: center;\">0.7715</td><td style=\"text-align: center;\">0.1784 </td><td style=\"text-align: center;\">      0.5900       </td><td style=\"text-align: center;\">  0.8305  </td><td style=\"text-align: center;\">  0.7691  </td><td style=\"text-align: center;\">0.8228</td><td style=\"text-align: center;\"> 0.6915 </td></tr>\\n<tr><td>Hu                                 </td><td style=\"text-align: center;\">   0.2639    </td><td style=\"text-align: center;\">  0.2639   </td><td style=\"text-align: center;\"> 0.2587 </td><td style=\"text-align: center;\">  0.2731  </td><td style=\"text-align: center;\">0.2769</td><td style=\"text-align: center;\">0.2269</td><td style=\"text-align: center;\">0.1849 </td><td style=\"text-align: center;\">      0.2281       </td><td style=\"text-align: center;\">  0.2811  </td><td style=\"text-align: center;\">  0.2551  </td><td style=\"text-align: center;\">0.2756</td><td style=\"text-align: center;\"> 0.2148 </td></tr>\\n<tr><td>Haralick                           </td><td style=\"text-align: center;\">   0.8275    </td><td style=\"text-align: center;\">  0.8275   </td><td style=\"text-align: center;\"> 0.8499 </td><td style=\"text-align: center;\">  0.7131  </td><td style=\"text-align: center;\">0.7674</td><td style=\"text-align: center;\">0.8286</td><td style=\"text-align: center;\">0.1753 </td><td style=\"text-align: center;\">      0.6054       </td><td style=\"text-align: center;\">  0.8330  </td><td style=\"text-align: center;\">  0.7683  </td><td style=\"text-align: center;\">0.8334</td><td style=\"text-align: center;\"> 0.7306 </td></tr>\\n<tr><td>PFTAS + Color stats + Hu + Haralick</td><td style=\"text-align: center;\">   0.8596    </td><td style=\"text-align: center;\">  0.8596   </td><td style=\"text-align: center;\"> 0.8546 </td><td style=\"text-align: center;\">  0.3345  </td><td style=\"text-align: center;\">0.8626</td><td style=\"text-align: center;\">0.8160</td><td style=\"text-align: center;\">0.1841 </td><td style=\"text-align: center;\">      0.8016       </td><td style=\"text-align: center;\">  0.8678  </td><td style=\"text-align: center;\">  0.8415  </td><td style=\"text-align: center;\">0.8676</td><td style=\"text-align: center;\"> 0.8295 </td></tr>\\n</tbody>\\n</table>'"
      ]
     },
     "execution_count": 89,
     "metadata": {},
     "output_type": "execute_result"
    }
   ],
   "source": [
    "print(\"Récapitulatif des F1-scores obtenus par Cross Validation par kernel\")\n",
    "headers = [\"Feature\"]\n",
    "headers.extend([k for k in kernels.keys()])\n",
    "row = [\"PFTAS + Color stats + Hu + Haralick\"]\n",
    "row.extend([s for s in score_svm.values()])\n",
    "f1_kernels.append(row)\n",
    "tabulate(f1_kernels, headers=headers, tablefmt=\"html\", floatfmt=\".4f\", numalign=\"center\")"
   ]
  },
  {
   "cell_type": "markdown",
   "id": "f762f9d4",
   "metadata": {},
   "source": [
    "Certains kernels semblent donc avoir des performances nettement supérieures aux autres. Le kernel \"Histogramme Intersection\" cité dans les articles précédents ne semble pas être le plus approprié pour cette tâche particulière !\n",
    "Le kernel avec les performances les plus importantes sur la combinaison des features est **Tanimoto**. Il a également des performances plus constantes sur les features testées unitairement. C'est donc celui que j'ai retenu. <br><br>\n",
    "<u>N.B. </u>: Certains kernels admettent des hyperparamètres supplémentaires (notamment Exponential, Laplacian ou Cauchy). J'ai joué avec le paramètre `s` du kernel Cauchy, qui après tuning permettait souvent de surpasser le score obtenu avec kernel de Tanimoto. Cependant, en pratique, j'ai observé que les soumissions effectuées avec ce kernel fournissaient un score plus bas que celles effectuées avec Tanimoto, même si le score de cross validation était plus élevé avec Cauchy. J'en ai donc déduit que l'hyperparamètre `s` du kernel de Cauchy causait de l'overfit, et ai préféré utiliser le kernel de Tanimoto. Les tests relatifs à ce kernel n'ont pas été inclus dans ce rapport pour ne pas l'alourdir."
   ]
  },
  {
   "cell_type": "markdown",
   "id": "4e884663",
   "metadata": {},
   "source": [
    "Le kernel de Tanimoto m'était inconnu jusqu'à présent, mais il apparaît que son implémentation en Python est relativement facile. Ci-dessous l'extrait du code de pykernels qui implémente le kernel de Tanimoto (avec un lien vers l'article scientifique dans lequel il est défini pour la 1ère fois). Il s'agit d'un kernel utilisé à l'origine en chimie informatique."
   ]
  },
  {
   "cell_type": "code",
   "execution_count": null,
   "id": "22d70644",
   "metadata": {},
   "outputs": [],
   "source": [
    "class Tanimoto(Kernel):\n",
    "    \"\"\"\n",
    "    Tanimoto kernel\n",
    "        K(x, y) = <x, y> / (||x||^2 + ||y||^2 - <x, y>)\n",
    "    as defined in:\n",
    "    \"Graph Kernels for Chemical Informatics\"\n",
    "    Liva Ralaivola, Sanjay J. Swamidass, Hiroto Saigo and Pierre Baldi\n",
    "    Neural Networks\n",
    "    http://citeseerx.ist.psu.edu/viewdoc/download?doi=10.1.1.92.483&rep=rep1&type=pdf\n",
    "    \"\"\"\n",
    "    def _compute(self, data_1, data_2):\n",
    "\n",
    "        norm_1 = (data_1 ** 2).sum(axis=1).reshape(data_1.shape[0], 1)\n",
    "        norm_2 = (data_2 ** 2).sum(axis=1).reshape(data_2.shape[0], 1)\n",
    "        prod = data_1.dot(data_2.T)\n",
    "        return prod / (norm_1 + norm_2.T - prod)\n",
    "\n",
    "    def dim(self):\n",
    "        return None"
   ]
  },
  {
   "cell_type": "markdown",
   "id": "59e69abf",
   "metadata": {},
   "source": [
    "## Optimisation de features avec le classifieur retenu"
   ]
  },
  {
   "cell_type": "markdown",
   "id": "15238171",
   "metadata": {},
   "source": [
    "### Histogramme"
   ]
  },
  {
   "cell_type": "markdown",
   "id": "92f8da83",
   "metadata": {},
   "source": [
    "Un histogramme de couleur est une feature basique de Computer Vision. Cependant, le nombre de feature généré par un histogramme peut être important en fonction du nombre de bins souhaité. Il était donc préférable d'adapter ce nombre de bins au classifieur retenu (ou de coupler cette méthode à une méthode de réduction de dimension). <br>\n",
    "Les classifieurs SVM avec kernels non linéaires peuvent traiter un grand nombre de features même avec un faible nombre d'observations, l'augmentation du nombre de bins avec le classifieur retenu n'est donc pas un problème. J'ai fait varier le nombre de bins entre 2 et 30 pour trouver une valeur permettant d'obtenir un bon score sans générer trop de features."
   ]
  },
  {
   "cell_type": "code",
   "execution_count": 91,
   "id": "8a91ae94",
   "metadata": {},
   "outputs": [],
   "source": [
    "def create_histo_features(bins, test_feature=False):\n",
    "    \"\"\" Créée des histogrammes de couleurs pour chaque canal HSV des images en input\n",
    "    Args:\n",
    "        bins (int) : nombre de bins (classes) à créer pour chaque canal de l'image HSV\n",
    "        test_feature (Bool): si True, crée des features sur les images de Test, si False créée \n",
    "                                des features sur les images de Train\n",
    "    Output:\n",
    "        X (numpy array) : features extraites (la dimension de sortie dépend du nombre de bins en argument)\n",
    "    \"\"\"\n",
    "    files = files_test if test_feature else files_train\n",
    "    X = []\n",
    "    for f in files:\n",
    "        hsv = cv2.cvtColor(cv2.imread(f), cv2.COLOR_BGR2HSV)\n",
    "        hist  = cv2.calcHist([hsv], [0, 1, 2], None, [bins, bins, bins], [0, 256, 0, 256, 0, 256])\n",
    "        cv2.normalize(hist, hist)\n",
    "        X.append(hist.flatten())\n",
    "    X = np.array(X)\n",
    "    return X"
   ]
  },
  {
   "cell_type": "code",
   "execution_count": 96,
   "id": "7e774220",
   "metadata": {},
   "outputs": [
    {
     "data": {
      "application/vnd.jupyter.widget-view+json": {
       "model_id": "edeb067e73bd4e5b8abadbdf42c97a3b",
       "version_major": 2,
       "version_minor": 0
      },
      "text/plain": [
       "  0%|          | 0/29 [00:00<?, ?it/s]"
      ]
     },
     "metadata": {},
     "output_type": "display_data"
    },
    {
     "name": "stdout",
     "output_type": "stream",
     "text": [
      "Bins 2 : Best score 0.46747999151845304 - C 14 | Size of X (422, 8)\n",
      "Bins 3 : Best score 0.6545587642809865 - C 28 | Size of X (422, 27)\n",
      "Bins 4 : Best score 0.7265271572563239 - C 11 | Size of X (422, 64)\n",
      "Bins 5 : Best score 0.796167478552628 - C 13 | Size of X (422, 125)\n",
      "Bins 6 : Best score 0.8222336834382774 - C 9 | Size of X (422, 216)\n",
      "Bins 7 : Best score 0.8244958418836624 - C 21 | Size of X (422, 343)\n",
      "Bins 8 : Best score 0.8464483329467305 - C 5 | Size of X (422, 512)\n",
      "Bins 9 : Best score 0.8581969045911354 - C 10 | Size of X (422, 729)\n",
      "Bins 10 : Best score 0.8587316880452565 - C 4 | Size of X (422, 1000)\n",
      "Bins 11 : Best score 0.8469386471790318 - C 7 | Size of X (422, 1331)\n",
      "Bins 12 : Best score 0.8426695687780089 - C 10 | Size of X (422, 1728)\n",
      "Bins 13 : Best score 0.8701169794118512 - C 6 | Size of X (422, 2197)\n",
      "Bins 14 : Best score 0.8626062604695083 - C 4 | Size of X (422, 2744)\n",
      "Bins 15 : Best score 0.8761585389523424 - C 7 | Size of X (422, 3375)\n",
      "Bins 16 : Best score 0.8690210010589284 - C 3 | Size of X (422, 4096)\n",
      "Bins 17 : Best score 0.8616055898240726 - C 4 | Size of X (422, 4913)\n",
      "Bins 18 : Best score 0.8699481934257576 - C 9 | Size of X (422, 5832)\n",
      "Bins 19 : Best score 0.8666806909061182 - C 5 | Size of X (422, 6859)\n",
      "Bins 20 : Best score 0.8790544984455241 - C 10 | Size of X (422, 8000)\n",
      "Bins 21 : Best score 0.8670463484165407 - C 3 | Size of X (422, 9261)\n",
      "Bins 22 : Best score 0.8509829231784359 - C 5 | Size of X (422, 10648)\n",
      "Bins 23 : Best score 0.8775536972919451 - C 4 | Size of X (422, 12167)\n",
      "Bins 24 : Best score 0.8569679044839301 - C 6 | Size of X (422, 13824)\n",
      "Bins 25 : Best score 0.8627978769805693 - C 5 | Size of X (422, 15625)\n",
      "Bins 26 : Best score 0.8624025991814454 - C 4 | Size of X (422, 17576)\n",
      "Bins 27 : Best score 0.8693779155317617 - C 5 | Size of X (422, 19683)\n",
      "Bins 28 : Best score 0.8574583793066698 - C 4 | Size of X (422, 21952)\n",
      "Bins 29 : Best score 0.8749765162425419 - C 4 | Size of X (422, 24389)\n",
      "Bins 30 : Best score 0.8578967408027237 - C 5 | Size of X (422, 27000)\n"
     ]
    }
   ],
   "source": [
    "scores_histo = []\n",
    "for bins in tqdm(range(2, 31)):\n",
    "    X_tmp = create_histo_features(bins, test_feature=False)\n",
    "    scaler = StandardScaler()\n",
    "    X_scaled = scaler.fit_transform(X_tmp)\n",
    "    reg = range(1, 51)\n",
    "    score = []\n",
    "    for c in reg:\n",
    "        svm = SVC(C=c, kernel=pykernels.Tanimoto())\n",
    "        score.append(np.mean(cross_val_score(svm, X_scaled, y_train, cv=16, scoring=\"f1_weighted\")))\n",
    "    print(f\"Bins {bins} : Best score {np.max(score)} - C {np.argmax(score)+1} | Size of X {X_scaled.shape}\")\n",
    "    scores_histo.append(np.max(score))"
   ]
  },
  {
   "cell_type": "code",
   "execution_count": 100,
   "id": "c29b78c8",
   "metadata": {},
   "outputs": [
    {
     "data": {
      "image/png": "[encoded data removed]",
      "text/plain": [
       "<Figure size 640x480 with 1 Axes>"
      ]
     },
     "metadata": {},
     "output_type": "display_data"
    }
   ],
   "source": [
    "plt.plot(range(2, 31), scores_histo)\n",
    "plt.xlabel(\"Nombre de bins\")\n",
    "plt.ylabel(\"F1-score\")\n",
    "plt.title(\"Evolution du F1-score pour la feature histogramme en fonction du nombre de bins utilisés\")\n",
    "plt.show()"
   ]
  },
  {
   "cell_type": "markdown",
   "id": "d4ca1469",
   "metadata": {},
   "source": [
    "Meilleurs scores :\n",
    "* 20 bins : 0.879, avec 8000 features\n",
    "* 15 bins : 0.876, avec 3375 features\n",
    "* 13 bins : 0.870, avec 2197 features <br>\n",
    "Le meilleur compromis score / nombre de features semble être atteint pour 13 bins. <br>\n",
    "En utilisant uniquement les features générées avec  les histogrammes, le score obtenu en cross validation est meilleur qu'avec l'ensemble des features précédentes concaténées."
   ]
  },
  {
   "cell_type": "code",
   "execution_count": 150,
   "id": "3b4926ea",
   "metadata": {},
   "outputs": [
    {
     "data": {
      "text/plain": [
       "((422, 2197), (207, 2197))"
      ]
     },
     "execution_count": 150,
     "metadata": {},
     "output_type": "execute_result"
    }
   ],
   "source": [
    "histo13 = create_histo_features(13, test_feature=False)\n",
    "histo13_test = create_histo_features(13, test_feature=True)\n",
    "histo13.shape, histo13_test.shape"
   ]
  },
  {
   "cell_type": "markdown",
   "id": "e8d39b7d",
   "metadata": {},
   "source": [
    "### Local Binary Patterning (LBP)"
   ]
  },
  {
   "cell_type": "markdown",
   "id": "f2cad1d4",
   "metadata": {},
   "source": [
    "La librairie Mahotas permet de créer un histogramme de features LBP via la fonction `mahotas.features.lbp`. En revanche, le nombre de features retournées par cette méthode est très (trop) important. Comme conseillé sur le blog suivant (https://cvexplained.wordpress.com/2020/07/22/10-7-local-binary-patterns/), j'ai préféré utiliser l'implémentation de LBP proposée par skimage pour avoir plus de contrôle sur les features générées, et profiter d'une implémentation qui améliore l'invariance par rotation et niveaux de gris. <br>\n",
    "La génération de features nécessite de fournir un rayon et un nombre de points en entrée. Un nombre de points égal à 8 fois le rayon est recommandé pour rester cohérent avec l'implémentation de LBP, j'ai fait varier le rayon entre 1 et 10 pixels pour trouver une valeur optimale. "
   ]
  },
  {
   "cell_type": "code",
   "execution_count": 103,
   "id": "02211e25",
   "metadata": {},
   "outputs": [],
   "source": [
    "def create_lbp_features(radius, points, test_feature=False):\n",
    "    \"\"\" Extrait les features LBP des images en input\n",
    "    Args:\n",
    "        radius (int) : rayon du cercle utilisé pour calculer les features LBP autour d'un pixel\n",
    "        points (int) : nombre de points à garder dans le cercle défini autour du pixel central\n",
    "                        Avec points = radius x 8, tous les points sont conservés\n",
    "        test_feature (Bool): si True, crée des features sur les images de Test, si False créée \n",
    "                                des features sur les images de Train\n",
    "    Output:\n",
    "        X (numpy array) : features extraites (la dimension de sortie dépend du nombre de bins en argument)\n",
    "    \"\"\"\n",
    "    files = files_test if test_feature else files_train\n",
    "    X = []\n",
    "    for f in files:\n",
    "        im = np.array(Image.open(f).convert('L'))\n",
    "        lbp = local_binary_pattern(im, points, radius, method=\"uniform\")\n",
    "        (hist, _) = np.histogram(lbp.ravel(), bins=range(0, points+3), range=(0, points+2))\n",
    "        X.append(hist)\n",
    "    return np.stack(X)"
   ]
  },
  {
   "cell_type": "code",
   "execution_count": 104,
   "id": "f569b2c3",
   "metadata": {},
   "outputs": [
    {
     "data": {
      "application/vnd.jupyter.widget-view+json": {
       "model_id": "c2ead99a98b0498db0f32d5200526b1f",
       "version_major": 2,
       "version_minor": 0
      },
      "text/plain": [
       "  0%|          | 0/10 [00:00<?, ?it/s]"
      ]
     },
     "metadata": {},
     "output_type": "display_data"
    },
    {
     "name": "stdout",
     "output_type": "stream",
     "text": [
      "Rayon 1 : Best score 0.47838628509034486 - C 20 | Size of X (422, 10)\n",
      "Rayon 2 : Best score 0.6575136303234593 - C 9 | Size of X (422, 18)\n",
      "Rayon 3 : Best score 0.6476158097670164 - C 16 | Size of X (422, 26)\n",
      "Rayon 4 : Best score 0.6548318727805906 - C 31 | Size of X (422, 34)\n",
      "Rayon 5 : Best score 0.6758636212829588 - C 18 | Size of X (422, 42)\n",
      "Rayon 6 : Best score 0.7049250280820794 - C 13 | Size of X (422, 50)\n",
      "Rayon 7 : Best score 0.7074952810129093 - C 8 | Size of X (422, 58)\n",
      "Rayon 8 : Best score 0.702283852484173 - C 10 | Size of X (422, 66)\n",
      "Rayon 9 : Best score 0.6983171288192656 - C 5 | Size of X (422, 74)\n",
      "Rayon 10 : Best score 0.6696628434876298 - C 4 | Size of X (422, 82)\n"
     ]
    }
   ],
   "source": [
    "scores_lbp = []\n",
    "for radius in tqdm(range(1, 11)):\n",
    "    X_tmp = create_lbp_features(radius, 8*radius, test_feature=False)\n",
    "    scaler = StandardScaler()\n",
    "    X_scaled = scaler.fit_transform(X_tmp)\n",
    "    reg = range(1, 51)\n",
    "    score = []\n",
    "    for c in reg:\n",
    "        svm = SVC(C=c, kernel=pykernels.Tanimoto())\n",
    "        score.append(np.mean(cross_val_score(svm, X_scaled, y_train, cv=16, scoring=\"f1_weighted\")))\n",
    "    print(f\"Rayon {radius} : Best score {np.max(score)} - C {np.argmax(score)+1} | Size of X {X_scaled.shape}\")\n",
    "    scores_lbp.append(np.max(score))"
   ]
  },
  {
   "cell_type": "markdown",
   "id": "c41819ba",
   "metadata": {},
   "source": [
    "Le meilleur score est atteint pour un rayon de 7, d'où la création de la feature suivante pour la suite"
   ]
  },
  {
   "cell_type": "code",
   "execution_count": 164,
   "id": "f140d7c0",
   "metadata": {},
   "outputs": [
    {
     "data": {
      "text/plain": [
       "((422, 58), (207, 58))"
      ]
     },
     "execution_count": 164,
     "metadata": {},
     "output_type": "execute_result"
    }
   ],
   "source": [
    "lbp = create_lbp_features(7, 56, test_feature=False)\n",
    "lbp_test = create_lbp_features(7, 56, test_feature=True)\n",
    "lbp.shape, lbp_test.shape"
   ]
  },
  {
   "cell_type": "markdown",
   "id": "89480028",
   "metadata": {},
   "source": [
    "### Scale-invariant feature transform (SIFT)"
   ]
  },
  {
   "cell_type": "markdown",
   "id": "937cbcc4",
   "metadata": {},
   "source": [
    "Les descripteurs SIFT sont plus souvent utilisés pour l'identification que pour de la classification. Ils semblaient cependant particulièrement dans le contexte de classification, car il s'agit d'une feature invariante d'échelle. L'utilisation des descripteurs pour de la classification n'est pas immédiate, il convient de créer un `bag of visual words` avec les descripteurs SIFT en amont."
   ]
  },
  {
   "cell_type": "markdown",
   "id": "9a7200c7",
   "metadata": {},
   "source": [
    "<u>Principe </u>: On récupère les descripteurs SIFT de l'ensemble des images (train + test). Chaque keypoint SIFT est décrit par un descripteur de taille 128. On clusterise ensuite ces descripteurs pour trouver les `k` keypoints les plus représentatifs des images. Les descripteurs de chaque image sont ensuite comparés aux `k` descripteurs représentatifs, et un histogramme est constitué pour chaque image (on compte le nombre de fois où un keypoint appartenant au cluster `i` est présent dans l'image). Cela génère donc une feature de taille `k` pour chaque image, qui peut être utilisée dans notre tâche de classification. Cette technique est appelée \"Bag of Visual Words\" dans les différents articles y faisant référence. <br>\n",
    "Un critère très important pour la génération des features SIFT est donc la taille `k` du nombre de clusters à générer"
   ]
  },
  {
   "cell_type": "markdown",
   "id": "a447157c",
   "metadata": {},
   "source": [
    "<u>Première étape </u>: extraction des keypoints et descripteurs SIFT de l'ensemble des images (Train + Test)"
   ]
  },
  {
   "cell_type": "code",
   "execution_count": 106,
   "id": "d5b9c08c",
   "metadata": {},
   "outputs": [
    {
     "data": {
      "application/vnd.jupyter.widget-view+json": {
       "model_id": "1a3a0dd15fee42fab3a75e83d5a3304c",
       "version_major": 2,
       "version_minor": 0
      },
      "text/plain": [
       "  0%|          | 0/422 [00:00<?, ?it/s]"
      ]
     },
     "metadata": {},
     "output_type": "display_data"
    },
    {
     "data": {
      "application/vnd.jupyter.widget-view+json": {
       "model_id": "41b18da7fec043c6991a9d4fd0a55347",
       "version_major": 2,
       "version_minor": 0
      },
      "text/plain": [
       "  0%|          | 0/207 [00:00<?, ?it/s]"
      ]
     },
     "metadata": {},
     "output_type": "display_data"
    }
   ],
   "source": [
    "sift = cv2.SIFT_create()\n",
    "# Certaines images sont de dimension 700x456 : je les resize toutes pour ne pas avoir de problème de dimension\n",
    "images = [np.array(Image.open(f).convert('L').resize((700,460))) for f in files_train]\n",
    "images = np.stack(images, axis=0)\n",
    "# Certaines images sont de dimension 700x456 : je les resize toutes pour ne pas avoir de problème de dimension\n",
    "images_test = [np.array(Image.open(f).convert('L').resize((700,460))) for f in files_test]\n",
    "images_test = np.stack(images_test, axis=0)\n",
    "sift_feat = []\n",
    "for im in tqdm(images):\n",
    "    sift_feat.append(sift.detectAndCompute(im, None)[1])\n",
    "for im in tqdm(images_test):\n",
    "    sift_feat.append(sift.detectAndCompute(im, None)[1])\n",
    "sift_feat = np.vstack(sift_feat)"
   ]
  },
  {
   "cell_type": "code",
   "execution_count": 107,
   "id": "6b8c270f",
   "metadata": {},
   "outputs": [
    {
     "data": {
      "text/plain": [
       "(2225354, 128)"
      ]
     },
     "execution_count": 107,
     "metadata": {},
     "output_type": "execute_result"
    }
   ],
   "source": [
    "sift_feat.shape"
   ]
  },
  {
   "cell_type": "markdown",
   "id": "88a7c462",
   "metadata": {},
   "source": [
    "2 225 354 keypoints ont donc été trouvés parmi les 629 images"
   ]
  },
  {
   "cell_type": "markdown",
   "id": "95954ace",
   "metadata": {},
   "source": [
    "<u>Deuxième étape </u>: clustering des keypoints SIFT extraits, et décompte du nombre de keypoints représentatif dans chaque image"
   ]
  },
  {
   "cell_type": "code",
   "execution_count": 108,
   "id": "ff3876af",
   "metadata": {},
   "outputs": [],
   "source": [
    "def create_sift_feature(k, sift_feat, images, images_test):\n",
    "    \"\"\" Fonction utilisée pour créer les features SIFT\n",
    "    Args:\n",
    "        k (int) : nombre de cluster / taille des features générées pour chaque image\n",
    "        sift_feat (numpy array nb_total_keypoints x 128) : contient l'ensemble des keypoints SIFT de l'ensemble des images\n",
    "        images (numpy array 422x3x460x700) : array contenant l'ensemble des images de Train\n",
    "        images_test (numpy array 207x3x460x700) : array contenant l'ensemble des images de Test\n",
    "    Return:\n",
    "        ∅ : la génération des features étant très longue, elles ont été enregistrées en local pour pouvoir être\n",
    "        réutilisées plus facilement\n",
    "    \"\"\"\n",
    "    sift = cv2.SIFT_create()\n",
    "    # 20 initialisations random de KMeans, parmi laquelle la meilleure est gardée\n",
    "    # Cette étape est assez longue, mais la création du cluster est l'étape la plus cruciale de cette méthode\n",
    "    kmeans = KMeans(n_clusters=k, init=\"random\", n_init=20)\n",
    "    kmeans.fit(sift_feat)\n",
    "    \n",
    "    X_tmp = []\n",
    "    for im in images:\n",
    "        # Extraction des descripteurs de chaque image\n",
    "        des = sift.detectAndCompute(im, None)[1]\n",
    "        # Création d'un histogramme vide\n",
    "        histo = np.zeros(k)\n",
    "        for d in des:\n",
    "            # Pour chaque descripteur, association au cluster le plus proche\n",
    "            idx = kmeans.predict(d.reshape(1, -1))\n",
    "            histo[idx] += 1\n",
    "        X_tmp.append(histo)\n",
    "    X_tmp = np.vstack(X_tmp)\n",
    "    \n",
    "    X_tmp_test = []\n",
    "    for im in images_test:\n",
    "        des = sift.detectAndCompute(im, None)[1]\n",
    "        histo = np.zeros(k)\n",
    "        for d in des:\n",
    "            idx = kmeans.predict(d.reshape(1, -1))\n",
    "            histo[idx] += 1\n",
    "        X_tmp_test.append(histo)\n",
    "    X_tmp_test = np.vstack(X_tmp_test)\n",
    "    \n",
    "    np.save(f\"sift_embedding_{k}.npy\", X_tmp)\n",
    "    np.save(f\"sift_embedding_test_{k}.npy\", X_tmp_test)"
   ]
  },
  {
   "cell_type": "markdown",
   "id": "a1519deb",
   "metadata": {},
   "source": [
    "L'étape de clustering via K-Means étant assez longue (clustering de plus de 2 000 000 de keypoints), elle a été réalisée en amont de ce rapport, et les embeddings sauvegardés en local au format `npy`. Des embeddings de dimension variant entre 150 et 650 ont été générés."
   ]
  },
  {
   "cell_type": "code",
   "execution_count": 137,
   "id": "d0114523",
   "metadata": {},
   "outputs": [
    {
     "data": {
      "application/vnd.jupyter.widget-view+json": {
       "model_id": "4f10c63975d04fdf896326591627dd51",
       "version_major": 2,
       "version_minor": 0
      },
      "text/plain": [
       "  0%|          | 0/11 [00:00<?, ?it/s]"
      ]
     },
     "metadata": {},
     "output_type": "display_data"
    },
    {
     "name": "stdout",
     "output_type": "stream",
     "text": [
      "Nombre de clusters 150 : Best score 0.7823833880190718 - C 7\n",
      "Nombre de clusters 200 : Best score 0.7837624873148378 - C 10\n",
      "Nombre de clusters 250 : Best score 0.7651353073762261 - C 5\n",
      "Nombre de clusters 300 : Best score 0.7858054758829331 - C 7\n",
      "Nombre de clusters 350 : Best score 0.7575363985887491 - C 7\n",
      "Nombre de clusters 400 : Best score 0.7588900178643768 - C 5\n",
      "Nombre de clusters 450 : Best score 0.779959694863541 - C 3\n",
      "Nombre de clusters 500 : Best score 0.7525695320032926 - C 6\n",
      "Nombre de clusters 550 : Best score 0.7726663288739081 - C 10\n",
      "Nombre de clusters 600 : Best score 0.7497361889455907 - C 8\n",
      "Nombre de clusters 650 : Best score 0.7559814077976472 - C 4\n"
     ]
    }
   ],
   "source": [
    "scores_sift = []\n",
    "for k in tqdm([150, 200, 250, 300, 350, 400, 450, 500, 550, 600, 650]):\n",
    "    X_tmp = np.load(f\"sift_embedding_{k}.npy\")\n",
    "    scaler = StandardScaler()\n",
    "    X_scaled = scaler.fit_transform(X_tmp)\n",
    "    reg = range(1, 51)\n",
    "    score = []\n",
    "    for c in reg:\n",
    "        svm = SVC(C=c, kernel=pykernels.Tanimoto())\n",
    "        score.append(np.mean(cross_val_score(svm, X_scaled, y_train, cv=16, scoring=\"f1_weighted\")))\n",
    "    print(f\"Nombre de clusters {k} : Best score {np.max(score)} - C {np.argmax(score)+1}\")\n",
    "    scores_sift.append(np.max(score))"
   ]
  },
  {
   "cell_type": "markdown",
   "id": "047bfcb0",
   "metadata": {},
   "source": [
    "Le meilleur score est obtenu pour k=300. Ce sont donc les embeddings SIFT de taille 300 qui ont été conservés pour la suite"
   ]
  },
  {
   "cell_type": "code",
   "execution_count": 165,
   "id": "f7e82d4e",
   "metadata": {},
   "outputs": [
    {
     "data": {
      "text/plain": [
       "((422, 300), (207, 300))"
      ]
     },
     "execution_count": 165,
     "metadata": {},
     "output_type": "execute_result"
    }
   ],
   "source": [
    "sift = np.load(\"sift_embedding_300.npy\")\n",
    "sift_test = np.load(\"sift_embedding_test_300.npy\")\n",
    "sift.shape, sift_test.shape"
   ]
  },
  {
   "cell_type": "markdown",
   "id": "fd26ab5d",
   "metadata": {},
   "source": [
    "## Optimisation de la combinaison des features"
   ]
  },
  {
   "cell_type": "markdown",
   "id": "f84195d3",
   "metadata": {},
   "source": [
    "Pour cette ultime étape, les modèles ne sont plus testés sur 16-folds, mais avec `Leave-One-Out`. La méthode est beaucoup plus calculatoire, mais permet d'obtenir des résultats plus robustes, c'est pourquoi je ne l'ai employé qu'à partir de cette étape."
   ]
  },
  {
   "cell_type": "code",
   "execution_count": 129,
   "id": "54409895",
   "metadata": {},
   "outputs": [],
   "source": [
    "loo = LeaveOneOut()\n",
    "# Concaténation de toutes les features précédemment extraites\n",
    "X = np.concatenate([pftas, chan_stats, hu, haralick, histo13, lbp, sift], axis=1)\n",
    "X_test = np.concatenate([pftas_test, chan_stats_test, hu_test, haralick_test, histo13_test, lbp_test, sift_test],\n",
    "                        axis=1)"
   ]
  },
  {
   "cell_type": "code",
   "execution_count": 130,
   "id": "139a5814",
   "metadata": {},
   "outputs": [
    {
     "data": {
      "text/plain": [
       "((422, 2764), (207, 2764))"
      ]
     },
     "execution_count": 130,
     "metadata": {},
     "output_type": "execute_result"
    }
   ],
   "source": [
    "scaler = StandardScaler()\n",
    "X_scaled = scaler.fit_transform(X)\n",
    "X_test_scaled = scaler.transform(X_test)\n",
    "X_scaled.shape, X_test_scaled.shape"
   ]
  },
  {
   "cell_type": "code",
   "execution_count": 122,
   "id": "95482890",
   "metadata": {},
   "outputs": [
    {
     "data": {
      "application/vnd.jupyter.widget-view+json": {
       "model_id": "7383f56db1db49f38d51ab614a114fe4",
       "version_major": 2,
       "version_minor": 0
      },
      "text/plain": [
       "  0%|          | 0/30 [00:00<?, ?it/s]"
      ]
     },
     "metadata": {},
     "output_type": "display_data"
    },
    {
     "name": "stdout",
     "output_type": "stream",
     "text": [
      "Best score 0.9170616113744076 - C 4\n"
     ]
    }
   ],
   "source": [
    "reg = range(1, 31)\n",
    "score = []\n",
    "for c in tqdm(reg):\n",
    "    svm = SVC(C=c, kernel=pykernels.Tanimoto())\n",
    "    f1 = []\n",
    "    for i, (train_index, test_index) in enumerate(loo.split(X_scaled)):\n",
    "        svm.fit(X_scaled[train_index], y_train[train_index])\n",
    "        y_pred = svm.predict(X_scaled[test_index])\n",
    "        f1.append(f1_score(y_train[test_index], y_pred, average=\"weighted\"))\n",
    "    score.append(np.mean(f1))\n",
    "print(f\"Best score {np.max(score)} - C {np.argmax(score)+1}\")"
   ]
  },
  {
   "cell_type": "code",
   "execution_count": 163,
   "id": "aa671ade",
   "metadata": {},
   "outputs": [],
   "source": [
    "svm = SVC(C=4, kernel=pykernels.Tanimoto())\n",
    "svm.fit(X_scaled, y_train)\n",
    "y_pred = svm.predict(X_test_scaled)\n",
    "df_pred = pd.concat([pd.Series(np.arange(1,208)), pd.Series(y_pred)], axis=1)\n",
    "df_pred.to_csv('pred_full_features.csv', index=False, header=False)"
   ]
  },
  {
   "cell_type": "markdown",
   "id": "7f7ae409",
   "metadata": {},
   "source": [
    "**Le score obtenu avec cette soumission est de  0.794713651235**.<br>\n",
    "On remarque que le nombre de features utilisé est relativement important (2764). Utiliser PCA sur cette représentation des données pour réduire la dimension serait drastique (l'implémentation de scitkit-learn de PCA autoriserait l'utilisation maximale de 422 features...). Un test d'ablation de features a donc été favorisé pour voir s'il était possible d'améliorer le score en enlevant une ou plusieurs features."
   ]
  },
  {
   "cell_type": "markdown",
   "id": "1ac42099",
   "metadata": {},
   "source": [
    "<u>Test d'ablations de features</u>"
   ]
  },
  {
   "cell_type": "code",
   "execution_count": 138,
   "id": "98d0332b",
   "metadata": {
    "scrolled": false
   },
   "outputs": [
    {
     "data": {
      "application/vnd.jupyter.widget-view+json": {
       "model_id": "bdc3db9f8e4b4efe8ba37c04e6719d8b",
       "version_major": 2,
       "version_minor": 0
      },
      "text/plain": [
       "  0%|          | 0/7 [00:00<?, ?it/s]"
      ]
     },
     "metadata": {},
     "output_type": "display_data"
    },
    {
     "data": {
      "application/vnd.jupyter.widget-view+json": {
       "model_id": "e2709f8cab0a4ce6afda0e55c31d5baa",
       "version_major": 2,
       "version_minor": 0
      },
      "text/plain": [
       "  0%|          | 0/30 [00:00<?, ?it/s]"
      ]
     },
     "metadata": {},
     "output_type": "display_data"
    },
    {
     "name": "stdout",
     "output_type": "stream",
     "text": [
      "Feature removed PFTAS : Best score 0.919431279620853 - C 3\n"
     ]
    },
    {
     "data": {
      "application/vnd.jupyter.widget-view+json": {
       "model_id": "6f5d40f3dd604a5dbd00c603eea6e259",
       "version_major": 2,
       "version_minor": 0
      },
      "text/plain": [
       "  0%|          | 0/30 [00:00<?, ?it/s]"
      ]
     },
     "metadata": {},
     "output_type": "display_data"
    },
    {
     "name": "stdout",
     "output_type": "stream",
     "text": [
      "Feature removed Channel statistics : Best score 0.9170616113744076 - C 6\n"
     ]
    },
    {
     "data": {
      "application/vnd.jupyter.widget-view+json": {
       "model_id": "665dc0de61e44ad09d49d06bdd5bfbc6",
       "version_major": 2,
       "version_minor": 0
      },
      "text/plain": [
       "  0%|          | 0/30 [00:00<?, ?it/s]"
      ]
     },
     "metadata": {},
     "output_type": "display_data"
    },
    {
     "name": "stdout",
     "output_type": "stream",
     "text": [
      "Feature removed Hu Moments : Best score 0.9146919431279621 - C 4\n"
     ]
    },
    {
     "data": {
      "application/vnd.jupyter.widget-view+json": {
       "model_id": "53495ae37fda455aafb2ec1015a51fac",
       "version_major": 2,
       "version_minor": 0
      },
      "text/plain": [
       "  0%|          | 0/30 [00:00<?, ?it/s]"
      ]
     },
     "metadata": {},
     "output_type": "display_data"
    },
    {
     "name": "stdout",
     "output_type": "stream",
     "text": [
      "Feature removed Haralick : Best score 0.9146919431279621 - C 4\n"
     ]
    },
    {
     "data": {
      "application/vnd.jupyter.widget-view+json": {
       "model_id": "b59b94ff30e44246b5f552a8f10563df",
       "version_major": 2,
       "version_minor": 0
      },
      "text/plain": [
       "  0%|          | 0/30 [00:00<?, ?it/s]"
      ]
     },
     "metadata": {},
     "output_type": "display_data"
    },
    {
     "name": "stdout",
     "output_type": "stream",
     "text": [
      "Feature removed Histogramme : Best score 0.933649289099526 - C 3\n"
     ]
    },
    {
     "data": {
      "application/vnd.jupyter.widget-view+json": {
       "model_id": "8f90f975804c4634925b4e00f3f4e23b",
       "version_major": 2,
       "version_minor": 0
      },
      "text/plain": [
       "  0%|          | 0/30 [00:00<?, ?it/s]"
      ]
     },
     "metadata": {},
     "output_type": "display_data"
    },
    {
     "name": "stdout",
     "output_type": "stream",
     "text": [
      "Feature removed LBP : Best score 0.9218009478672986 - C 5\n"
     ]
    },
    {
     "data": {
      "application/vnd.jupyter.widget-view+json": {
       "model_id": "76320f8ff3ff4e99b2ec4b5b3f048ab9",
       "version_major": 2,
       "version_minor": 0
      },
      "text/plain": [
       "  0%|          | 0/30 [00:00<?, ?it/s]"
      ]
     },
     "metadata": {},
     "output_type": "display_data"
    },
    {
     "name": "stdout",
     "output_type": "stream",
     "text": [
      "Feature removed SIFT : Best score 0.919431279620853 - C 7\n"
     ]
    }
   ],
   "source": [
    "features = [pftas, chan_stats, hu, haralick, histo13, lbp, sift]\n",
    "feature_names = [\"PFTAS\", \"Channel statistics\", \"Hu Moments\", \"Haralick\", \"Histogramme\", \"LBP\", \"SIFT\"]\n",
    "for feat in tqdm(range(len(features))):\n",
    "    list_feat = copy.deepcopy(features)\n",
    "    # Supprime la feature feat de la liste des features avant concaténation\n",
    "    del list_feat[feat]\n",
    "    X = np.concatenate(list_feat, axis=1)\n",
    "    scaler = StandardScaler()\n",
    "    X_scaled = scaler.fit_transform(X)\n",
    "    reg = range(1, 31)\n",
    "    score = []\n",
    "    for c in tqdm(reg):\n",
    "        svm = SVC(C=c, kernel=pykernels.Tanimoto())\n",
    "        f1 = []\n",
    "        for i, (train_index, test_index) in enumerate(loo.split(X_scaled)):\n",
    "            svm.fit(X_scaled[train_index], y_train[train_index])\n",
    "            y_pred = svm.predict(X_scaled[test_index])\n",
    "            f1.append(f1_score(y_train[test_index], y_pred, average=\"weighted\"))\n",
    "        score.append(np.mean(f1))\n",
    "    print(f\"Feature removed {feature_names[feat]} : Best score {np.max(score)} - C {np.argmax(score)+1}\")"
   ]
  },
  {
   "cell_type": "markdown",
   "id": "29b0e05c",
   "metadata": {},
   "source": [
    "De manière surprenante, il semblerait qu'en enlevant les features générées via histogramme de couleur, le score global soit amélioré ! J'ai donc recrée une soumission après avoir enlevée les features d'histogramme."
   ]
  },
  {
   "cell_type": "code",
   "execution_count": 166,
   "id": "8fa86e07",
   "metadata": {},
   "outputs": [
    {
     "data": {
      "text/plain": [
       "((422, 567), (207, 567))"
      ]
     },
     "execution_count": 166,
     "metadata": {},
     "output_type": "execute_result"
    }
   ],
   "source": [
    "X = np.concatenate([pftas, chan_stats, hu, haralick, lbp, sift], axis=1)\n",
    "X_test = np.concatenate([pftas_test, chan_stats_test, hu_test, haralick_test, lbp_test, sift_test],\n",
    "                        axis=1)\n",
    "scaler = StandardScaler()\n",
    "X_scaled = scaler.fit_transform(X)\n",
    "X_test_scaled = scaler.transform(X_test)\n",
    "X_scaled.shape, X_test_scaled.shape"
   ]
  },
  {
   "cell_type": "code",
   "execution_count": 168,
   "id": "ccf3caf1",
   "metadata": {},
   "outputs": [],
   "source": [
    "svm = SVC(C=3, kernel=pykernels.Tanimoto())\n",
    "svm.fit(X_scaled, y_train)\n",
    "y_pred = svm.predict(X_test_scaled)\n",
    "df_pred = pd.concat([pd.Series(np.arange(1,208)), pd.Series(y_pred)], axis=1)\n",
    "df_pred.to_csv('pred_ablation.csv', index=False, header=False)"
   ]
  },
  {
   "cell_type": "markdown",
   "id": "dc6f0673",
   "metadata": {},
   "source": [
    "**Le score obtenu avec cette soumission est de 0.770335965359**, soit 2 points de moins que précédemment. <br>\n",
    "La suppression des features d'histogramme semble avoir abouti à un overfitting du modèle. Retirer entièrement ces features ne semble donc pas pertinent. En revanche, **les features d'histogramme comptent pour 2197 features / 2764**. Peut-être est-il possible de réduire le nombre de bins utilisé ? Le nombre de bins avait été estimé en utilisant uniquement les features d'histogramme. Après combinaison avec d'autres features, il est probablement possible d'utiliser moins de bins pour réduire la dimension et d'obtenir un meilleur score final. <br><br>\n",
    "\n",
    "<u>Optimisation du nombre de bins d'histogramme conjointement aux autres features</u> (range de recherche entre 10 et 15 bins)"
   ]
  },
  {
   "cell_type": "code",
   "execution_count": 153,
   "id": "3b53d224",
   "metadata": {},
   "outputs": [
    {
     "data": {
      "application/vnd.jupyter.widget-view+json": {
       "model_id": "d2814962a536413c8d6c80d66ada8bb3",
       "version_major": 2,
       "version_minor": 0
      },
      "text/plain": [
       "  0%|          | 0/6 [00:00<?, ?it/s]"
      ]
     },
     "metadata": {},
     "output_type": "display_data"
    },
    {
     "name": "stdout",
     "output_type": "stream",
     "text": [
      "Dimensions X (422, 1567)\n",
      "Bins 10 : Best score 0.9218009478672986 - C 4\n",
      "Dimensions X (422, 1898)\n",
      "Bins 11 : Best score 0.9241706161137441 - C 6\n",
      "Dimensions X (422, 2295)\n",
      "Bins 12 : Best score 0.9170616113744076 - C 4\n",
      "Dimensions X (422, 2764)\n",
      "Bins 13 : Best score 0.9170616113744076 - C 4\n",
      "Dimensions X (422, 3311)\n",
      "Bins 14 : Best score 0.9218009478672986 - C 4\n",
      "Dimensions X (422, 3942)\n",
      "Bins 15 : Best score 0.9218009478672986 - C 4\n"
     ]
    }
   ],
   "source": [
    "for bins in tqdm([10, 11, 12, 13, 14, 15]):\n",
    "    histo = create_histo_features(bins, test_feature=False)\n",
    "    histo_test = create_histo_features(bins, test_feature=True)\n",
    "    X = np.concatenate([pftas, chan_stats, hu, haralick, histo, lbp, sift], axis=1)\n",
    "    X_test = np.concatenate([pftas_test, chan_stats_test, hu_test, haralick_test, histo_test, lbp_test, sift_test],\n",
    "                        axis=1)\n",
    "    scaler = StandardScaler()\n",
    "    X_scaled = scaler.fit_transform(X)\n",
    "    X_test_scaled = scaler.transform(X_test)\n",
    "    print(f\"Dimensions X {X_scaled.shape}\")\n",
    "    reg = range(1, 11)\n",
    "    score = []\n",
    "    for c in reg:\n",
    "        svm = SVC(C=c, kernel=pykernels.Tanimoto())\n",
    "        f1 = []\n",
    "        for i, (train_index, test_index) in enumerate(loo.split(X_scaled)):\n",
    "            svm.fit(X_scaled[train_index], y_train[train_index])\n",
    "            y_pred = svm.predict(X_scaled[test_index])\n",
    "            f1.append(f1_score(y_train[test_index], y_pred, average=\"weighted\"))\n",
    "        score.append(np.mean(f1))\n",
    "    print(f\"Bins {bins} : Best score {np.max(score)} - C {np.argmax(score)+1}\")"
   ]
  },
  {
   "cell_type": "code",
   "execution_count": 154,
   "id": "3ae28e15",
   "metadata": {},
   "outputs": [],
   "source": [
    "histo11 = create_histo_features(11, test_feature=False)\n",
    "histo11_test = create_histo_features(11, test_feature=True)"
   ]
  },
  {
   "cell_type": "markdown",
   "id": "f80b9899",
   "metadata": {},
   "source": [
    "Il semblerait qu'utiliser seulement 11 bins permette d'augmenter le score global de classification. <br>\n",
    "Peut-être est-il également possible d'optimiser le nombre de features LBP créées?"
   ]
  },
  {
   "cell_type": "code",
   "execution_count": 161,
   "id": "973695fc",
   "metadata": {},
   "outputs": [
    {
     "data": {
      "application/vnd.jupyter.widget-view+json": {
       "model_id": "594dac4a1c5c4568b8abf24411e79964",
       "version_major": 2,
       "version_minor": 0
      },
      "text/plain": [
       "  0%|          | 0/10 [00:00<?, ?it/s]"
      ]
     },
     "metadata": {},
     "output_type": "display_data"
    },
    {
     "name": "stdout",
     "output_type": "stream",
     "text": [
      "Dimensions X (422, 1858)\n",
      "Radius=2 : Best score 0.9146919431279621 - C 4\n",
      "Dimensions X (422, 1866)\n",
      "Radius=3 : Best score 0.9146919431279621 - C 4\n",
      "Dimensions X (422, 1874)\n",
      "Radius=4 : Best score 0.919431279620853 - C 6\n",
      "Dimensions X (422, 1882)\n",
      "Radius=5 : Best score 0.9170616113744076 - C 3\n",
      "Dimensions X (422, 1890)\n",
      "Radius=6 : Best score 0.9218009478672986 - C 3\n",
      "Dimensions X (422, 1898)\n",
      "Radius=7 : Best score 0.9241706161137441 - C 6\n",
      "Dimensions X (422, 1906)\n",
      "Radius=8 : Best score 0.9265402843601895 - C 7\n",
      "Dimensions X (422, 1914)\n",
      "Radius=9 : Best score 0.9265402843601895 - C 6\n",
      "Dimensions X (422, 1922)\n",
      "Radius=10 : Best score 0.9265402843601895 - C 6\n",
      "Dimensions X (422, 1930)\n",
      "Radius=11 : Best score 0.9241706161137441 - C 5\n"
     ]
    }
   ],
   "source": [
    "for radius in tqdm(range(2,12)):\n",
    "    lbp = create_lbp_features(radius, 8*radius, test_feature=False)\n",
    "    lbp_test = create_lbp_features(radius, 8*radius, test_feature=True)\n",
    "    X = np.concatenate([pftas, chan_stats, hu, haralick, histo11, lbp, sift], axis=1)\n",
    "    X_test = np.concatenate([pftas_test, chan_stats_test, hu_test, haralick_test, histo11_test, lbp_test, sift_test],\n",
    "                        axis=1)\n",
    "    scaler = StandardScaler()\n",
    "    X_scaled = scaler.fit_transform(X)\n",
    "    X_test_scaled = scaler.transform(X_test)\n",
    "    print(f\"Dimensions X {X_scaled.shape}\")\n",
    "    reg = range(1, 11)\n",
    "    score = []\n",
    "    for c in reg:\n",
    "        svm = SVC(C=c, kernel=pykernels.Tanimoto())\n",
    "        f1 = []\n",
    "        for i, (train_index, test_index) in enumerate(loo.split(X_scaled)):\n",
    "            svm.fit(X_scaled[train_index], y_train[train_index])\n",
    "            y_pred = svm.predict(X_scaled[test_index])\n",
    "            f1.append(f1_score(y_train[test_index], y_pred, average=\"weighted\"))\n",
    "        score.append(np.mean(f1))\n",
    "    print(f\"Radius={radius} : Best score {np.max(score)} - C {np.argmax(score)+1}\")"
   ]
  },
  {
   "cell_type": "markdown",
   "id": "06e7d6d6",
   "metadata": {},
   "source": [
    "Utiliser un rayon de 9 pixels pour la feature de LBP semble améliorer légèrement le score."
   ]
  },
  {
   "cell_type": "code",
   "execution_count": 169,
   "id": "5bcb6ae9",
   "metadata": {},
   "outputs": [],
   "source": [
    "lbp = create_lbp_features(9, 8*9, test_feature=False)\n",
    "lbp_test = create_lbp_features(9, 8*9, test_feature=True)"
   ]
  },
  {
   "cell_type": "code",
   "execution_count": 170,
   "id": "40e6cdab",
   "metadata": {},
   "outputs": [
    {
     "data": {
      "text/plain": [
       "((422, 1914), (207, 1914))"
      ]
     },
     "execution_count": 170,
     "metadata": {},
     "output_type": "execute_result"
    }
   ],
   "source": [
    "X = np.concatenate([pftas, chan_stats, hu, haralick, histo11, lbp, sift], axis=1)\n",
    "X_test = np.concatenate([pftas_test, chan_stats_test, hu_test, haralick_test, histo11_test, lbp_test, sift_test],\n",
    "                        axis=1)\n",
    "scaler = StandardScaler()\n",
    "X_scaled = scaler.fit_transform(X)\n",
    "X_test_scaled = scaler.transform(X_test)\n",
    "X_scaled.shape, X_test_scaled.shape"
   ]
  },
  {
   "cell_type": "code",
   "execution_count": 172,
   "id": "2ec8a7c5",
   "metadata": {},
   "outputs": [],
   "source": [
    "svm = SVC(C=6, kernel=pykernels.Tanimoto())\n",
    "svm.fit(X_scaled, y_train)\n",
    "y_pred = svm.predict(X_test_scaled)\n",
    "df_pred = pd.concat([pd.Series(np.arange(1,208)), pd.Series(y_pred)], axis=1)\n",
    "df_pred.to_csv('pred_ultime.csv', index=False, header=False)"
   ]
  },
  {
   "cell_type": "markdown",
   "id": "5780c122",
   "metadata": {},
   "source": [
    "**Le score obtenu avec cette dernière soumission est de 0.802604153216**. <br>\n",
    "Il semble difficile d'optimiser davantage ce score avec cette méthode sans overfitter."
   ]
  },
  {
   "cell_type": "markdown",
   "id": "576281f8",
   "metadata": {},
   "source": [
    "## Conclusion"
   ]
  },
  {
   "cell_type": "markdown",
   "id": "285dda2c",
   "metadata": {},
   "source": [
    "Pour obtenir un F1-score optimal de **0.802604153216**, les paramètres suivants ont donc été utilisés :\n",
    "* Classifieur **SVM avec kernel Tanimoto**, paramètre de régularisation **C=6**\n",
    "* 7 feature extractors\n",
    "  1) Parameter-Free Threshold Adjacency Statistics\n",
    "  2) Statistiques des canaux de couleur (moyenne, écart-type, asymétrie, kurtosis)\n",
    "  3) Hu Moments\n",
    "  4) Features de texture Haralick (distance=2, moyenne Point-to-Point et 14 features calculées)\n",
    "  5) Histogramme de couleurs avec 11 bins\n",
    "  6) Local Binary Patterning, avec un rayon de 9 pixels et 72 points\n",
    "  7) Descripteurs SIFT, clusterisés avec 300 centroides"
   ]
  },
  {
   "cell_type": "markdown",
   "id": "3348c65e",
   "metadata": {},
   "source": [
    "<u>Autres méthodes testées amenant à un 0.76 < F1-Score < 0.79  </u>:\n",
    "* PCA (~35 composantes) avec features histogramme + Haralick + PFTAS\n",
    "* 7 features avec kernel de Cauchy et optimisation du paramètre `s` (variance $\\sigma$)\n",
    "* Classifieur Deep Learning avec 4 couche de convolutions et quelques couches linéaires, appliqué sur des patchs d'images (patchs de taille 115 x 100 px, soit 28 patchs par image de taille 460 x 700 px), suivi d'un hard vote sur les 28 patchs d'image pour identifier la classe de l'image complète (similaire à un vote dans une méthode d'ensemble)"
   ]
  },
  {
   "cell_type": "markdown",
   "id": "bc1fc661",
   "metadata": {},
   "source": [
    "<u>Pistes potentielles d'améliorations </u>:\n",
    "* Utilisation de classifieurs plus complexes (XGBoost, méthodes d'ensemble incluant des SVM avec des kernels différents), avec GridSearchCV pour rechercher les paramètres optimaux -> de très longs temps de calcul en perspective\n",
    "* Optimisation d'un classifieur avec CNN plus profond que celui testé, appliqué à des patchs d'images -> nécessite l'accès à des GPUs pour obtenir des résultats dans un temps raisonnable"
   ]
  },
  {
   "cell_type": "markdown",
   "id": "2d0afcbf",
   "metadata": {},
   "source": [
    "# Annexe - Code complet pour générer les meilleurs prédictions"
   ]
  },
  {
   "cell_type": "markdown",
   "id": "54377124",
   "metadata": {},
   "source": [
    "Il est déconseillé de lancer le code tel quel, la génération des features - en particulier SIFT- étant assez longue."
   ]
  },
  {
   "cell_type": "code",
   "execution_count": null,
   "id": "454fce57",
   "metadata": {},
   "outputs": [],
   "source": [
    "import numpy as np\n",
    "import os\n",
    "from tqdm.notebook import tqdm\n",
    "from PIL import Image\n",
    "from sklearn.svm import SVC\n",
    "from sklearn.cluster import KMeans\n",
    "from sklearn.preprocessing import StandardScaler\n",
    "from scipy.stats import skew, kurtosis\n",
    "import pandas as pd\n",
    "import cv2\n",
    "import mahotas\n",
    "from skimage.feature import local_binary_pattern\n",
    "# A installer depuis https://github.com/gmum/pykernels.git\n",
    "import pykernels\n",
    "\n",
    "\n",
    "# -------- Récupération des images et labels d'entraînement --------\n",
    "class_mapping = {\"F\":1, \"DC\":2, \"PC\":3, \"PT\":4, \"MC\":5, \"LC\":6, \"A\":7, \"TA\":8}\n",
    "# Liste contenant le nom des fichiers de Train\n",
    "files_train = [f\"data-challenge/Train/{f}\" for f in os.listdir(path=\"data-challenge/Train/\")]\n",
    "# Liste contenant le nom des fichiers de Test\n",
    "files_test = [f\"data-challenge/Test/SOB_{i}.png\" for i in range(1, 208)]\n",
    "y_train = np.array([int(class_mapping[f.split(\"_\")[2].split(\"-\")[0]]) for f in files_train])\n",
    "\n",
    "\n",
    "# -------- 1) Extraction features PFTAS --------\n",
    "pftas = np.array([mahotas.features.pftas(np.array(Image.open(f))) for f in files_train])\n",
    "pftas_test = np.array([mahotas.features.pftas(np.array(Image.open(f))) for f in files_test])\n",
    "\n",
    "\n",
    "# -------- 2) Extraction features statistiques de couleurs --------\n",
    "chan_stats = np.array([np.concatenate([np.mean(Image.open(f), axis=(0,1)),\n",
    "                                       np.std(Image.open(f), axis=(0,1)),\n",
    "                                       skew(Image.open(f), axis=(0,1)),\n",
    "                                       kurtosis(Image.open(f), axis=(0,1))]) for f in files_train])\n",
    "chan_stats_test = np.array([np.concatenate([np.mean(Image.open(f), axis=(0,1)),\n",
    "                                       np.std(Image.open(f), axis=(0,1)),\n",
    "                                       skew(Image.open(f), axis=(0,1)),\n",
    "                                       kurtosis(Image.open(f), axis=(0,1))]) for f in files_test])\n",
    "\n",
    "\n",
    "# -------- 3) Extraction features Hu moments --------\n",
    "moments = [cv2.moments(np.array(Image.open(f).convert('L'))) for f in files_train]\n",
    "moments_test = [cv2.moments(np.array(Image.open(f).convert('L'))) for f in files_test]\n",
    "hu = np.array([cv2.HuMoments(m).T for m in moments])[:,0,:]\n",
    "hu_test = np.array([cv2.HuMoments(m).T for m in moments_test])[:,0,:]\n",
    "\n",
    "\n",
    "# -------- 4) Extraction features Haralick --------\n",
    "haralick = np.array([mahotas.features.haralick(np.array(Image.open(f)), return_mean_ptp=True,\n",
    "                                         compute_14th_feature=True, distance=2) for f in files_train])\n",
    "haralick_test = np.array([mahotas.features.haralick(np.array(Image.open(f)), return_mean_ptp=True,\n",
    "                                         compute_14th_feature=True, distance=2) for f in files_test])\n",
    "\n",
    "\n",
    "# -------- 5) Extraction features Histogrammes --------\n",
    "def create_histo_features(bins, test_feature=False):\n",
    "    \"\"\" Créée des histogrammes de couleurs pour chaque canal HSV des images en input\n",
    "    Args:\n",
    "        bins (int) : nombre de bins (classes) à créer pour chaque canal de l'image HSV\n",
    "        test_feature (Bool): si True, crée des features sur les images de Test, si False créée \n",
    "                                des features sur les images de Train\n",
    "    Output:\n",
    "        X (numpy array) : features extraites (la dimension de sortie dépend du nombre de bins en argument)\n",
    "    \"\"\"\n",
    "    files = files_test if test_feature else files_train\n",
    "    X = []\n",
    "    for f in files:\n",
    "        hsv = cv2.cvtColor(cv2.imread(f), cv2.COLOR_BGR2HSV)\n",
    "        hist  = cv2.calcHist([hsv], [0, 1, 2], None, [bins, bins, bins], [0, 256, 0, 256, 0, 256])\n",
    "        cv2.normalize(hist, hist)\n",
    "        X.append(hist.flatten())\n",
    "    X = np.array(X)\n",
    "    return X\n",
    "\n",
    "histo11 = create_histo_features(11, test_feature=False)\n",
    "histo11_test = create_histo_features(11, test_feature=True)\n",
    "\n",
    "\n",
    "# -------- 6) Extraction features LBP --------\n",
    "# Inspiration : https://cvexplained.wordpress.com/2020/07/22/10-7-local-binary-patterns/\n",
    "def create_lbp_features(radius, points, test_feature=False):\n",
    "    \"\"\" Extrait les features LBP des images en input\n",
    "    Args:\n",
    "        radius (int) : rayon du cercle utilisé pour calculer les features LBP autour d'un pixel\n",
    "        points (int) : nombre de points à garder dans le cercle défini autour du pixel central\n",
    "                        Avec points = radius x 8, tous les points sont conservés\n",
    "        test_feature (Bool): si True, crée des features sur les images de Test, si False créée \n",
    "                                des features sur les images de Train\n",
    "    Output:\n",
    "        X (numpy array) : features extraites (la dimension de sortie dépend du nombre de bins en argument)\n",
    "    \"\"\"\n",
    "    files = files_test if test_feature else files_train\n",
    "    X = []\n",
    "    for f in files:\n",
    "        im = np.array(Image.open(f).convert('L'))\n",
    "        lbp = local_binary_pattern(im, points, radius, method=\"uniform\")\n",
    "        (hist, _) = np.histogram(lbp.ravel(), bins=range(0, points+3), range=(0, points+2))\n",
    "        X.append(hist)\n",
    "    return np.stack(X)\n",
    "\n",
    "lbp = create_lbp_features(9, 8*9, test_feature=False)\n",
    "lbp_test = create_lbp_features(9, 8*9, test_feature=True)\n",
    "\n",
    "\n",
    "# -------- 7) Extraction features SIFT --------\n",
    "# Inspiration : https://www.kaggle.com/code/pierre54/bag-of-words-model-with-sift-descriptors/notebook\n",
    "def create_sift_feature(k, sift_feat, images, images_test):\n",
    "    \"\"\" Fonction utilisée pour créer les features SIFT\n",
    "    Args:\n",
    "        k (int) : nombre de cluster / taille des features générées pour chaque image\n",
    "        sift_feat (numpy array nb_total_keypoints x 128) : contient l'ensemble des keypoints SIFT de l'ensemble des images\n",
    "        images (numpy array 422x3x460x700) : array contenant l'ensemble des images de Train\n",
    "        images_test (numpy array 207x3x460x700) : array contenant l'ensemble des images de Test\n",
    "    Return:\n",
    "        ∅ : la génération des features étant très longue, elles ont été enregistrées en local pour pouvoir être\n",
    "        réutilisées plus facilement\n",
    "    \"\"\"\n",
    "    sift = cv2.SIFT_create()\n",
    "    # 20 initialisations random de KMeans, parmi laquelle la meilleure est gardée\n",
    "    # Cette étape est assez longue, mais la création du cluster est l'étape la plus cruciale de cette méthode\n",
    "    kmeans = KMeans(n_clusters=k, init=\"random\", n_init=20)\n",
    "    kmeans.fit(sift_feat)\n",
    "    \n",
    "    X_tmp = []\n",
    "    for im in images:\n",
    "        # Extraction des descripteurs de chaque image\n",
    "        des = sift.detectAndCompute(im, None)[1]\n",
    "        # Création d'un histogramme vide\n",
    "        histo = np.zeros(k)\n",
    "        for d in des:\n",
    "            # Pour chaque descripteur, association au cluster le plus proche\n",
    "            idx = kmeans.predict(d.reshape(1, -1))\n",
    "            histo[idx] += 1\n",
    "        X_tmp.append(histo)\n",
    "    X_tmp = np.vstack(X_tmp)\n",
    "    \n",
    "    X_tmp_test = []\n",
    "    for im in images_test:\n",
    "        des = sift.detectAndCompute(im, None)[1]\n",
    "        histo = np.zeros(k)\n",
    "        for d in des:\n",
    "            idx = kmeans.predict(d.reshape(1, -1))\n",
    "            histo[idx] += 1\n",
    "        X_tmp_test.append(histo)\n",
    "    X_tmp_test = np.vstack(X_tmp_test)\n",
    "    \n",
    "    np.save(f\"sift_embedding_{k}.npy\", X_tmp)\n",
    "    np.save(f\"sift_embedding_test_{k}.npy\", X_tmp_test)\n",
    "\n",
    "sift = cv2.SIFT_create()\n",
    "# Certaines images sont de dimension 700x456 : je les resize toutes pour ne pas avoir de problème de dimension\n",
    "images = [np.array(Image.open(f).convert('L').resize((700,460))) for f in files_train]\n",
    "images = np.stack(images, axis=0)\n",
    "# Certaines images sont de dimension 700x456 : je les resize toutes pour ne pas avoir de problème de dimension\n",
    "images_test = [np.array(Image.open(f).convert('L').resize((700,460))) for f in files_test]\n",
    "images_test = np.stack(images_test, axis=0)\n",
    "\n",
    "# Extraction des descripteurs SIFT de toutes les images\n",
    "sift_feat = []\n",
    "for im in tqdm(images):\n",
    "    sift_feat.append(sift.detectAndCompute(im, None)[1])\n",
    "for im in tqdm(images_test):\n",
    "    sift_feat.append(sift.detectAndCompute(im, None)[1])\n",
    "sift_feat = np.vstack(sift_feat)\n",
    "\n",
    "# Création des features SIFT\n",
    "# Attention, la génération prend beaucoup de temps (cf. n_init=20 pour le K-Means)\n",
    "create_sift_feature(300, sift_feat, images, images_test)\n",
    "sift = np.load(\"sift_embedding_300.npy\")\n",
    "sift_test = np.load(\"sift_embedding_test_300.npy\")\n",
    "\n",
    "\n",
    "# -------- Concaténation des features et fitting du modèle --------\n",
    "X = np.concatenate([pftas, chan_stats, hu, haralick, histo11, lbp, sift], axis=1)\n",
    "scaler = StandardScaler()\n",
    "X_scaled = scaler.fit_transform(X)\n",
    "svm = SVC(C=6, kernel=pykernels.Tanimoto())\n",
    "svm.fit(X_scaled, y_train)\n",
    "\n",
    "\n",
    "# -------- Génération des prédictions --------\n",
    "X_test = np.concatenate([pftas_test, chan_stats_test, hu_test, haralick_test, histo11_test, lbp_test, sift_test],\n",
    "                        axis=1)\n",
    "X_test_scaled = scaler.transform(X_test)\n",
    "y_pred = svm.predict(X_test_scaled)\n",
    "df_pred = pd.concat([pd.Series(np.arange(1,208)), pd.Series(y_pred)], axis=1)\n",
    "df_pred.to_csv('predictions.csv', index=False, header=False)"
   ]
  }
 ],
 "metadata": {
  "kernelspec": {
   "display_name": "Python 3 (ipykernel)",
   "language": "python",
   "name": "python3"
  },
  "language_info": {
   "codemirror_mode": {
    "name": "ipython",
    "version": 3
   },
   "file_extension": ".py",
   "mimetype": "text/x-python",
   "name": "python",
   "nbconvert_exporter": "python",
   "pygments_lexer": "ipython3",
   "version": "3.9.2"
  },
  "toc": {
   "base_numbering": 1,
   "nav_menu": {},
   "number_sections": true,
   "sideBar": true,
   "skip_h1_title": false,
   "title_cell": "Table of Contents",
   "title_sidebar": "Contents",
   "toc_cell": false,
   "toc_position": {
    "height": "calc(100% - 180px)",
    "left": "10px",
    "top": "150px",
    "width": "384px"
   },
   "toc_section_display": true,
   "toc_window_display": true
  }
 },
 "nbformat": 4,
 "nbformat_minor": 5
}
